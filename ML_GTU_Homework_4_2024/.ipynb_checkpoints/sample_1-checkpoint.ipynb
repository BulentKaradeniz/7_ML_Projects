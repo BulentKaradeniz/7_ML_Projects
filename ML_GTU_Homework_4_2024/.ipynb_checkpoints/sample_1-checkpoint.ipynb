{
 "cells": [
  {
   "cell_type": "markdown",
   "id": "outdoor-foster",
   "metadata": {
    "id": "Lxw1lE6asBwO",
    "papermill": {
     "duration": 0.024115,
     "end_time": "2021-05-26T14:53:17.585269",
     "exception": false,
     "start_time": "2021-05-26T14:53:17.561154",
     "status": "completed"
    },
    "tags": []
   },
   "source": [
    "# Exploring Principal Component Analysis (PCA)\n",
    "\n",
    "A notebook by Jonathan Kristanto\n",
    "\n",
    "All rights reserved\n",
    "\n",
    "*PS : If you found this notebook helpful, please consider to upvote this notebook. Thank you :D*"
   ]
  },
  {
   "cell_type": "markdown",
   "id": "coral-array",
   "metadata": {
    "id": "bgaBBecN4gZv",
    "papermill": {
     "duration": 0.022415,
     "end_time": "2021-05-26T14:53:17.631558",
     "exception": false,
     "start_time": "2021-05-26T14:53:17.609143",
     "status": "completed"
    },
    "tags": []
   },
   "source": [
    "## 0. Importing Library"
   ]
  },
  {
   "cell_type": "code",
   "execution_count": 1,
   "id": "biblical-fruit",
   "metadata": {
    "execution": {
     "iopub.execute_input": "2021-05-26T14:53:17.683776Z",
     "iopub.status.busy": "2021-05-26T14:53:17.683129Z",
     "iopub.status.idle": "2021-05-26T14:53:18.642809Z",
     "shell.execute_reply": "2021-05-26T14:53:18.641617Z",
     "shell.execute_reply.started": "2021-05-26T14:43:48.631610Z"
    },
    "id": "yXeUG94Hr-7Z",
    "papermill": {
     "duration": 0.989231,
     "end_time": "2021-05-26T14:53:18.642986",
     "exception": false,
     "start_time": "2021-05-26T14:53:17.653755",
     "status": "completed"
    },
    "tags": []
   },
   "outputs": [],
   "source": [
    "import numpy as np\n",
    "import pandas as pd\n",
    "import matplotlib.pyplot as plt\n",
    "%matplotlib inline\n",
    "import seaborn as sns"
   ]
  },
  {
   "cell_type": "markdown",
   "id": "facial-congress",
   "metadata": {
    "id": "PwfvwM0z4j7Z",
    "papermill": {
     "duration": 0.022111,
     "end_time": "2021-05-26T14:53:18.688036",
     "exception": false,
     "start_time": "2021-05-26T14:53:18.665925",
     "status": "completed"
    },
    "tags": []
   },
   "source": [
    "## 1. Loading the datasets"
   ]
  },
  {
   "cell_type": "code",
   "execution_count": 2,
   "id": "regulation-georgia",
   "metadata": {
    "execution": {
     "iopub.execute_input": "2021-05-26T14:53:18.737760Z",
     "iopub.status.busy": "2021-05-26T14:53:18.737049Z",
     "iopub.status.idle": "2021-05-26T14:53:24.279440Z",
     "shell.execute_reply": "2021-05-26T14:53:24.278954Z",
     "shell.execute_reply.started": "2021-05-26T14:43:49.520404Z"
    },
    "id": "Nxn63QYtsPh3",
    "papermill": {
     "duration": 5.568807,
     "end_time": "2021-05-26T14:53:24.279578",
     "exception": false,
     "start_time": "2021-05-26T14:53:18.710771",
     "status": "completed"
    },
    "tags": []
   },
   "outputs": [],
   "source": [
    "from keras.datasets import mnist # MNIST dataset is included in Keras"
   ]
  },
  {
   "cell_type": "markdown",
   "id": "built-samoa",
   "metadata": {
    "id": "JY6mrso85Fd_",
    "papermill": {
     "duration": 0.022021,
     "end_time": "2021-05-26T14:53:24.324308",
     "exception": false,
     "start_time": "2021-05-26T14:53:24.302287",
     "status": "completed"
    },
    "tags": []
   },
   "source": [
    "### Splitting the data into train and test set"
   ]
  },
  {
   "cell_type": "code",
   "execution_count": 3,
   "id": "italic-cedar",
   "metadata": {
    "execution": {
     "iopub.execute_input": "2021-05-26T14:53:24.374049Z",
     "iopub.status.busy": "2021-05-26T14:53:24.373186Z",
     "iopub.status.idle": "2021-05-26T14:53:25.820161Z",
     "shell.execute_reply": "2021-05-26T14:53:25.819683Z",
     "shell.execute_reply.started": "2021-05-26T14:43:55.017276Z"
    },
    "id": "DcZVeZK1y9ue",
    "outputId": "19b29140-8cf2-4d05-cd14-4220cce865c9",
    "papermill": {
     "duration": 1.473706,
     "end_time": "2021-05-26T14:53:25.820295",
     "exception": false,
     "start_time": "2021-05-26T14:53:24.346589",
     "status": "completed"
    },
    "tags": []
   },
   "outputs": [
    {
     "name": "stdout",
     "output_type": "stream",
     "text": [
      "Downloading data from https://storage.googleapis.com/tensorflow/tf-keras-datasets/mnist.npz\n",
      "11493376/11490434 [==============================] - 0s 0us/step\n",
      "X_train shape (60000, 28, 28)\n",
      "y_train shape (60000,)\n",
      "X_test shape (10000, 28, 28)\n",
      "y_test shape (10000,)\n"
     ]
    }
   ],
   "source": [
    "# The MNIST data is split between 60,000 training images and 10,000 test image\n",
    "(X_train, y_train), (X_test, y_test) = mnist.load_data()\n",
    "\n",
    "print(\"X_train shape\", X_train.shape)\n",
    "print(\"y_train shape\", y_train.shape)\n",
    "print(\"X_test shape\", X_test.shape)\n",
    "print(\"y_test shape\", y_test.shape)"
   ]
  },
  {
   "cell_type": "markdown",
   "id": "under-intersection",
   "metadata": {
    "id": "dUwH82yG5OFc",
    "papermill": {
     "duration": 0.023212,
     "end_time": "2021-05-26T14:53:25.867524",
     "exception": false,
     "start_time": "2021-05-26T14:53:25.844312",
     "status": "completed"
    },
    "tags": []
   },
   "source": [
    "### Display Sample Data"
   ]
  },
  {
   "cell_type": "code",
   "execution_count": 4,
   "id": "steady-maintenance",
   "metadata": {
    "execution": {
     "iopub.execute_input": "2021-05-26T14:53:25.917777Z",
     "iopub.status.busy": "2021-05-26T14:53:25.917192Z",
     "iopub.status.idle": "2021-05-26T14:53:26.766714Z",
     "shell.execute_reply": "2021-05-26T14:53:26.766241Z",
     "shell.execute_reply.started": "2021-05-26T14:43:55.515341Z"
    },
    "id": "Xo4v6fbbJjhy",
    "outputId": "66c543d2-faed-4ae3-ae42-473e05336afb",
    "papermill": {
     "duration": 0.875593,
     "end_time": "2021-05-26T14:53:26.766838",
     "exception": false,
     "start_time": "2021-05-26T14:53:25.891245",
     "status": "completed"
    },
    "tags": []
   },
   "outputs": [
    {
     "data": {
      "image/png": "[encoded data removed]",
      "text/plain": [
       "<Figure size 432x432 with 20 Axes>"
      ]
     },
     "metadata": {},
     "output_type": "display_data"
    }
   ],
   "source": [
    "fig = plt.figure(figsize=(6, 6))\n",
    "fig.subplots_adjust(left=0, right=1, bottom=0, top=1, hspace=0.05, wspace=0.05)\n",
    "\n",
    "for i in range(20):\n",
    "    ax = fig.add_subplot(5, 5, i + 1, xticks=[], yticks=[])\n",
    "    ax.imshow(X_train[i], cmap=plt.cm.binary, interpolation='nearest')\n",
    "    # label the image with the target value\n",
    "    ax.text(0, 7, str(y_train[i]))"
   ]
  },
  {
   "cell_type": "markdown",
   "id": "physical-eight",
   "metadata": {
    "id": "w5K1Y3er5SMs",
    "papermill": {
     "duration": 0.024077,
     "end_time": "2021-05-26T14:53:26.816168",
     "exception": false,
     "start_time": "2021-05-26T14:53:26.792091",
     "status": "completed"
    },
    "tags": []
   },
   "source": [
    "### Reshaping the dataset"
   ]
  },
  {
   "cell_type": "code",
   "execution_count": 5,
   "id": "established-abraham",
   "metadata": {
    "execution": {
     "iopub.execute_input": "2021-05-26T14:53:26.870958Z",
     "iopub.status.busy": "2021-05-26T14:53:26.869822Z",
     "iopub.status.idle": "2021-05-26T14:53:26.952711Z",
     "shell.execute_reply": "2021-05-26T14:53:26.952083Z",
     "shell.execute_reply.started": "2021-05-26T14:43:56.550105Z"
    },
    "id": "fO25r17GzAPO",
    "outputId": "5b632a0d-57d3-44f7-8140-82de3e0e85d0",
    "papermill": {
     "duration": 0.112352,
     "end_time": "2021-05-26T14:53:26.952845",
     "exception": false,
     "start_time": "2021-05-26T14:53:26.840493",
     "status": "completed"
    },
    "tags": []
   },
   "outputs": [
    {
     "name": "stdout",
     "output_type": "stream",
     "text": [
      "Training matrix shape (60000, 784)\n",
      "Testing matrix shape (10000, 784)\n"
     ]
    }
   ],
   "source": [
    "# Reshaping the dataset\n",
    "X_train = X_train.reshape(60000, 784) \n",
    "X_test = X_test.reshape(10000, 784)  \n",
    "\n",
    "# Change integers to 32-bit floating point numbers\n",
    "X_train = X_train.astype('float32')   \n",
    "X_test = X_test.astype('float32')\n",
    "\n",
    "print(\"Training matrix shape\", X_train.shape)\n",
    "print(\"Testing matrix shape\", X_test.shape)"
   ]
  },
  {
   "cell_type": "markdown",
   "id": "consistent-panama",
   "metadata": {
    "id": "nv4kCTR-5VcP",
    "papermill": {
     "duration": 0.024207,
     "end_time": "2021-05-26T14:53:27.002001",
     "exception": false,
     "start_time": "2021-05-26T14:53:26.977794",
     "status": "completed"
    },
    "tags": []
   },
   "source": [
    "### Standardizing the data"
   ]
  },
  {
   "cell_type": "code",
   "execution_count": 6,
   "id": "reasonable-sodium",
   "metadata": {
    "execution": {
     "iopub.execute_input": "2021-05-26T14:53:27.055581Z",
     "iopub.status.busy": "2021-05-26T14:53:27.054998Z",
     "iopub.status.idle": "2021-05-26T14:53:28.249752Z",
     "shell.execute_reply": "2021-05-26T14:53:28.249271Z",
     "shell.execute_reply.started": "2021-05-26T14:43:56.621609Z"
    },
    "id": "lSzaC7G_J3Qb",
    "papermill": {
     "duration": 1.223603,
     "end_time": "2021-05-26T14:53:28.249890",
     "exception": false,
     "start_time": "2021-05-26T14:53:27.026287",
     "status": "completed"
    },
    "tags": []
   },
   "outputs": [],
   "source": [
    "# Apply standarization to both train and test data\n",
    "from sklearn.preprocessing import StandardScaler\n",
    "X_train = StandardScaler().fit_transform(X_train)\n",
    "X_test = StandardScaler().fit_transform(X_test)"
   ]
  },
  {
   "cell_type": "markdown",
   "id": "detailed-florida",
   "metadata": {
    "id": "CcpEu2e6LGwL",
    "papermill": {
     "duration": 0.024668,
     "end_time": "2021-05-26T14:53:28.299552",
     "exception": false,
     "start_time": "2021-05-26T14:53:28.274884",
     "status": "completed"
    },
    "tags": []
   },
   "source": [
    "## 2. PCA on MNIST Digit Recognition"
   ]
  },
  {
   "cell_type": "markdown",
   "id": "great-ordinary",
   "metadata": {
    "id": "b-wm_ROp3PQD",
    "papermill": {
     "duration": 0.024322,
     "end_time": "2021-05-26T14:53:28.348234",
     "exception": false,
     "start_time": "2021-05-26T14:53:28.323912",
     "status": "completed"
    },
    "tags": []
   },
   "source": [
    "Step 0 : Import the PCA model from the sklearn library and do dimentional reduction on the data"
   ]
  },
  {
   "cell_type": "code",
   "execution_count": 7,
   "id": "central-plane",
   "metadata": {
    "execution": {
     "iopub.execute_input": "2021-05-26T14:53:28.401928Z",
     "iopub.status.busy": "2021-05-26T14:53:28.401296Z",
     "iopub.status.idle": "2021-05-26T14:53:28.570892Z",
     "shell.execute_reply": "2021-05-26T14:53:28.570383Z",
     "shell.execute_reply.started": "2021-05-26T14:43:57.822057Z"
    },
    "id": "D-a8Zk9L2EKQ",
    "papermill": {
     "duration": 0.198538,
     "end_time": "2021-05-26T14:53:28.571028",
     "exception": false,
     "start_time": "2021-05-26T14:53:28.372490",
     "status": "completed"
    },
    "tags": []
   },
   "outputs": [],
   "source": [
    "# initializing the pca\n",
    "from sklearn.decomposition import PCA"
   ]
  },
  {
   "cell_type": "markdown",
   "id": "killing-thermal",
   "metadata": {
    "id": "gNxV_gBN2Q7n",
    "papermill": {
     "duration": 0.024207,
     "end_time": "2021-05-26T14:53:28.620115",
     "exception": false,
     "start_time": "2021-05-26T14:53:28.595908",
     "status": "completed"
    },
    "tags": []
   },
   "source": [
    "Fit the PCA on the training set and set the model to retain 95% of the variance"
   ]
  },
  {
   "cell_type": "code",
   "execution_count": 8,
   "id": "automotive-marathon",
   "metadata": {
    "execution": {
     "iopub.execute_input": "2021-05-26T14:53:28.673887Z",
     "iopub.status.busy": "2021-05-26T14:53:28.673295Z",
     "iopub.status.idle": "2021-05-26T14:53:32.420317Z",
     "shell.execute_reply": "2021-05-26T14:53:32.419866Z",
     "shell.execute_reply.started": "2021-05-26T14:43:58.007678Z"
    },
    "id": "p-TDhIda1yFl",
    "outputId": "abe05090-8f00-4e35-e7c8-9a1115d3ba60",
    "papermill": {
     "duration": 3.77554,
     "end_time": "2021-05-26T14:53:32.420449",
     "exception": false,
     "start_time": "2021-05-26T14:53:28.644909",
     "status": "completed"
    },
    "tags": []
   },
   "outputs": [
    {
     "data": {
      "text/plain": [
       "PCA(n_components=0.95)"
      ]
     },
     "execution_count": 8,
     "metadata": {},
     "output_type": "execute_result"
    }
   ],
   "source": [
    "pca = PCA(n_components=.95)\n",
    "pca.fit(X_train)"
   ]
  },
  {
   "cell_type": "code",
   "execution_count": 9,
   "id": "southeast-startup",
   "metadata": {
    "execution": {
     "iopub.execute_input": "2021-05-26T14:53:32.474999Z",
     "iopub.status.busy": "2021-05-26T14:53:32.474418Z",
     "iopub.status.idle": "2021-05-26T14:53:32.477125Z",
     "shell.execute_reply": "2021-05-26T14:53:32.477571Z",
     "shell.execute_reply.started": "2021-05-26T14:44:01.976116Z"
    },
    "id": "j2srTSkW17N9",
    "outputId": "d0201a2e-9f58-4c80-f0cb-22448d19c54c",
    "papermill": {
     "duration": 0.03213,
     "end_time": "2021-05-26T14:53:32.477757",
     "exception": false,
     "start_time": "2021-05-26T14:53:32.445627",
     "status": "completed"
    },
    "tags": []
   },
   "outputs": [
    {
     "name": "stdout",
     "output_type": "stream",
     "text": [
      "Total number of components used after PCA : 331\n"
     ]
    }
   ],
   "source": [
    "print(f'Total number of components used after PCA : {pca.n_components_}')"
   ]
  },
  {
   "cell_type": "markdown",
   "id": "mobile-peeing",
   "metadata": {
    "id": "oq1JYbM42v1H",
    "papermill": {
     "duration": 0.02451,
     "end_time": "2021-05-26T14:53:32.527249",
     "exception": false,
     "start_time": "2021-05-26T14:53:32.502739",
     "status": "completed"
    },
    "tags": []
   },
   "source": [
    "Apply the mapping to the training & test set of data"
   ]
  },
  {
   "cell_type": "code",
   "execution_count": 10,
   "id": "related-affairs",
   "metadata": {
    "execution": {
     "iopub.execute_input": "2021-05-26T14:53:32.581908Z",
     "iopub.status.busy": "2021-05-26T14:53:32.581043Z",
     "iopub.status.idle": "2021-05-26T14:53:33.088209Z",
     "shell.execute_reply": "2021-05-26T14:53:33.088998Z",
     "shell.execute_reply.started": "2021-05-26T14:44:01.984173Z"
    },
    "id": "fyn0JcvO2y_8",
    "outputId": "b643f4c1-41eb-4366-b093-e9580c95bfa3",
    "papermill": {
     "duration": 0.536243,
     "end_time": "2021-05-26T14:53:33.089241",
     "exception": false,
     "start_time": "2021-05-26T14:53:32.552998",
     "status": "completed"
    },
    "tags": []
   },
   "outputs": [
    {
     "name": "stdout",
     "output_type": "stream",
     "text": [
      "train_img shape : (60000, 331)\n",
      "test_img shape : (10000, 331)\n"
     ]
    }
   ],
   "source": [
    "train_img = pca.transform(X_train)\n",
    "test_img = pca.transform(X_test)\n",
    "\n",
    "print(f'train_img shape : {train_img.shape}')\n",
    "print(f'test_img shape : {test_img.shape}')"
   ]
  },
  {
   "cell_type": "markdown",
   "id": "private-board",
   "metadata": {
    "id": "kDwULIMi5j-H",
    "papermill": {
     "duration": 0.047786,
     "end_time": "2021-05-26T14:53:33.185671",
     "exception": false,
     "start_time": "2021-05-26T14:53:33.137885",
     "status": "completed"
    },
    "tags": []
   },
   "source": [
    "## 3. Train the Multilayer Neural Network model"
   ]
  },
  {
   "cell_type": "markdown",
   "id": "associate-security",
   "metadata": {
    "id": "T7-_KQCL5uNn",
    "papermill": {
     "duration": 0.02517,
     "end_time": "2021-05-26T14:53:33.245380",
     "exception": false,
     "start_time": "2021-05-26T14:53:33.220210",
     "status": "completed"
    },
    "tags": []
   },
   "source": [
    "For this task, I'm going to use the **Multi Layered Perceptron** model"
   ]
  },
  {
   "cell_type": "code",
   "execution_count": 11,
   "id": "black-puppy",
   "metadata": {
    "execution": {
     "iopub.execute_input": "2021-05-26T14:53:33.301131Z",
     "iopub.status.busy": "2021-05-26T14:53:33.300463Z",
     "iopub.status.idle": "2021-05-26T14:53:33.312248Z",
     "shell.execute_reply": "2021-05-26T14:53:33.311614Z",
     "shell.execute_reply.started": "2021-05-26T14:44:02.485620Z"
    },
    "id": "hP5L6s3x6KD5",
    "papermill": {
     "duration": 0.041473,
     "end_time": "2021-05-26T14:53:33.312382",
     "exception": false,
     "start_time": "2021-05-26T14:53:33.270909",
     "status": "completed"
    },
    "tags": []
   },
   "outputs": [],
   "source": [
    "from sklearn.neural_network import MLPClassifier"
   ]
  },
  {
   "cell_type": "code",
   "execution_count": 12,
   "id": "nervous-madness",
   "metadata": {
    "execution": {
     "iopub.execute_input": "2021-05-26T14:53:33.367484Z",
     "iopub.status.busy": "2021-05-26T14:53:33.366903Z",
     "iopub.status.idle": "2021-05-26T14:53:33.368830Z",
     "shell.execute_reply": "2021-05-26T14:53:33.369266Z",
     "shell.execute_reply.started": "2021-05-26T14:44:02.512406Z"
    },
    "id": "F1HDwHnm6PgX",
    "papermill": {
     "duration": 0.031734,
     "end_time": "2021-05-26T14:53:33.369434",
     "exception": false,
     "start_time": "2021-05-26T14:53:33.337700",
     "status": "completed"
    },
    "tags": []
   },
   "outputs": [],
   "source": [
    "# all parameters not specified are set to their defaults\n",
    "# default solver is incredibly slow thats why we change it\n",
    "# solver = 'lbfgs'\n",
    "clf = MLPClassifier(solver = 'lbfgs')"
   ]
  },
  {
   "cell_type": "code",
   "execution_count": 13,
   "id": "ignored-recruitment",
   "metadata": {
    "execution": {
     "iopub.execute_input": "2021-05-26T14:53:33.422882Z",
     "iopub.status.busy": "2021-05-26T14:53:33.422199Z",
     "iopub.status.idle": "2021-05-26T14:54:37.989311Z",
     "shell.execute_reply": "2021-05-26T14:54:37.990053Z",
     "shell.execute_reply.started": "2021-05-26T14:44:02.526859Z"
    },
    "id": "CScU2Xpg7OUm",
    "outputId": "3473037c-61e0-4846-9f31-bf9640e66cef",
    "papermill": {
     "duration": 64.595575,
     "end_time": "2021-05-26T14:54:37.990340",
     "exception": false,
     "start_time": "2021-05-26T14:53:33.394765",
     "status": "completed"
    },
    "tags": []
   },
   "outputs": [
    {
     "data": {
      "text/plain": [
       "MLPClassifier(solver='lbfgs')"
      ]
     },
     "execution_count": 13,
     "metadata": {},
     "output_type": "execute_result"
    }
   ],
   "source": [
    "clf.fit(train_img, y_train)"
   ]
  },
  {
   "cell_type": "code",
   "execution_count": 14,
   "id": "upset-lawsuit",
   "metadata": {
    "execution": {
     "iopub.execute_input": "2021-05-26T14:54:38.053467Z",
     "iopub.status.busy": "2021-05-26T14:54:38.052900Z",
     "iopub.status.idle": "2021-05-26T14:54:38.393695Z",
     "shell.execute_reply": "2021-05-26T14:54:38.392923Z",
     "shell.execute_reply.started": "2021-05-26T14:45:05.794069Z"
    },
    "id": "sIwTQ__47b8T",
    "outputId": "fcbbea5f-d7a8-42e3-ab40-6a83f545cc6d",
    "papermill": {
     "duration": 0.372076,
     "end_time": "2021-05-26T14:54:38.393913",
     "exception": false,
     "start_time": "2021-05-26T14:54:38.021837",
     "status": "completed"
    },
    "tags": []
   },
   "outputs": [
    {
     "name": "stdout",
     "output_type": "stream",
     "text": [
      "Training score :  1.0\n",
      "Testing score  :  0.9728\n"
     ]
    }
   ],
   "source": [
    "print('Training score : ', clf.score(train_img, y_train))\n",
    "print('Testing score  : ', clf.score(test_img, y_test))"
   ]
  },
  {
   "cell_type": "markdown",
   "id": "continent-keyboard",
   "metadata": {
    "id": "lGzOMZt67U-y",
    "papermill": {
     "duration": 0.049739,
     "end_time": "2021-05-26T14:54:38.493865",
     "exception": false,
     "start_time": "2021-05-26T14:54:38.444126",
     "status": "completed"
    },
    "tags": []
   },
   "source": [
    "## 4. Experiment"
   ]
  },
  {
   "cell_type": "markdown",
   "id": "successful-nerve",
   "metadata": {
    "id": "xwUKvK7q_Cqz",
    "papermill": {
     "duration": 0.025934,
     "end_time": "2021-05-26T14:54:38.549188",
     "exception": false,
     "start_time": "2021-05-26T14:54:38.523254",
     "status": "completed"
    },
    "tags": []
   },
   "source": [
    "Now let's experiment with using multiple dimension input and see which \n",
    "PCA settings is the most optimal for reducing fit times while retaining high accuracy"
   ]
  },
  {
   "cell_type": "code",
   "execution_count": 15,
   "id": "seven-bride",
   "metadata": {
    "execution": {
     "iopub.execute_input": "2021-05-26T14:54:38.606717Z",
     "iopub.status.busy": "2021-05-26T14:54:38.606081Z",
     "iopub.status.idle": "2021-05-26T14:54:38.609621Z",
     "shell.execute_reply": "2021-05-26T14:54:38.609085Z",
     "shell.execute_reply.started": "2021-05-26T14:45:06.216212Z"
    },
    "id": "lCozZaE1COYW",
    "outputId": "cb3b7ca9-0d21-469e-8b95-3446d34d3e1a",
    "papermill": {
     "duration": 0.033802,
     "end_time": "2021-05-26T14:54:38.609761",
     "exception": false,
     "start_time": "2021-05-26T14:54:38.575959",
     "status": "completed"
    },
    "tags": []
   },
   "outputs": [
    {
     "data": {
      "text/plain": [
       "(60000, 784)"
      ]
     },
     "execution_count": 15,
     "metadata": {},
     "output_type": "execute_result"
    }
   ],
   "source": [
    "# The data used is the original train and test data\n",
    "X_train.shape"
   ]
  },
  {
   "cell_type": "markdown",
   "id": "specified-function",
   "metadata": {
    "id": "_Qv1GIdR_1QG",
    "papermill": {
     "duration": 0.026186,
     "end_time": "2021-05-26T14:54:38.662126",
     "exception": false,
     "start_time": "2021-05-26T14:54:38.635940",
     "status": "completed"
    },
    "tags": []
   },
   "source": [
    "#### Prepare the data\n",
    "\n",
    "Let's try to reduce the data dimension while retaining **85%, 90%, 95%, and 99%** of the variance"
   ]
  },
  {
   "cell_type": "code",
   "execution_count": 16,
   "id": "oriental-bunny",
   "metadata": {
    "execution": {
     "iopub.execute_input": "2021-05-26T14:54:38.718453Z",
     "iopub.status.busy": "2021-05-26T14:54:38.717903Z",
     "iopub.status.idle": "2021-05-26T14:54:55.977582Z",
     "shell.execute_reply": "2021-05-26T14:54:55.978379Z",
     "shell.execute_reply.started": "2021-05-26T14:45:06.226994Z"
    },
    "id": "sdcgfDHi_2V7",
    "outputId": "ec904e4c-0e02-46d2-a7db-d5f5ddd7c080",
    "papermill": {
     "duration": 17.289914,
     "end_time": "2021-05-26T14:54:55.978636",
     "exception": false,
     "start_time": "2021-05-26T14:54:38.688722",
     "status": "completed"
    },
    "tags": []
   },
   "outputs": [
    {
     "name": "stdout",
     "output_type": "stream",
     "text": [
      "Dataset dimensional reduction with 85.0% variance retained\n",
      "============================================================\n",
      "> Total number of components for variance 0.85 : 185\n",
      "> Train data shape : (60000, 185)\n",
      "> Test data shape  : (10000, 185)\n",
      "\n",
      "Dataset dimensional reduction with 90.0% variance retained\n",
      "============================================================\n",
      "> Total number of components for variance 0.9 : 236\n",
      "> Train data shape : (60000, 236)\n",
      "> Test data shape  : (10000, 236)\n",
      "\n",
      "Dataset dimensional reduction with 95.0% variance retained\n",
      "============================================================\n",
      "> Total number of components for variance 0.95 : 331\n",
      "> Train data shape : (60000, 331)\n",
      "> Test data shape  : (10000, 331)\n",
      "\n",
      "Dataset dimensional reduction with 99.0% variance retained\n",
      "============================================================\n",
      "> Total number of components for variance 0.99 : 543\n",
      "> Train data shape : (60000, 543)\n",
      "> Test data shape  : (10000, 543)\n",
      "\n"
     ]
    }
   ],
   "source": [
    "from sklearn.decomposition import PCA\n",
    "list_variance = [.85, .90, .95, .99]\n",
    "train_data = []\n",
    "test_data = []\n",
    "i = 0\n",
    "\n",
    "for variance in list_variance:\n",
    "  print(f'Dataset dimensional reduction with {variance*100}% variance retained')\n",
    "  print('='*60)\n",
    "\n",
    "  pca = PCA(n_components=variance)\n",
    "  pca.fit(X_train)\n",
    "\n",
    "  train_data.append(pca.transform(X_train))\n",
    "  test_data.append(pca.transform(X_test))\n",
    "\n",
    "  print(f'> Total number of components for variance {variance} : {pca.n_components_}')\n",
    "  print(f'> Train data shape : {train_data[i].shape}')\n",
    "  print(f'> Test data shape  : {test_data[i].shape}\\n')\n",
    "  i += 1"
   ]
  },
  {
   "cell_type": "markdown",
   "id": "vital-sailing",
   "metadata": {
    "id": "4LSWDJNBOg88",
    "papermill": {
     "duration": 0.05642,
     "end_time": "2021-05-26T14:54:56.087981",
     "exception": false,
     "start_time": "2021-05-26T14:54:56.031561",
     "status": "completed"
    },
    "tags": []
   },
   "source": [
    "#### Control Result \n",
    "\n",
    "Control result is the accuracy and train time that is taken by the model using the original data without dimentional reduction\n",
    "\n",
    "For experimentation purpose, I set some control variables which are \n",
    "\n",
    "* **Solver** which set to the type of 'lbfgs' which can converge faster [reference here](https://scikit-learn.org/stable/modules/generated/sklearn.neural_network.MLPClassifier.html)\n",
    "* **Max iteration** to 100\n",
    "* Code run on google colaboratory"
   ]
  },
  {
   "cell_type": "code",
   "execution_count": 17,
   "id": "rotary-cradle",
   "metadata": {
    "execution": {
     "iopub.execute_input": "2021-05-26T14:54:56.152116Z",
     "iopub.status.busy": "2021-05-26T14:54:56.151170Z",
     "iopub.status.idle": "2021-05-26T14:54:56.153944Z",
     "shell.execute_reply": "2021-05-26T14:54:56.153449Z",
     "shell.execute_reply.started": "2021-05-26T14:45:24.400315Z"
    },
    "id": "HLYW0oGFO5mm",
    "papermill": {
     "duration": 0.035285,
     "end_time": "2021-05-26T14:54:56.154082",
     "exception": false,
     "start_time": "2021-05-26T14:54:56.118797",
     "status": "completed"
    },
    "tags": []
   },
   "outputs": [],
   "source": [
    "from sklearn.neural_network import MLPClassifier\n",
    "import time\n",
    "import warnings\n",
    "warnings.filterwarnings(\"ignore\")"
   ]
  },
  {
   "cell_type": "code",
   "execution_count": 18,
   "id": "every-button",
   "metadata": {
    "execution": {
     "iopub.execute_input": "2021-05-26T14:54:56.213720Z",
     "iopub.status.busy": "2021-05-26T14:54:56.212835Z",
     "iopub.status.idle": "2021-05-26T14:56:20.209786Z",
     "shell.execute_reply": "2021-05-26T14:56:20.210679Z",
     "shell.execute_reply.started": "2021-05-26T14:45:24.409606Z"
    },
    "id": "3ins5_iUOwyW",
    "outputId": "83a2eb53-fe1d-4932-87e7-4becc1b59686",
    "papermill": {
     "duration": 84.029019,
     "end_time": "2021-05-26T14:56:20.210947",
     "exception": false,
     "start_time": "2021-05-26T14:54:56.181928",
     "status": "completed"
    },
    "tags": []
   },
   "outputs": [
    {
     "name": "stdout",
     "output_type": "stream",
     "text": [
      "Control result with original dataset (100% variance)\n",
      "============================================================\n",
      "Training score :  1.0\n",
      "Testing score  :  0.9718\n",
      "Time (seconds) : 83.31805324554443 \n",
      "\n"
     ]
    }
   ],
   "source": [
    "start_time = time.time()\n",
    "clf = MLPClassifier(solver = 'lbfgs', max_iter=100)\n",
    "clf.fit(X_train, y_train)\n",
    "end_time = time.time()\n",
    "\n",
    "print(f'Control result with original dataset (100% variance)')\n",
    "print('='*60)\n",
    "print(f'Training score : ', clf.score(X_train, y_train))\n",
    "print(f'Testing score  : ', clf.score(X_test, y_test))\n",
    "print(f'Time (seconds) : {end_time - start_time} \\n')"
   ]
  },
  {
   "cell_type": "markdown",
   "id": "linear-quarterly",
   "metadata": {
    "id": "F8q7JKGwNTUn",
    "papermill": {
     "duration": 0.054189,
     "end_time": "2021-05-26T14:56:20.318518",
     "exception": false,
     "start_time": "2021-05-26T14:56:20.264329",
     "status": "completed"
    },
    "tags": []
   },
   "source": [
    "#### Testing\n",
    "\n",
    "Independent variables : Data variance\n",
    "\n",
    "Dependent variables : Training score, Testing score, Train time"
   ]
  },
  {
   "cell_type": "code",
   "execution_count": 19,
   "id": "located-specific",
   "metadata": {
    "execution": {
     "iopub.execute_input": "2021-05-26T14:56:20.381705Z",
     "iopub.status.busy": "2021-05-26T14:56:20.381064Z",
     "iopub.status.idle": "2021-05-26T15:00:48.135315Z",
     "shell.execute_reply": "2021-05-26T15:00:48.136127Z",
     "shell.execute_reply.started": "2021-05-26T14:47:08.276284Z"
    },
    "id": "r4iCsyUhF8yX",
    "outputId": "66b08b52-3b1f-4f3a-c105-f0849ac9ba8e",
    "papermill": {
     "duration": 267.789915,
     "end_time": "2021-05-26T15:00:48.136399",
     "exception": false,
     "start_time": "2021-05-26T14:56:20.346484",
     "status": "completed"
    },
    "tags": []
   },
   "outputs": [
    {
     "name": "stdout",
     "output_type": "stream",
     "text": [
      "Dataset with 85.0% variance retained\n",
      "========================================\n",
      "Training score :  1.0\n",
      "Testing score  :  0.9729\n",
      "Time (seconds) : 57.92865324020386 \n",
      "\n",
      "Dataset with 90.0% variance retained\n",
      "========================================\n",
      "Training score :  1.0\n",
      "Testing score  :  0.9736\n",
      "Time (seconds) : 62.24691963195801 \n",
      "\n",
      "Dataset with 95.0% variance retained\n",
      "========================================\n",
      "Training score :  1.0\n",
      "Testing score  :  0.972\n",
      "Time (seconds) : 68.37858891487122 \n",
      "\n",
      "Dataset with 99.0% variance retained\n",
      "========================================\n",
      "Training score :  1.0\n",
      "Testing score  :  0.9722\n",
      "Time (seconds) : 77.46812129020691 \n",
      "\n"
     ]
    }
   ],
   "source": [
    "for i in range(0, 4):\n",
    "  start_time = time.time()\n",
    "  clf = MLPClassifier(solver = 'lbfgs', max_iter=100)\n",
    "  clf.fit(train_data[i], y_train)\n",
    "  end_time = time.time()\n",
    "\n",
    "  print(f'Dataset with {list_variance[i]*100}% variance retained')\n",
    "  print('='*40)\n",
    "  print(f'Training score : ', clf.score(train_data[i], y_train))\n",
    "  print(f'Testing score  : ', clf.score(test_data[i], y_test))\n",
    "  print(f'Time (seconds) : {end_time - start_time} \\n')"
   ]
  },
  {
   "cell_type": "markdown",
   "id": "popular-yellow",
   "metadata": {
    "id": "Erj-0PJTSa1i",
    "papermill": {
     "duration": 0.052916,
     "end_time": "2021-05-26T15:00:48.247830",
     "exception": false,
     "start_time": "2021-05-26T15:00:48.194914",
     "status": "completed"
    },
    "tags": []
   },
   "source": [
    "#### Function to plot training & validation accuracy curves\n",
    "\n",
    "Source : https://scikit-learn.org/stable/auto_examples/model_selection/plot_learning_curve.html"
   ]
  },
  {
   "cell_type": "code",
   "execution_count": 20,
   "id": "harmful-fleet",
   "metadata": {
    "execution": {
     "iopub.execute_input": "2021-05-26T15:00:48.319688Z",
     "iopub.status.busy": "2021-05-26T15:00:48.318966Z",
     "iopub.status.idle": "2021-05-26T15:00:48.322464Z",
     "shell.execute_reply": "2021-05-26T15:00:48.321977Z",
     "shell.execute_reply.started": "2021-05-26T14:51:27.961949Z"
    },
    "id": "NlHsUry7O7Ih",
    "papermill": {
     "duration": 0.044568,
     "end_time": "2021-05-26T15:00:48.322610",
     "exception": false,
     "start_time": "2021-05-26T15:00:48.278042",
     "status": "completed"
    },
    "tags": []
   },
   "outputs": [],
   "source": [
    "import numpy as np\n",
    "import matplotlib.pyplot as plt\n",
    "from sklearn.model_selection import learning_curve\n",
    "from sklearn.model_selection import ShuffleSplit\n",
    "\n",
    "def plot_learning_curve(estimator, title, X, y, axes=None, ylim=None, cv=None,\n",
    "                        n_jobs=None, train_sizes=np.linspace(.1, 1.0, 5)):\n",
    "    if axes is None:\n",
    "        _, axes = plt.subplots(1, 2, figsize=(8, 5))\n",
    "\n",
    "    axes[0].set_title(title)\n",
    "    if ylim is not None:\n",
    "        axes[0].set_ylim(*ylim)\n",
    "    axes[0].set_xlabel(\"Training examples\")\n",
    "    axes[0].set_ylabel(\"Score\")\n",
    "\n",
    "    train_sizes, train_scores, test_scores, fit_times, _ = \\\n",
    "        learning_curve(estimator, X, y, cv=cv, n_jobs=n_jobs,\n",
    "                       train_sizes=train_sizes,\n",
    "                       return_times=True)\n",
    "    train_scores_mean = np.mean(train_scores, axis=1)\n",
    "    train_scores_std = np.std(train_scores, axis=1)\n",
    "    test_scores_mean = np.mean(test_scores, axis=1)\n",
    "    test_scores_std = np.std(test_scores, axis=1)\n",
    "    fit_times_mean = np.mean(fit_times, axis=1)\n",
    "    fit_times_std = np.std(fit_times, axis=1)\n",
    "\n",
    "    # Plot learning curve\n",
    "    axes[0].grid()\n",
    "    axes[0].fill_between(train_sizes, train_scores_mean - train_scores_std,\n",
    "                         train_scores_mean + train_scores_std, alpha=0.1,\n",
    "                         color=\"r\")\n",
    "    axes[0].fill_between(train_sizes, test_scores_mean - test_scores_std,\n",
    "                         test_scores_mean + test_scores_std, alpha=0.1,\n",
    "                         color=\"g\")\n",
    "    axes[0].plot(train_sizes, train_scores_mean, 'o-', color=\"r\",\n",
    "                 label=\"Training score\")\n",
    "    axes[0].plot(train_sizes, test_scores_mean, 'o-', color=\"g\",\n",
    "                 label=\"Cross-validation score\")\n",
    "    axes[0].legend(loc=\"best\")\n",
    "\n",
    "    # Plot fit_time vs score\n",
    "    axes[1].grid()\n",
    "    axes[1].plot(fit_times_mean, test_scores_mean, 'o-')\n",
    "    axes[1].fill_between(fit_times_mean, test_scores_mean - test_scores_std,\n",
    "                         test_scores_mean + test_scores_std, alpha=0.1)\n",
    "    axes[1].set_xlabel(\"fit_times\")\n",
    "    axes[1].set_ylabel(\"Score\")\n",
    "    axes[1].set_title(\"Performance of the model\")\n",
    "\n",
    "    return plt"
   ]
  },
  {
   "cell_type": "markdown",
   "id": "together-growing",
   "metadata": {
    "id": "teS-ATA-Srwl",
    "papermill": {
     "duration": 0.029675,
     "end_time": "2021-05-26T15:00:48.381881",
     "exception": false,
     "start_time": "2021-05-26T15:00:48.352206",
     "status": "completed"
    },
    "tags": []
   },
   "source": [
    "### Generate Training accuracy & Validation accuracy curves"
   ]
  },
  {
   "cell_type": "code",
   "execution_count": 21,
   "id": "downtown-portugal",
   "metadata": {
    "execution": {
     "iopub.execute_input": "2021-05-26T15:00:48.466423Z",
     "iopub.status.busy": "2021-05-26T15:00:48.465422Z",
     "iopub.status.idle": "2021-05-26T15:01:51.692748Z",
     "shell.execute_reply": "2021-05-26T15:01:51.693200Z",
     "shell.execute_reply.started": "2021-05-26T14:51:27.989297Z"
    },
    "id": "i7quX2bUSYWn",
    "outputId": "c3040ab2-663d-403b-a06a-69c0c8550484",
    "papermill": {
     "duration": 63.281776,
     "end_time": "2021-05-26T15:01:51.693366",
     "exception": false,
     "start_time": "2021-05-26T15:00:48.411590",
     "status": "completed"
    },
    "tags": []
   },
   "outputs": [
    {
     "data": {
      "image/png": "[encoded data removed]",
      "text/plain": [
       "<Figure size 1800x1080 with 8 Axes>"
      ]
     },
     "metadata": {
      "needs_background": "light"
     },
     "output_type": "display_data"
    }
   ],
   "source": [
    "cv = ShuffleSplit(n_splits=5, test_size=0.2, random_state=0)\n",
    "\n",
    "fig, axes = plt.subplots(2, 4, figsize=(25, 15))\n",
    "\n",
    "for i in range(0,4):\n",
    "  title = \"Performance of model with \" + str(list_variance[i]) + \" data variance\"\n",
    "  estimator = MLPClassifier(solver = 'lbfgs', max_iter=100)\n",
    "  plot_learning_curve(estimator, title, test_data[i], y_test, axes=axes[:, i],\n",
    "                        ylim=(0.7, 1.01), cv=cv, n_jobs=-1)\n",
    "\n",
    "plt.show()"
   ]
  },
  {
   "cell_type": "markdown",
   "id": "partial-nelson",
   "metadata": {
    "id": "BGJHUvPXNYSa",
    "papermill": {
     "duration": 0.032215,
     "end_time": "2021-05-26T15:01:51.759030",
     "exception": false,
     "start_time": "2021-05-26T15:01:51.726815",
     "status": "completed"
    },
    "tags": []
   },
   "source": [
    "## Result Analysis"
   ]
  },
  {
   "cell_type": "code",
   "execution_count": 22,
   "id": "adequate-letters",
   "metadata": {
    "execution": {
     "iopub.execute_input": "2021-05-26T15:01:51.830773Z",
     "iopub.status.busy": "2021-05-26T15:01:51.830159Z",
     "iopub.status.idle": "2021-05-26T15:01:51.833161Z",
     "shell.execute_reply": "2021-05-26T15:01:51.833568Z",
     "shell.execute_reply.started": "2021-05-26T14:52:40.413815Z"
    },
    "id": "g-m25OULU3wF",
    "outputId": "671476eb-9fdb-4b0d-be9f-bc004e3348eb",
    "papermill": {
     "duration": 0.042378,
     "end_time": "2021-05-26T15:01:51.833772",
     "exception": false,
     "start_time": "2021-05-26T15:01:51.791394",
     "status": "completed"
    },
    "tags": []
   },
   "outputs": [
    {
     "data": {
      "text/plain": [
       "[76.4, 69.9, 57.78, 30.74, 0.0]"
      ]
     },
     "execution_count": 22,
     "metadata": {},
     "output_type": "execute_result"
    }
   ],
   "source": [
    "# Calculate component reduction percentage\n",
    "\n",
    "components = [185, 236, 331, 543, 784]\n",
    "components_reduction = []\n",
    "\n",
    "for cc in components:\n",
    "  z = (1.0 - (cc / 784)) * 100\n",
    "  z = round(z, 2)\n",
    "  components_reduction.append(z)\n",
    "\n",
    "components_reduction"
   ]
  },
  {
   "cell_type": "code",
   "execution_count": 23,
   "id": "stopped-april",
   "metadata": {
    "execution": {
     "iopub.execute_input": "2021-05-26T15:01:51.903499Z",
     "iopub.status.busy": "2021-05-26T15:01:51.902934Z",
     "iopub.status.idle": "2021-05-26T15:01:51.908765Z",
     "shell.execute_reply": "2021-05-26T15:01:51.909267Z",
     "shell.execute_reply.started": "2021-05-26T14:52:40.424244Z"
    },
    "id": "yJ4C-OIHScac",
    "outputId": "e63e6710-7fc4-4232-d9ec-d52892129625",
    "papermill": {
     "duration": 0.042062,
     "end_time": "2021-05-26T15:01:51.909442",
     "exception": false,
     "start_time": "2021-05-26T15:01:51.867380",
     "status": "completed"
    },
    "tags": []
   },
   "outputs": [
    {
     "data": {
      "text/plain": [
       "[42.3, 35.42, 27.94, 15.38, 0.0]"
      ]
     },
     "execution_count": 23,
     "metadata": {},
     "output_type": "execute_result"
    }
   ],
   "source": [
    "# Calculate training time reduction percentage\n",
    "\n",
    "train_time = [43.96, 49.2, 54.9,64.47, 76.19]\n",
    "train_time_reduction = []\n",
    "\n",
    "for time in train_time:\n",
    "  reduction = (1.0 - (time / 76.19)) * 100\n",
    "  reduction = round(reduction, 2)\n",
    "  train_time_reduction.append(reduction)\n",
    "\n",
    "train_time_reduction"
   ]
  },
  {
   "cell_type": "code",
   "execution_count": 24,
   "id": "selective-monaco",
   "metadata": {
    "execution": {
     "iopub.execute_input": "2021-05-26T15:01:51.982762Z",
     "iopub.status.busy": "2021-05-26T15:01:51.982096Z",
     "iopub.status.idle": "2021-05-26T15:01:51.985086Z",
     "shell.execute_reply": "2021-05-26T15:01:51.985477Z",
     "shell.execute_reply.started": "2021-05-26T14:52:40.446089Z"
    },
    "id": "ssks9xn7UDJH",
    "outputId": "125c72e5-60a3-4abc-bbe6-6096f153cb92",
    "papermill": {
     "duration": 0.042384,
     "end_time": "2021-05-26T15:01:51.985661",
     "exception": false,
     "start_time": "2021-05-26T15:01:51.943277",
     "status": "completed"
    },
    "tags": []
   },
   "outputs": [
    {
     "data": {
      "text/plain": [
       "[0.0022, 0.0, 0.0011, 0.0009, 0.0]"
      ]
     },
     "execution_count": 24,
     "metadata": {},
     "output_type": "execute_result"
    }
   ],
   "source": [
    "# Calculate accuracy difference\n",
    "\n",
    "accuracy = [0.9722, 0.9744, 0.9733, 0.9735, 0.9744]\n",
    "accuracy_diff = []\n",
    "\n",
    "for acc in accuracy:\n",
    "  x = 0.9744 - acc\n",
    "  x = round(x, 4)\n",
    "  accuracy_diff.append(x)\n",
    "\n",
    "accuracy_diff"
   ]
  },
  {
   "cell_type": "code",
   "execution_count": 25,
   "id": "partial-intensity",
   "metadata": {
    "execution": {
     "iopub.execute_input": "2021-05-26T15:01:52.055836Z",
     "iopub.status.busy": "2021-05-26T15:01:52.055286Z",
     "iopub.status.idle": "2021-05-26T15:01:52.090063Z",
     "shell.execute_reply": "2021-05-26T15:01:52.090452Z",
     "shell.execute_reply.started": "2021-05-26T14:52:40.458824Z"
    },
    "id": "juNFsiLpRQqq",
    "outputId": "d6061392-4971-4909-c0ff-64199a65c809",
    "papermill": {
     "duration": 0.071431,
     "end_time": "2021-05-26T15:01:52.090658",
     "exception": false,
     "start_time": "2021-05-26T15:01:52.019227",
     "status": "completed"
    },
    "tags": []
   },
   "outputs": [
    {
     "data": {
      "text/html": [
       "<div>\n",
       "<style scoped>\n",
       "    .dataframe tbody tr th:only-of-type {\n",
       "        vertical-align: middle;\n",
       "    }\n",
       "\n",
       "    .dataframe tbody tr th {\n",
       "        vertical-align: top;\n",
       "    }\n",
       "\n",
       "    .dataframe thead th {\n",
       "        text-align: right;\n",
       "    }\n",
       "</style>\n",
       "<table border=\"1\" class=\"dataframe\">\n",
       "  <thead>\n",
       "    <tr style=\"text-align: right;\">\n",
       "      <th></th>\n",
       "      <th>Data Variance</th>\n",
       "      <th>Components</th>\n",
       "      <th>Components Reduction (%)</th>\n",
       "      <th>Accuracy</th>\n",
       "      <th>Accuracy Difference</th>\n",
       "      <th>Train Time</th>\n",
       "      <th>Train time Reduction (%)</th>\n",
       "    </tr>\n",
       "  </thead>\n",
       "  <tbody>\n",
       "    <tr>\n",
       "      <th>0</th>\n",
       "      <td>85%</td>\n",
       "      <td>185</td>\n",
       "      <td>76.40</td>\n",
       "      <td>0.9722</td>\n",
       "      <td>0.0022</td>\n",
       "      <td>43.96</td>\n",
       "      <td>42.30</td>\n",
       "    </tr>\n",
       "    <tr>\n",
       "      <th>1</th>\n",
       "      <td>90%</td>\n",
       "      <td>236</td>\n",
       "      <td>69.90</td>\n",
       "      <td>0.9744</td>\n",
       "      <td>0.0000</td>\n",
       "      <td>49.20</td>\n",
       "      <td>35.42</td>\n",
       "    </tr>\n",
       "    <tr>\n",
       "      <th>2</th>\n",
       "      <td>95%</td>\n",
       "      <td>331</td>\n",
       "      <td>57.78</td>\n",
       "      <td>0.9733</td>\n",
       "      <td>0.0011</td>\n",
       "      <td>54.90</td>\n",
       "      <td>27.94</td>\n",
       "    </tr>\n",
       "    <tr>\n",
       "      <th>3</th>\n",
       "      <td>99%</td>\n",
       "      <td>543</td>\n",
       "      <td>30.74</td>\n",
       "      <td>0.9735</td>\n",
       "      <td>0.0009</td>\n",
       "      <td>64.47</td>\n",
       "      <td>15.38</td>\n",
       "    </tr>\n",
       "    <tr>\n",
       "      <th>4</th>\n",
       "      <td>100%</td>\n",
       "      <td>784</td>\n",
       "      <td>0.00</td>\n",
       "      <td>0.9744</td>\n",
       "      <td>0.0000</td>\n",
       "      <td>76.19</td>\n",
       "      <td>0.00</td>\n",
       "    </tr>\n",
       "  </tbody>\n",
       "</table>\n",
       "</div>"
      ],
      "text/plain": [
       "  Data Variance  Components  Components Reduction (%)  Accuracy  \\\n",
       "0           85%         185                     76.40    0.9722   \n",
       "1           90%         236                     69.90    0.9744   \n",
       "2           95%         331                     57.78    0.9733   \n",
       "3           99%         543                     30.74    0.9735   \n",
       "4          100%         784                      0.00    0.9744   \n",
       "\n",
       "   Accuracy Difference  Train Time  Train time Reduction (%)  \n",
       "0               0.0022       43.96                     42.30  \n",
       "1               0.0000       49.20                     35.42  \n",
       "2               0.0011       54.90                     27.94  \n",
       "3               0.0009       64.47                     15.38  \n",
       "4               0.0000       76.19                      0.00  "
      ]
     },
     "execution_count": 25,
     "metadata": {},
     "output_type": "execute_result"
    }
   ],
   "source": [
    "result = {'Data Variance' : ['85%', '90%', '95%', '99%', '100%'], \n",
    "          'Components' : components,\n",
    "          'Components Reduction (%)' : components_reduction,\n",
    "          'Accuracy' : accuracy,\n",
    "          'Accuracy Difference' : accuracy_diff,\n",
    "          'Train Time': train_time,\n",
    "          'Train time Reduction (%)' : train_time_reduction,\n",
    "          }\n",
    "res_df = pd.DataFrame(result)\n",
    "res_df"
   ]
  },
  {
   "cell_type": "markdown",
   "id": "smaller-captain",
   "metadata": {
    "id": "NqW4v3q4UnC9",
    "papermill": {
     "duration": 0.033539,
     "end_time": "2021-05-26T15:01:52.158746",
     "exception": false,
     "start_time": "2021-05-26T15:01:52.125207",
     "status": "completed"
    },
    "tags": []
   },
   "source": [
    "## Conclusion"
   ]
  },
  {
   "cell_type": "markdown",
   "id": "southeast-teddy",
   "metadata": {
    "id": "iC_3JGk8Nb-Q",
    "papermill": {
     "duration": 0.033584,
     "end_time": "2021-05-26T15:01:52.226271",
     "exception": false,
     "start_time": "2021-05-26T15:01:52.192687",
     "status": "completed"
    },
    "tags": []
   },
   "source": [
    "From our experiment, the settings which produce the highest score is \n",
    "> **PCA while maintaining 90% of data variance**\n",
    "\n",
    "\n",
    "This approach has reduce \n",
    "\n",
    "* 35.42% of the training time\n",
    "* 69.9% of the components\n",
    "\n",
    "while maintaining the **same accuracy score**"
   ]
  },
  {
   "cell_type": "markdown",
   "id": "concrete-belief",
   "metadata": {
    "id": "DU4MHIpdWGhG",
    "papermill": {
     "duration": 0.035169,
     "end_time": "2021-05-26T15:01:52.296193",
     "exception": false,
     "start_time": "2021-05-26T15:01:52.261024",
     "status": "completed"
    },
    "tags": []
   },
   "source": [
    "Analysis by : Jonathan Kristanto &copy; 20 Mei 2021"
   ]
  }
 ],
 "metadata": {
  "kernelspec": {
   "display_name": "Python 3",
   "language": "python",
   "name": "python3"
  },
  "language_info": {
   "codemirror_mode": {
    "name": "ipython",
    "version": 3
   },
   "file_extension": ".py",
   "mimetype": "text/x-python",
   "name": "python",
   "nbconvert_exporter": "python",
   "pygments_lexer": "ipython3",
   "version": "3.7.9"
  },
  "papermill": {
   "default_parameters": {},
   "duration": 523.086434,
   "end_time": "2021-05-26T15:01:54.706813",
   "environment_variables": {},
   "exception": null,
   "input_path": "__notebook__.ipynb",
   "output_path": "__notebook__.ipynb",
   "parameters": {},
   "start_time": "2021-05-26T14:53:11.620379",
   "version": "2.3.2"
  }
 },
 "nbformat": 4,
 "nbformat_minor": 5
}
