{
 "cells": [
  {
   "cell_type": "markdown",
   "id": "d88b3f28-f65a-4494-bf02-e64f14a259ea",
   "metadata": {},
   "source": [
    "# CSE455/CSE552 – Machine Learning (Spring 2024) Homework #5"
   ]
  },
  {
   "cell_type": "markdown",
   "id": "9ee04d37-b2e8-4190-ac35-b7feab8d9ebe",
   "metadata": {},
   "source": [
    "Description: The aim of this homework is to explore using neural networks as base classifiers for AdaBoost learning."
   ]
  },
  {
   "cell_type": "markdown",
   "id": "7ac165e6-b38b-4143-9168-af8edcb54fe6",
   "metadata": {},
   "source": [
    "Part I: Select a dataset\n",
    "Select a data set to be used to show your problem. You can choose something from the UCI\n",
    "repository"
   ]
  },
  {
   "cell_type": "code",
   "execution_count": null,
   "id": "bea29645-cdf6-4b18-92ec-ab3233b82d5a",
   "metadata": {},
   "outputs": [],
   "source": []
  },
  {
   "cell_type": "code",
   "execution_count": null,
   "id": "d45350a9-881a-4270-b421-533d381dd0aa",
   "metadata": {},
   "outputs": [],
   "source": []
  },
  {
   "cell_type": "code",
   "execution_count": null,
   "id": "c6e81876-7b33-46cf-a05f-553f79b8a129",
   "metadata": {},
   "outputs": [],
   "source": []
  },
  {
   "cell_type": "code",
   "execution_count": null,
   "id": "cbb73f9d-e443-4782-807a-4731d1ca8f19",
   "metadata": {},
   "outputs": [],
   "source": []
  },
  {
   "cell_type": "markdown",
   "id": "b0ebe2d9-3261-4fa6-82ca-645bbb7e3cb6",
   "metadata": {},
   "source": [
    "Part II: Train a multi-layer perceptron for this problem.\n",
    "Use a one hidden layer perceptron as your base classifier to train an AdaBoost ensemble learner. Report your results."
   ]
  },
  {
   "cell_type": "code",
   "execution_count": null,
   "id": "16a1321c-9e9a-4914-ad23-6e5b39fd7b06",
   "metadata": {},
   "outputs": [],
   "source": []
  },
  {
   "cell_type": "code",
   "execution_count": null,
   "id": "25bedf93-0c69-43e8-9738-3bdd6ace2380",
   "metadata": {},
   "outputs": [],
   "source": []
  },
  {
   "cell_type": "code",
   "execution_count": null,
   "id": "19e6819e-1046-469b-a830-edf53f23ffb4",
   "metadata": {},
   "outputs": [],
   "source": []
  },
  {
   "cell_type": "code",
   "execution_count": null,
   "id": "320e055d-2bff-4961-a534-42d9f6f97e33",
   "metadata": {},
   "outputs": [],
   "source": []
  },
  {
   "cell_type": "code",
   "execution_count": null,
   "id": "6a66843d-2663-40c1-8322-83f4ecab0c13",
   "metadata": {},
   "outputs": [],
   "source": []
  },
  {
   "cell_type": "markdown",
   "id": "7a3fe783-f717-4dda-adfa-fdba2287264e",
   "metadata": {},
   "source": [
    "Part III: Train a random decision forest where each decision in the forest is in turn is a trainable\n",
    "perceptron.\n",
    "This time instead of using a comparison decision at each node, train a perceptron for each node to\n",
    "make the best decision. Report your results."
   ]
  },
  {
   "cell_type": "code",
   "execution_count": null,
   "id": "d3be21c9-1328-4b5d-878c-cea5239492ba",
   "metadata": {},
   "outputs": [],
   "source": []
  },
  {
   "cell_type": "code",
   "execution_count": null,
   "id": "36e78bc3-3b4f-4015-b4d8-2f82db3db485",
   "metadata": {},
   "outputs": [],
   "source": []
  },
  {
   "cell_type": "code",
   "execution_count": null,
   "id": "c7d8a4dc-4eea-40b1-b83a-90ef410b8fc0",
   "metadata": {},
   "outputs": [],
   "source": []
  },
  {
   "cell_type": "code",
   "execution_count": null,
   "id": "43612716-13f4-4133-ba26-afb2bf3d8504",
   "metadata": {},
   "outputs": [],
   "source": []
  },
  {
   "cell_type": "code",
   "execution_count": null,
   "id": "8b7cc9d0-eb0c-4424-94d7-7d43bca53f5e",
   "metadata": {},
   "outputs": [],
   "source": []
  },
  {
   "cell_type": "code",
   "execution_count": null,
   "id": "e7f9bc65-58c1-4145-98d8-2b7e4f50731e",
   "metadata": {},
   "outputs": [],
   "source": []
  },
  {
   "cell_type": "code",
   "execution_count": null,
   "id": "31597330-7248-4fb8-a872-a8fd62a71b71",
   "metadata": {},
   "outputs": [],
   "source": []
  },
  {
   "cell_type": "markdown",
   "id": "60191009-1dab-4eea-93bb-ccdd9e7c54bb",
   "metadata": {},
   "source": [
    "# Results:"
   ]
  },
  {
   "cell_type": "code",
   "execution_count": null,
   "id": "09498bdd-8415-4e66-82ef-70c8c8ab7c95",
   "metadata": {},
   "outputs": [],
   "source": []
  },
  {
   "cell_type": "markdown",
   "id": "1b540fba-3cd1-41a6-9820-fe297a8f5185",
   "metadata": {
    "tags": []
   },
   "source": [
    "# Conclusions:"
   ]
  },
  {
   "cell_type": "code",
   "execution_count": null,
   "id": "8ffb5d92-8cf8-4c52-8dda-50e083e438e9",
   "metadata": {},
   "outputs": [],
   "source": []
  },
  {
   "cell_type": "code",
   "execution_count": null,
   "id": "f63ab854-da4e-46cf-b3ca-bfad71295b76",
   "metadata": {},
   "outputs": [],
   "source": []
  }
 ],
 "metadata": {
  "kernelspec": {
   "display_name": "Python 3 (ipykernel)",
   "language": "python",
   "name": "python3"
  },
  "language_info": {
   "codemirror_mode": {
    "name": "ipython",
    "version": 3
   },
   "file_extension": ".py",
   "mimetype": "text/x-python",
   "name": "python",
   "nbconvert_exporter": "python",
   "pygments_lexer": "ipython3",
   "version": "3.11.5"
  }
 },
 "nbformat": 4,
 "nbformat_minor": 5
}
