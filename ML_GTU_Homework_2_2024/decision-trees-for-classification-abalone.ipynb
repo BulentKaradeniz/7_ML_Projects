{
 "cells": [
  {
   "cell_type": "code",
   "execution_count": 2,
   "id": "48c5c9af",
   "metadata": {
    "_cell_guid": "b1076dfc-b9ad-4769-8c92-a6c4dae69d19",
    "_uuid": "8f2839f25d086af736a60e9eeb907d3b93b6e0e5",
    "papermill": {
     "duration": 0.037464,
     "end_time": "2022-07-23T12:15:22.210575",
     "exception": false,
     "start_time": "2022-07-23T12:15:22.173111",
     "status": "completed"
    },
    "tags": []
   },
   "outputs": [],
   "source": [
    "# This Python 3 environment comes with many helpful analytics libraries installed\n",
    "# It is defined by the kaggle/python Docker image: https://github.com/kaggle/docker-python\n",
    "# For example, here's several helpful packages to load\n",
    "\n",
    "import numpy as np # linear algebra\n",
    "import pandas as pd # data processing, CSV file I/O (e.g. pd.read_csv)\n",
    "\n",
    "# Input data files are available in the read-only \"../input/\" directory\n",
    "# For example, running this (by clicking run or pressing Shift+Enter) will list all files under the input directory\n",
    "\n",
    "import os\n",
    "for dirname, _, filenames in os.walk('/kaggle/input'):\n",
    "    for filename in filenames:\n",
    "        print(os.path.join(dirname, filename))\n",
    "\n",
    "# You can write up to 20GB to the current directory (/kaggle/working/) that gets preserved as output when you create a version using \"Save & Run All\" \n",
    "# You can also write temporary files to /kaggle/temp/, but they won't be saved outside of the current session"
   ]
  },
  {
   "cell_type": "markdown",
   "id": "5bca37f5",
   "metadata": {
    "papermill": {
     "duration": 0.010253,
     "end_time": "2022-07-23T12:15:22.235247",
     "exception": false,
     "start_time": "2022-07-23T12:15:22.224994",
     "status": "completed"
    },
    "tags": []
   },
   "source": [
    "###### x_MLP/W9_L3-dip-iitm: [Decision Trees for Classification - Abalone](https://www.youtube.com/watch?v=SBnT0B2e5kc&list=PLyGVjd4KQp13HB4vo0f_ztrpR8dPrDNKP&index=69)"
   ]
  },
  {
   "cell_type": "markdown",
   "id": "61057545",
   "metadata": {
    "papermill": {
     "duration": 0.011691,
     "end_time": "2022-07-23T12:15:22.259839",
     "exception": false,
     "start_time": "2022-07-23T12:15:22.248148",
     "status": "completed"
    },
    "tags": []
   },
   "source": [
    "# Decision Trees using Pipelines"
   ]
  },
  {
   "cell_type": "markdown",
   "id": "5ddae8c8",
   "metadata": {
    "papermill": {
     "duration": 0.009929,
     "end_time": "2022-07-23T12:15:22.280034",
     "exception": false,
     "start_time": "2022-07-23T12:15:22.270105",
     "status": "completed"
    },
    "tags": []
   },
   "source": [
    "## Imports"
   ]
  },
  {
   "cell_type": "code",
   "execution_count": 3,
   "id": "7e9bd56c",
   "metadata": {
    "papermill": {
     "duration": 1.29058,
     "end_time": "2022-07-23T12:15:23.580779",
     "exception": false,
     "start_time": "2022-07-23T12:15:22.290199",
     "status": "completed"
    },
    "tags": []
   },
   "outputs": [],
   "source": [
    "import matplotlib.pyplot as plt\n",
    "import seaborn as sns\n",
    "\n",
    "from sklearn.model_selection import train_test_split"
   ]
  },
  {
   "cell_type": "markdown",
   "id": "0db3dec4",
   "metadata": {
    "papermill": {
     "duration": 0.010099,
     "end_time": "2022-07-23T12:15:23.601096",
     "exception": false,
     "start_time": "2022-07-23T12:15:23.590997",
     "status": "completed"
    },
    "tags": []
   },
   "source": [
    "## Loading the dataset\n",
    "we are going to use Abalone dataset for classification.\n",
    "\n",
    "Abalone is a type of consumable snail whose price varies as per its age. The aim is to predict the age of abalone from physical measurements. The age of abalone is traditionally determined by cutting the shell through the cone, staining it, and counting the nuber of rings through a microscope - a boring and time-consuming task. Other measurements, which are easier to obtain, are used to predict the age."
   ]
  },
  {
   "cell_type": "code",
   "execution_count": 6,
   "id": "e2583ac0",
   "metadata": {
    "papermill": {
     "duration": 0.031572,
     "end_time": "2022-07-23T12:15:23.642811",
     "exception": false,
     "start_time": "2022-07-23T12:15:23.611239",
     "status": "completed"
    },
    "tags": []
   },
   "outputs": [],
   "source": [
    "column_names = ['Sex', 'Length', 'Diameter', 'Height', 'Whole weight', 'Shucked Weight', 'Viscera weight', 'shell weight', 'Rings']\n",
    "abalone_data = pd.read_csv('abalone.csv', header=None, names=column_names)"
   ]
  },
  {
   "cell_type": "markdown",
   "id": "71461005",
   "metadata": {
    "papermill": {
     "duration": 0.009766,
     "end_time": "2022-07-23T12:15:23.662710",
     "exception": false,
     "start_time": "2022-07-23T12:15:23.652944",
     "status": "completed"
    },
    "tags": []
   },
   "source": [
    "Let's now see the type and name of the features:\n",
    "- **Sex:** This is the gender of the abalone and has categorical value(M, F or I).\n",
    "- **Length:** The longest measurement of the abalone shell in mm. Continuous numeric value.\n",
    "- **Diameter:** The measurement of abalone shell parpendicular to length in mm. Continuous numeric value.\n",
    "- **Height:** Hegit of the shell in mm. Continuous numeric value. Whole weight: Weight fo the abalone in grams. Continuous numeric value.\n",
    "\n",
    "- **Shucked Weight:** Weight of just the meat in abalone in the grams. Continuous numeric value.\n",
    "\n",
    "- **Viscera Weight:** Weight of the abalone after bleeding in grams. Continuous numeric value.\n",
    "\n",
    "- **Shell Weight:** Weight of the abalone after being dried in grams. Continuous numeric value.\n",
    "\n",
    "- **Rings:** This is the target, that is the feature that we will train the model to predict. As mentioned earlier, we are interested in the age of the abalone and it has been established that number of rings +1.5 gives the age. Discrete numeric value."
   ]
  },
  {
   "cell_type": "code",
   "execution_count": 7,
   "id": "f7eb2d57",
   "metadata": {
    "papermill": {
     "duration": 0.020658,
     "end_time": "2022-07-23T12:15:23.693680",
     "exception": false,
     "start_time": "2022-07-23T12:15:23.673022",
     "status": "completed"
    },
    "tags": []
   },
   "outputs": [
    {
     "data": {
      "text/plain": [
       "pandas.core.frame.DataFrame"
      ]
     },
     "execution_count": 7,
     "metadata": {},
     "output_type": "execute_result"
    }
   ],
   "source": [
    "type(abalone_data)"
   ]
  },
  {
   "cell_type": "markdown",
   "id": "4bfed173",
   "metadata": {
    "papermill": {
     "duration": 0.009986,
     "end_time": "2022-07-23T12:15:23.713916",
     "exception": false,
     "start_time": "2022-07-23T12:15:23.703930",
     "status": "completed"
    },
    "tags": []
   },
   "source": [
    "## Examining the dataset"
   ]
  },
  {
   "cell_type": "code",
   "execution_count": 8,
   "id": "35bb933f",
   "metadata": {
    "papermill": {
     "duration": 0.017969,
     "end_time": "2022-07-23T12:15:23.742143",
     "exception": false,
     "start_time": "2022-07-23T12:15:23.724174",
     "status": "completed"
    },
    "tags": []
   },
   "outputs": [
    {
     "data": {
      "text/plain": [
       "(4178, 9)"
      ]
     },
     "execution_count": 8,
     "metadata": {},
     "output_type": "execute_result"
    }
   ],
   "source": [
    "abalone_data.shape"
   ]
  },
  {
   "cell_type": "code",
   "execution_count": 9,
   "id": "3c9c785f",
   "metadata": {
    "papermill": {
     "duration": 0.034148,
     "end_time": "2022-07-23T12:15:23.786313",
     "exception": false,
     "start_time": "2022-07-23T12:15:23.752165",
     "status": "completed"
    },
    "tags": []
   },
   "outputs": [
    {
     "data": {
      "text/html": [
       "<div>\n",
       "<style scoped>\n",
       "    .dataframe tbody tr th:only-of-type {\n",
       "        vertical-align: middle;\n",
       "    }\n",
       "\n",
       "    .dataframe tbody tr th {\n",
       "        vertical-align: top;\n",
       "    }\n",
       "\n",
       "    .dataframe thead th {\n",
       "        text-align: right;\n",
       "    }\n",
       "</style>\n",
       "<table border=\"1\" class=\"dataframe\">\n",
       "  <thead>\n",
       "    <tr style=\"text-align: right;\">\n",
       "      <th></th>\n",
       "      <th>Sex</th>\n",
       "      <th>Length</th>\n",
       "      <th>Diameter</th>\n",
       "      <th>Height</th>\n",
       "      <th>Whole weight</th>\n",
       "      <th>Shucked Weight</th>\n",
       "      <th>Viscera weight</th>\n",
       "      <th>shell weight</th>\n",
       "      <th>Rings</th>\n",
       "    </tr>\n",
       "  </thead>\n",
       "  <tbody>\n",
       "    <tr>\n",
       "      <th>0</th>\n",
       "      <td>Sex</td>\n",
       "      <td>Length</td>\n",
       "      <td>Diameter</td>\n",
       "      <td>Height</td>\n",
       "      <td>Whole weight</td>\n",
       "      <td>Shucked weight</td>\n",
       "      <td>Viscera weight</td>\n",
       "      <td>Shell weight</td>\n",
       "      <td>Rings</td>\n",
       "    </tr>\n",
       "    <tr>\n",
       "      <th>1</th>\n",
       "      <td>M</td>\n",
       "      <td>0.455</td>\n",
       "      <td>0.365</td>\n",
       "      <td>0.095</td>\n",
       "      <td>0.514</td>\n",
       "      <td>0.2245</td>\n",
       "      <td>0.101</td>\n",
       "      <td>0.15</td>\n",
       "      <td>15</td>\n",
       "    </tr>\n",
       "    <tr>\n",
       "      <th>2</th>\n",
       "      <td>M</td>\n",
       "      <td>0.35</td>\n",
       "      <td>0.265</td>\n",
       "      <td>0.09</td>\n",
       "      <td>0.2255</td>\n",
       "      <td>0.0995</td>\n",
       "      <td>0.0485</td>\n",
       "      <td>0.07</td>\n",
       "      <td>7</td>\n",
       "    </tr>\n",
       "    <tr>\n",
       "      <th>3</th>\n",
       "      <td>F</td>\n",
       "      <td>0.53</td>\n",
       "      <td>0.42</td>\n",
       "      <td>0.135</td>\n",
       "      <td>0.677</td>\n",
       "      <td>0.2565</td>\n",
       "      <td>0.1415</td>\n",
       "      <td>0.21</td>\n",
       "      <td>9</td>\n",
       "    </tr>\n",
       "    <tr>\n",
       "      <th>4</th>\n",
       "      <td>M</td>\n",
       "      <td>0.44</td>\n",
       "      <td>0.365</td>\n",
       "      <td>0.125</td>\n",
       "      <td>0.516</td>\n",
       "      <td>0.2155</td>\n",
       "      <td>0.114</td>\n",
       "      <td>0.155</td>\n",
       "      <td>10</td>\n",
       "    </tr>\n",
       "    <tr>\n",
       "      <th>5</th>\n",
       "      <td>I</td>\n",
       "      <td>0.33</td>\n",
       "      <td>0.255</td>\n",
       "      <td>0.08</td>\n",
       "      <td>0.205</td>\n",
       "      <td>0.0895</td>\n",
       "      <td>0.0395</td>\n",
       "      <td>0.055</td>\n",
       "      <td>7</td>\n",
       "    </tr>\n",
       "    <tr>\n",
       "      <th>6</th>\n",
       "      <td>I</td>\n",
       "      <td>0.425</td>\n",
       "      <td>0.3</td>\n",
       "      <td>0.095</td>\n",
       "      <td>0.3515</td>\n",
       "      <td>0.141</td>\n",
       "      <td>0.0775</td>\n",
       "      <td>0.12</td>\n",
       "      <td>8</td>\n",
       "    </tr>\n",
       "    <tr>\n",
       "      <th>7</th>\n",
       "      <td>F</td>\n",
       "      <td>0.53</td>\n",
       "      <td>0.415</td>\n",
       "      <td>0.15</td>\n",
       "      <td>0.7775</td>\n",
       "      <td>0.237</td>\n",
       "      <td>0.1415</td>\n",
       "      <td>0.33</td>\n",
       "      <td>20</td>\n",
       "    </tr>\n",
       "    <tr>\n",
       "      <th>8</th>\n",
       "      <td>F</td>\n",
       "      <td>0.545</td>\n",
       "      <td>0.425</td>\n",
       "      <td>0.125</td>\n",
       "      <td>0.768</td>\n",
       "      <td>0.294</td>\n",
       "      <td>0.1495</td>\n",
       "      <td>0.26</td>\n",
       "      <td>16</td>\n",
       "    </tr>\n",
       "    <tr>\n",
       "      <th>9</th>\n",
       "      <td>M</td>\n",
       "      <td>0.475</td>\n",
       "      <td>0.37</td>\n",
       "      <td>0.125</td>\n",
       "      <td>0.5095</td>\n",
       "      <td>0.2165</td>\n",
       "      <td>0.1125</td>\n",
       "      <td>0.165</td>\n",
       "      <td>9</td>\n",
       "    </tr>\n",
       "  </tbody>\n",
       "</table>\n",
       "</div>"
      ],
      "text/plain": [
       "   Sex  Length  Diameter  Height  Whole weight  Shucked Weight  \\\n",
       "0  Sex  Length  Diameter  Height  Whole weight  Shucked weight   \n",
       "1    M   0.455     0.365   0.095         0.514          0.2245   \n",
       "2    M    0.35     0.265    0.09        0.2255          0.0995   \n",
       "3    F    0.53      0.42   0.135         0.677          0.2565   \n",
       "4    M    0.44     0.365   0.125         0.516          0.2155   \n",
       "5    I    0.33     0.255    0.08         0.205          0.0895   \n",
       "6    I   0.425       0.3   0.095        0.3515           0.141   \n",
       "7    F    0.53     0.415    0.15        0.7775           0.237   \n",
       "8    F   0.545     0.425   0.125         0.768           0.294   \n",
       "9    M   0.475      0.37   0.125        0.5095          0.2165   \n",
       "\n",
       "   Viscera weight  shell weight  Rings  \n",
       "0  Viscera weight  Shell weight  Rings  \n",
       "1           0.101          0.15     15  \n",
       "2          0.0485          0.07      7  \n",
       "3          0.1415          0.21      9  \n",
       "4           0.114         0.155     10  \n",
       "5          0.0395         0.055      7  \n",
       "6          0.0775          0.12      8  \n",
       "7          0.1415          0.33     20  \n",
       "8          0.1495          0.26     16  \n",
       "9          0.1125         0.165      9  "
      ]
     },
     "execution_count": 9,
     "metadata": {},
     "output_type": "execute_result"
    }
   ],
   "source": [
    "abalone_data.head(10)"
   ]
  },
  {
   "cell_type": "code",
   "execution_count": 10,
   "id": "469859ae",
   "metadata": {
    "papermill": {
     "duration": 1.468422,
     "end_time": "2022-07-23T12:15:25.265297",
     "exception": false,
     "start_time": "2022-07-23T12:15:23.796875",
     "status": "completed"
    },
    "tags": []
   },
   "outputs": [
    {
     "ename": "ValueError",
     "evalue": "hist method requires numerical or datetime columns, nothing to plot.",
     "output_type": "error",
     "traceback": [
      "\u001b[1;31m---------------------------------------------------------------------------\u001b[0m",
      "\u001b[1;31mValueError\u001b[0m                                Traceback (most recent call last)",
      "Cell \u001b[1;32mIn[10], line 2\u001b[0m\n\u001b[0;32m      1\u001b[0m \u001b[38;5;66;03m# plt.figure(figsize=(15,15))\u001b[39;00m\n\u001b[1;32m----> 2\u001b[0m abalone_data\u001b[38;5;241m.\u001b[39mhist(bins\u001b[38;5;241m=\u001b[39m\u001b[38;5;241m50\u001b[39m, figsize\u001b[38;5;241m=\u001b[39m(\u001b[38;5;241m15\u001b[39m,\u001b[38;5;241m15\u001b[39m))\n\u001b[0;32m      3\u001b[0m plt\u001b[38;5;241m.\u001b[39mshow()\n",
      "File \u001b[1;32m~\\anaconda3\\Lib\\site-packages\\pandas\\plotting\\_core.py:223\u001b[0m, in \u001b[0;36mhist_frame\u001b[1;34m(data, column, by, grid, xlabelsize, xrot, ylabelsize, yrot, ax, sharex, sharey, figsize, layout, bins, backend, legend, **kwargs)\u001b[0m\n\u001b[0;32m    134\u001b[0m \u001b[38;5;250m\u001b[39m\u001b[38;5;124;03m\"\"\"\u001b[39;00m\n\u001b[0;32m    135\u001b[0m \u001b[38;5;124;03mMake a histogram of the DataFrame's columns.\u001b[39;00m\n\u001b[0;32m    136\u001b[0m \n\u001b[1;32m   (...)\u001b[0m\n\u001b[0;32m    220\u001b[0m \u001b[38;5;124;03m    >>> hist = df.hist(bins=3)\u001b[39;00m\n\u001b[0;32m    221\u001b[0m \u001b[38;5;124;03m\"\"\"\u001b[39;00m\n\u001b[0;32m    222\u001b[0m plot_backend \u001b[38;5;241m=\u001b[39m _get_plot_backend(backend)\n\u001b[1;32m--> 223\u001b[0m \u001b[38;5;28;01mreturn\u001b[39;00m plot_backend\u001b[38;5;241m.\u001b[39mhist_frame(\n\u001b[0;32m    224\u001b[0m     data,\n\u001b[0;32m    225\u001b[0m     column\u001b[38;5;241m=\u001b[39mcolumn,\n\u001b[0;32m    226\u001b[0m     by\u001b[38;5;241m=\u001b[39mby,\n\u001b[0;32m    227\u001b[0m     grid\u001b[38;5;241m=\u001b[39mgrid,\n\u001b[0;32m    228\u001b[0m     xlabelsize\u001b[38;5;241m=\u001b[39mxlabelsize,\n\u001b[0;32m    229\u001b[0m     xrot\u001b[38;5;241m=\u001b[39mxrot,\n\u001b[0;32m    230\u001b[0m     ylabelsize\u001b[38;5;241m=\u001b[39mylabelsize,\n\u001b[0;32m    231\u001b[0m     yrot\u001b[38;5;241m=\u001b[39myrot,\n\u001b[0;32m    232\u001b[0m     ax\u001b[38;5;241m=\u001b[39max,\n\u001b[0;32m    233\u001b[0m     sharex\u001b[38;5;241m=\u001b[39msharex,\n\u001b[0;32m    234\u001b[0m     sharey\u001b[38;5;241m=\u001b[39msharey,\n\u001b[0;32m    235\u001b[0m     figsize\u001b[38;5;241m=\u001b[39mfigsize,\n\u001b[0;32m    236\u001b[0m     layout\u001b[38;5;241m=\u001b[39mlayout,\n\u001b[0;32m    237\u001b[0m     legend\u001b[38;5;241m=\u001b[39mlegend,\n\u001b[0;32m    238\u001b[0m     bins\u001b[38;5;241m=\u001b[39mbins,\n\u001b[0;32m    239\u001b[0m     \u001b[38;5;241m*\u001b[39m\u001b[38;5;241m*\u001b[39mkwargs,\n\u001b[0;32m    240\u001b[0m )\n",
      "File \u001b[1;32m~\\anaconda3\\Lib\\site-packages\\pandas\\plotting\\_matplotlib\\hist.py:514\u001b[0m, in \u001b[0;36mhist_frame\u001b[1;34m(data, column, by, grid, xlabelsize, xrot, ylabelsize, yrot, ax, sharex, sharey, figsize, layout, bins, legend, **kwds)\u001b[0m\n\u001b[0;32m    511\u001b[0m naxes \u001b[38;5;241m=\u001b[39m \u001b[38;5;28mlen\u001b[39m(data\u001b[38;5;241m.\u001b[39mcolumns)\n\u001b[0;32m    513\u001b[0m \u001b[38;5;28;01mif\u001b[39;00m naxes \u001b[38;5;241m==\u001b[39m \u001b[38;5;241m0\u001b[39m:\n\u001b[1;32m--> 514\u001b[0m     \u001b[38;5;28;01mraise\u001b[39;00m \u001b[38;5;167;01mValueError\u001b[39;00m(\n\u001b[0;32m    515\u001b[0m         \u001b[38;5;124m\"\u001b[39m\u001b[38;5;124mhist method requires numerical or datetime columns, nothing to plot.\u001b[39m\u001b[38;5;124m\"\u001b[39m\n\u001b[0;32m    516\u001b[0m     )\n\u001b[0;32m    518\u001b[0m fig, axes \u001b[38;5;241m=\u001b[39m create_subplots(\n\u001b[0;32m    519\u001b[0m     naxes\u001b[38;5;241m=\u001b[39mnaxes,\n\u001b[0;32m    520\u001b[0m     ax\u001b[38;5;241m=\u001b[39max,\n\u001b[1;32m   (...)\u001b[0m\n\u001b[0;32m    525\u001b[0m     layout\u001b[38;5;241m=\u001b[39mlayout,\n\u001b[0;32m    526\u001b[0m )\n\u001b[0;32m    527\u001b[0m _axes \u001b[38;5;241m=\u001b[39m flatten_axes(axes)\n",
      "\u001b[1;31mValueError\u001b[0m: hist method requires numerical or datetime columns, nothing to plot."
     ]
    }
   ],
   "source": [
    "# plt.figure(figsize=(15,15))\n",
    "abalone_data.hist(bins=50, figsize=(15,15))\n",
    "plt.show()"
   ]
  },
  {
   "cell_type": "code",
   "execution_count": 11,
   "id": "8714940d",
   "metadata": {
    "papermill": {
     "duration": 11.036912,
     "end_time": "2022-07-23T12:15:36.313384",
     "exception": false,
     "start_time": "2022-07-23T12:15:25.276472",
     "status": "completed"
    },
    "tags": []
   },
   "outputs": [
    {
     "ename": "ValueError",
     "evalue": "No variables found for grid columns.",
     "output_type": "error",
     "traceback": [
      "\u001b[1;31m---------------------------------------------------------------------------\u001b[0m",
      "\u001b[1;31mValueError\u001b[0m                                Traceback (most recent call last)",
      "Cell \u001b[1;32mIn[11], line 2\u001b[0m\n\u001b[0;32m      1\u001b[0m plt\u001b[38;5;241m.\u001b[39mfigure()\n\u001b[1;32m----> 2\u001b[0m sns\u001b[38;5;241m.\u001b[39mpairplot(abalone_data, diag_kind\u001b[38;5;241m=\u001b[39m\u001b[38;5;124m'\u001b[39m\u001b[38;5;124mhist\u001b[39m\u001b[38;5;124m'\u001b[39m)\n",
      "File \u001b[1;32m~\\anaconda3\\Lib\\site-packages\\seaborn\\axisgrid.py:2114\u001b[0m, in \u001b[0;36mpairplot\u001b[1;34m(data, hue, hue_order, palette, vars, x_vars, y_vars, kind, diag_kind, markers, height, aspect, corner, dropna, plot_kws, diag_kws, grid_kws, size)\u001b[0m\n\u001b[0;32m   2112\u001b[0m \u001b[38;5;66;03m# Set up the PairGrid\u001b[39;00m\n\u001b[0;32m   2113\u001b[0m grid_kws\u001b[38;5;241m.\u001b[39msetdefault(\u001b[38;5;124m\"\u001b[39m\u001b[38;5;124mdiag_sharey\u001b[39m\u001b[38;5;124m\"\u001b[39m, diag_kind \u001b[38;5;241m==\u001b[39m \u001b[38;5;124m\"\u001b[39m\u001b[38;5;124mhist\u001b[39m\u001b[38;5;124m\"\u001b[39m)\n\u001b[1;32m-> 2114\u001b[0m grid \u001b[38;5;241m=\u001b[39m PairGrid(data, \u001b[38;5;28mvars\u001b[39m\u001b[38;5;241m=\u001b[39m\u001b[38;5;28mvars\u001b[39m, x_vars\u001b[38;5;241m=\u001b[39mx_vars, y_vars\u001b[38;5;241m=\u001b[39my_vars, hue\u001b[38;5;241m=\u001b[39mhue,\n\u001b[0;32m   2115\u001b[0m                 hue_order\u001b[38;5;241m=\u001b[39mhue_order, palette\u001b[38;5;241m=\u001b[39mpalette, corner\u001b[38;5;241m=\u001b[39mcorner,\n\u001b[0;32m   2116\u001b[0m                 height\u001b[38;5;241m=\u001b[39mheight, aspect\u001b[38;5;241m=\u001b[39maspect, dropna\u001b[38;5;241m=\u001b[39mdropna, \u001b[38;5;241m*\u001b[39m\u001b[38;5;241m*\u001b[39mgrid_kws)\n\u001b[0;32m   2118\u001b[0m \u001b[38;5;66;03m# Add the markers here as PairGrid has figured out how many levels of the\u001b[39;00m\n\u001b[0;32m   2119\u001b[0m \u001b[38;5;66;03m# hue variable are needed and we don't want to duplicate that process\u001b[39;00m\n\u001b[0;32m   2120\u001b[0m \u001b[38;5;28;01mif\u001b[39;00m markers \u001b[38;5;129;01mis\u001b[39;00m \u001b[38;5;129;01mnot\u001b[39;00m \u001b[38;5;28;01mNone\u001b[39;00m:\n",
      "File \u001b[1;32m~\\anaconda3\\Lib\\site-packages\\seaborn\\axisgrid.py:1266\u001b[0m, in \u001b[0;36mPairGrid.__init__\u001b[1;34m(self, data, hue, vars, x_vars, y_vars, hue_order, palette, hue_kws, corner, diag_sharey, height, aspect, layout_pad, despine, dropna)\u001b[0m\n\u001b[0;32m   1263\u001b[0m \u001b[38;5;28mself\u001b[39m\u001b[38;5;241m.\u001b[39msquare_grid \u001b[38;5;241m=\u001b[39m \u001b[38;5;28mself\u001b[39m\u001b[38;5;241m.\u001b[39mx_vars \u001b[38;5;241m==\u001b[39m \u001b[38;5;28mself\u001b[39m\u001b[38;5;241m.\u001b[39my_vars\n\u001b[0;32m   1265\u001b[0m \u001b[38;5;28;01mif\u001b[39;00m \u001b[38;5;129;01mnot\u001b[39;00m x_vars:\n\u001b[1;32m-> 1266\u001b[0m     \u001b[38;5;28;01mraise\u001b[39;00m \u001b[38;5;167;01mValueError\u001b[39;00m(\u001b[38;5;124m\"\u001b[39m\u001b[38;5;124mNo variables found for grid columns.\u001b[39m\u001b[38;5;124m\"\u001b[39m)\n\u001b[0;32m   1267\u001b[0m \u001b[38;5;28;01mif\u001b[39;00m \u001b[38;5;129;01mnot\u001b[39;00m y_vars:\n\u001b[0;32m   1268\u001b[0m     \u001b[38;5;28;01mraise\u001b[39;00m \u001b[38;5;167;01mValueError\u001b[39;00m(\u001b[38;5;124m\"\u001b[39m\u001b[38;5;124mNo variables found for grid rows.\u001b[39m\u001b[38;5;124m\"\u001b[39m)\n",
      "\u001b[1;31mValueError\u001b[0m: No variables found for grid columns."
     ]
    },
    {
     "data": {
      "text/plain": [
       "<Figure size 640x480 with 0 Axes>"
      ]
     },
     "metadata": {},
     "output_type": "display_data"
    }
   ],
   "source": [
    "plt.figure()\n",
    "sns.pairplot(abalone_data, diag_kind='hist');"
   ]
  },
  {
   "cell_type": "code",
   "execution_count": 12,
   "id": "1500dfcb",
   "metadata": {
    "papermill": {
     "duration": 0.444248,
     "end_time": "2022-07-23T12:15:36.779990",
     "exception": false,
     "start_time": "2022-07-23T12:15:36.335742",
     "status": "completed"
    },
    "tags": []
   },
   "outputs": [
    {
     "ename": "ValueError",
     "evalue": "could not convert string to float: 'Sex'",
     "output_type": "error",
     "traceback": [
      "\u001b[1;31m---------------------------------------------------------------------------\u001b[0m",
      "\u001b[1;31mValueError\u001b[0m                                Traceback (most recent call last)",
      "Cell \u001b[1;32mIn[12], line 2\u001b[0m\n\u001b[0;32m      1\u001b[0m plt\u001b[38;5;241m.\u001b[39mfigure()\n\u001b[1;32m----> 2\u001b[0m sns\u001b[38;5;241m.\u001b[39mheatmap(abalone_data\u001b[38;5;241m.\u001b[39miloc[:, :\u001b[38;5;241m-\u001b[39m\u001b[38;5;241m1\u001b[39m]\u001b[38;5;241m.\u001b[39mcorr(), annot\u001b[38;5;241m=\u001b[39m\u001b[38;5;28;01mTrue\u001b[39;00m, square\u001b[38;5;241m=\u001b[39m\u001b[38;5;28;01mTrue\u001b[39;00m)\n",
      "File \u001b[1;32m~\\anaconda3\\Lib\\site-packages\\pandas\\core\\frame.py:10054\u001b[0m, in \u001b[0;36mDataFrame.corr\u001b[1;34m(self, method, min_periods, numeric_only)\u001b[0m\n\u001b[0;32m  10052\u001b[0m cols \u001b[38;5;241m=\u001b[39m data\u001b[38;5;241m.\u001b[39mcolumns\n\u001b[0;32m  10053\u001b[0m idx \u001b[38;5;241m=\u001b[39m cols\u001b[38;5;241m.\u001b[39mcopy()\n\u001b[1;32m> 10054\u001b[0m mat \u001b[38;5;241m=\u001b[39m data\u001b[38;5;241m.\u001b[39mto_numpy(dtype\u001b[38;5;241m=\u001b[39m\u001b[38;5;28mfloat\u001b[39m, na_value\u001b[38;5;241m=\u001b[39mnp\u001b[38;5;241m.\u001b[39mnan, copy\u001b[38;5;241m=\u001b[39m\u001b[38;5;28;01mFalse\u001b[39;00m)\n\u001b[0;32m  10056\u001b[0m \u001b[38;5;28;01mif\u001b[39;00m method \u001b[38;5;241m==\u001b[39m \u001b[38;5;124m\"\u001b[39m\u001b[38;5;124mpearson\u001b[39m\u001b[38;5;124m\"\u001b[39m:\n\u001b[0;32m  10057\u001b[0m     correl \u001b[38;5;241m=\u001b[39m libalgos\u001b[38;5;241m.\u001b[39mnancorr(mat, minp\u001b[38;5;241m=\u001b[39mmin_periods)\n",
      "File \u001b[1;32m~\\anaconda3\\Lib\\site-packages\\pandas\\core\\frame.py:1838\u001b[0m, in \u001b[0;36mDataFrame.to_numpy\u001b[1;34m(self, dtype, copy, na_value)\u001b[0m\n\u001b[0;32m   1836\u001b[0m \u001b[38;5;28;01mif\u001b[39;00m dtype \u001b[38;5;129;01mis\u001b[39;00m \u001b[38;5;129;01mnot\u001b[39;00m \u001b[38;5;28;01mNone\u001b[39;00m:\n\u001b[0;32m   1837\u001b[0m     dtype \u001b[38;5;241m=\u001b[39m np\u001b[38;5;241m.\u001b[39mdtype(dtype)\n\u001b[1;32m-> 1838\u001b[0m result \u001b[38;5;241m=\u001b[39m \u001b[38;5;28mself\u001b[39m\u001b[38;5;241m.\u001b[39m_mgr\u001b[38;5;241m.\u001b[39mas_array(dtype\u001b[38;5;241m=\u001b[39mdtype, copy\u001b[38;5;241m=\u001b[39mcopy, na_value\u001b[38;5;241m=\u001b[39mna_value)\n\u001b[0;32m   1839\u001b[0m \u001b[38;5;28;01mif\u001b[39;00m result\u001b[38;5;241m.\u001b[39mdtype \u001b[38;5;129;01mis\u001b[39;00m \u001b[38;5;129;01mnot\u001b[39;00m dtype:\n\u001b[0;32m   1840\u001b[0m     result \u001b[38;5;241m=\u001b[39m np\u001b[38;5;241m.\u001b[39marray(result, dtype\u001b[38;5;241m=\u001b[39mdtype, copy\u001b[38;5;241m=\u001b[39m\u001b[38;5;28;01mFalse\u001b[39;00m)\n",
      "File \u001b[1;32m~\\anaconda3\\Lib\\site-packages\\pandas\\core\\internals\\managers.py:1724\u001b[0m, in \u001b[0;36mBlockManager.as_array\u001b[1;34m(self, dtype, copy, na_value)\u001b[0m\n\u001b[0;32m   1722\u001b[0m     arr \u001b[38;5;241m=\u001b[39m np\u001b[38;5;241m.\u001b[39masarray(blk\u001b[38;5;241m.\u001b[39mget_values())\n\u001b[0;32m   1723\u001b[0m     \u001b[38;5;28;01mif\u001b[39;00m dtype:\n\u001b[1;32m-> 1724\u001b[0m         arr \u001b[38;5;241m=\u001b[39m arr\u001b[38;5;241m.\u001b[39mastype(dtype, copy\u001b[38;5;241m=\u001b[39m\u001b[38;5;28;01mFalse\u001b[39;00m)\n\u001b[0;32m   1726\u001b[0m \u001b[38;5;28;01mif\u001b[39;00m copy:\n\u001b[0;32m   1727\u001b[0m     arr \u001b[38;5;241m=\u001b[39m arr\u001b[38;5;241m.\u001b[39mcopy()\n",
      "\u001b[1;31mValueError\u001b[0m: could not convert string to float: 'Sex'"
     ]
    },
    {
     "data": {
      "text/plain": [
       "<Figure size 640x480 with 0 Axes>"
      ]
     },
     "metadata": {},
     "output_type": "display_data"
    }
   ],
   "source": [
    "plt.figure()\n",
    "sns.heatmap(abalone_data.iloc[:, :-1].corr(), annot=True, square=True);"
   ]
  },
  {
   "cell_type": "code",
   "execution_count": 13,
   "id": "dfa71022",
   "metadata": {
    "papermill": {
     "duration": 0.263372,
     "end_time": "2022-07-23T12:15:37.064942",
     "exception": false,
     "start_time": "2022-07-23T12:15:36.801570",
     "status": "completed"
    },
    "tags": []
   },
   "outputs": [
    {
     "ename": "ValueError",
     "evalue": "min() arg is an empty sequence",
     "output_type": "error",
     "traceback": [
      "\u001b[1;31m---------------------------------------------------------------------------\u001b[0m",
      "\u001b[1;31mValueError\u001b[0m                                Traceback (most recent call last)",
      "Cell \u001b[1;32mIn[13], line 2\u001b[0m\n\u001b[0;32m      1\u001b[0m plt\u001b[38;5;241m.\u001b[39mfigure()\n\u001b[1;32m----> 2\u001b[0m sns\u001b[38;5;241m.\u001b[39mboxplot(data\u001b[38;5;241m=\u001b[39mabalone_data\u001b[38;5;241m.\u001b[39miloc[:, :\u001b[38;5;241m-\u001b[39m\u001b[38;5;241m1\u001b[39m], orient\u001b[38;5;241m=\u001b[39m\u001b[38;5;124m\"\u001b[39m\u001b[38;5;124mh\u001b[39m\u001b[38;5;124m\"\u001b[39m, palette\u001b[38;5;241m=\u001b[39m\u001b[38;5;124m\"\u001b[39m\u001b[38;5;124mSet2\u001b[39m\u001b[38;5;124m\"\u001b[39m)\n",
      "File \u001b[1;32m~\\anaconda3\\Lib\\site-packages\\seaborn\\categorical.py:2231\u001b[0m, in \u001b[0;36mboxplot\u001b[1;34m(data, x, y, hue, order, hue_order, orient, color, palette, saturation, width, dodge, fliersize, linewidth, whis, ax, **kwargs)\u001b[0m\n\u001b[0;32m   2224\u001b[0m \u001b[38;5;28;01mdef\u001b[39;00m \u001b[38;5;21mboxplot\u001b[39m(\n\u001b[0;32m   2225\u001b[0m     data\u001b[38;5;241m=\u001b[39m\u001b[38;5;28;01mNone\u001b[39;00m, \u001b[38;5;241m*\u001b[39m, x\u001b[38;5;241m=\u001b[39m\u001b[38;5;28;01mNone\u001b[39;00m, y\u001b[38;5;241m=\u001b[39m\u001b[38;5;28;01mNone\u001b[39;00m, hue\u001b[38;5;241m=\u001b[39m\u001b[38;5;28;01mNone\u001b[39;00m, order\u001b[38;5;241m=\u001b[39m\u001b[38;5;28;01mNone\u001b[39;00m, hue_order\u001b[38;5;241m=\u001b[39m\u001b[38;5;28;01mNone\u001b[39;00m,\n\u001b[0;32m   2226\u001b[0m     orient\u001b[38;5;241m=\u001b[39m\u001b[38;5;28;01mNone\u001b[39;00m, color\u001b[38;5;241m=\u001b[39m\u001b[38;5;28;01mNone\u001b[39;00m, palette\u001b[38;5;241m=\u001b[39m\u001b[38;5;28;01mNone\u001b[39;00m, saturation\u001b[38;5;241m=\u001b[39m\u001b[38;5;241m.75\u001b[39m, width\u001b[38;5;241m=\u001b[39m\u001b[38;5;241m.8\u001b[39m,\n\u001b[0;32m   2227\u001b[0m     dodge\u001b[38;5;241m=\u001b[39m\u001b[38;5;28;01mTrue\u001b[39;00m, fliersize\u001b[38;5;241m=\u001b[39m\u001b[38;5;241m5\u001b[39m, linewidth\u001b[38;5;241m=\u001b[39m\u001b[38;5;28;01mNone\u001b[39;00m, whis\u001b[38;5;241m=\u001b[39m\u001b[38;5;241m1.5\u001b[39m, ax\u001b[38;5;241m=\u001b[39m\u001b[38;5;28;01mNone\u001b[39;00m,\n\u001b[0;32m   2228\u001b[0m     \u001b[38;5;241m*\u001b[39m\u001b[38;5;241m*\u001b[39mkwargs\n\u001b[0;32m   2229\u001b[0m ):\n\u001b[1;32m-> 2231\u001b[0m     plotter \u001b[38;5;241m=\u001b[39m _BoxPlotter(x, y, hue, data, order, hue_order,\n\u001b[0;32m   2232\u001b[0m                           orient, color, palette, saturation,\n\u001b[0;32m   2233\u001b[0m                           width, dodge, fliersize, linewidth)\n\u001b[0;32m   2235\u001b[0m     \u001b[38;5;28;01mif\u001b[39;00m ax \u001b[38;5;129;01mis\u001b[39;00m \u001b[38;5;28;01mNone\u001b[39;00m:\n\u001b[0;32m   2236\u001b[0m         ax \u001b[38;5;241m=\u001b[39m plt\u001b[38;5;241m.\u001b[39mgca()\n",
      "File \u001b[1;32m~\\anaconda3\\Lib\\site-packages\\seaborn\\categorical.py:786\u001b[0m, in \u001b[0;36m_BoxPlotter.__init__\u001b[1;34m(self, x, y, hue, data, order, hue_order, orient, color, palette, saturation, width, dodge, fliersize, linewidth)\u001b[0m\n\u001b[0;32m    781\u001b[0m \u001b[38;5;28;01mdef\u001b[39;00m \u001b[38;5;21m__init__\u001b[39m(\u001b[38;5;28mself\u001b[39m, x, y, hue, data, order, hue_order,\n\u001b[0;32m    782\u001b[0m              orient, color, palette, saturation,\n\u001b[0;32m    783\u001b[0m              width, dodge, fliersize, linewidth):\n\u001b[0;32m    785\u001b[0m     \u001b[38;5;28mself\u001b[39m\u001b[38;5;241m.\u001b[39mestablish_variables(x, y, hue, data, orient, order, hue_order)\n\u001b[1;32m--> 786\u001b[0m     \u001b[38;5;28mself\u001b[39m\u001b[38;5;241m.\u001b[39mestablish_colors(color, palette, saturation)\n\u001b[0;32m    788\u001b[0m     \u001b[38;5;28mself\u001b[39m\u001b[38;5;241m.\u001b[39mdodge \u001b[38;5;241m=\u001b[39m dodge\n\u001b[0;32m    789\u001b[0m     \u001b[38;5;28mself\u001b[39m\u001b[38;5;241m.\u001b[39mwidth \u001b[38;5;241m=\u001b[39m width\n",
      "File \u001b[1;32m~\\anaconda3\\Lib\\site-packages\\seaborn\\categorical.py:707\u001b[0m, in \u001b[0;36m_CategoricalPlotter.establish_colors\u001b[1;34m(self, color, palette, saturation)\u001b[0m\n\u001b[0;32m    705\u001b[0m \u001b[38;5;66;03m# Determine the gray color to use for the lines framing the plot\u001b[39;00m\n\u001b[0;32m    706\u001b[0m light_vals \u001b[38;5;241m=\u001b[39m [rgb_to_hls(\u001b[38;5;241m*\u001b[39mc)[\u001b[38;5;241m1\u001b[39m] \u001b[38;5;28;01mfor\u001b[39;00m c \u001b[38;5;129;01min\u001b[39;00m rgb_colors]\n\u001b[1;32m--> 707\u001b[0m lum \u001b[38;5;241m=\u001b[39m \u001b[38;5;28mmin\u001b[39m(light_vals) \u001b[38;5;241m*\u001b[39m \u001b[38;5;241m.6\u001b[39m\n\u001b[0;32m    708\u001b[0m gray \u001b[38;5;241m=\u001b[39m mpl\u001b[38;5;241m.\u001b[39mcolors\u001b[38;5;241m.\u001b[39mrgb2hex((lum, lum, lum))\n\u001b[0;32m    710\u001b[0m \u001b[38;5;66;03m# Assign object attributes\u001b[39;00m\n",
      "\u001b[1;31mValueError\u001b[0m: min() arg is an empty sequence"
     ]
    },
    {
     "data": {
      "text/plain": [
       "<Figure size 640x480 with 0 Axes>"
      ]
     },
     "metadata": {},
     "output_type": "display_data"
    }
   ],
   "source": [
    "plt.figure()\n",
    "sns.boxplot(data=abalone_data.iloc[:, :-1], orient=\"h\", palette=\"Set2\");"
   ]
  },
  {
   "cell_type": "markdown",
   "id": "ad0d303f",
   "metadata": {
    "papermill": {
     "duration": 0.022557,
     "end_time": "2022-07-23T12:15:37.110335",
     "exception": false,
     "start_time": "2022-07-23T12:15:37.087778",
     "status": "completed"
    },
    "tags": []
   },
   "source": [
    "We find different features to be having different ranges through this box-plot, which indicates that scaling the features may be useful. "
   ]
  },
  {
   "cell_type": "code",
   "execution_count": 11,
   "id": "e2d2ce5d",
   "metadata": {
    "execution": {
     "iopub.execute_input": "2022-07-23T12:15:37.158734Z",
     "iopub.status.busy": "2022-07-23T12:15:37.157524Z",
     "iopub.status.idle": "2022-07-23T12:15:37.172858Z",
     "shell.execute_reply": "2022-07-23T12:15:37.171606Z"
    },
    "papermill": {
     "duration": 0.042631,
     "end_time": "2022-07-23T12:15:37.175906",
     "exception": false,
     "start_time": "2022-07-23T12:15:37.133275",
     "status": "completed"
    },
    "tags": []
   },
   "outputs": [
    {
     "name": "stdout",
     "output_type": "stream",
     "text": [
      "<class 'pandas.core.frame.DataFrame'>\n",
      "RangeIndex: 4177 entries, 0 to 4176\n",
      "Data columns (total 9 columns):\n",
      " #   Column          Non-Null Count  Dtype  \n",
      "---  ------          --------------  -----  \n",
      " 0   Sex             4177 non-null   object \n",
      " 1   Length          4177 non-null   float64\n",
      " 2   Diameter        4177 non-null   float64\n",
      " 3   Height          4177 non-null   float64\n",
      " 4   Whole weight    4177 non-null   float64\n",
      " 5   Shucked Weight  4177 non-null   float64\n",
      " 6   Viscera weight  4177 non-null   float64\n",
      " 7   shell weight    4177 non-null   float64\n",
      " 8   Rings           4177 non-null   int64  \n",
      "dtypes: float64(7), int64(1), object(1)\n",
      "memory usage: 293.8+ KB\n"
     ]
    }
   ],
   "source": [
    "abalone_data.info()"
   ]
  },
  {
   "cell_type": "markdown",
   "id": "c59b669f",
   "metadata": {
    "papermill": {
     "duration": 0.021562,
     "end_time": "2022-07-23T12:15:37.221952",
     "exception": false,
     "start_time": "2022-07-23T12:15:37.200390",
     "status": "completed"
    },
    "tags": []
   },
   "source": [
    "From the information above, all features are continuous variables except for the Sex feature."
   ]
  },
  {
   "cell_type": "code",
   "execution_count": 12,
   "id": "73c9ada3",
   "metadata": {
    "execution": {
     "iopub.execute_input": "2022-07-23T12:15:37.267012Z",
     "iopub.status.busy": "2022-07-23T12:15:37.266606Z",
     "iopub.status.idle": "2022-07-23T12:15:37.299253Z",
     "shell.execute_reply": "2022-07-23T12:15:37.298084Z"
    },
    "papermill": {
     "duration": 0.057866,
     "end_time": "2022-07-23T12:15:37.301483",
     "exception": false,
     "start_time": "2022-07-23T12:15:37.243617",
     "status": "completed"
    },
    "tags": []
   },
   "outputs": [
    {
     "data": {
      "text/html": [
       "<div>\n",
       "<style scoped>\n",
       "    .dataframe tbody tr th:only-of-type {\n",
       "        vertical-align: middle;\n",
       "    }\n",
       "\n",
       "    .dataframe tbody tr th {\n",
       "        vertical-align: top;\n",
       "    }\n",
       "\n",
       "    .dataframe thead th {\n",
       "        text-align: right;\n",
       "    }\n",
       "</style>\n",
       "<table border=\"1\" class=\"dataframe\">\n",
       "  <thead>\n",
       "    <tr style=\"text-align: right;\">\n",
       "      <th></th>\n",
       "      <th>Length</th>\n",
       "      <th>Diameter</th>\n",
       "      <th>Height</th>\n",
       "      <th>Whole weight</th>\n",
       "      <th>Shucked Weight</th>\n",
       "      <th>Viscera weight</th>\n",
       "      <th>shell weight</th>\n",
       "      <th>Rings</th>\n",
       "    </tr>\n",
       "  </thead>\n",
       "  <tbody>\n",
       "    <tr>\n",
       "      <th>count</th>\n",
       "      <td>4177.000000</td>\n",
       "      <td>4177.000000</td>\n",
       "      <td>4177.000000</td>\n",
       "      <td>4177.000000</td>\n",
       "      <td>4177.000000</td>\n",
       "      <td>4177.000000</td>\n",
       "      <td>4177.000000</td>\n",
       "      <td>4177.000000</td>\n",
       "    </tr>\n",
       "    <tr>\n",
       "      <th>mean</th>\n",
       "      <td>0.523992</td>\n",
       "      <td>0.407881</td>\n",
       "      <td>0.139516</td>\n",
       "      <td>0.828742</td>\n",
       "      <td>0.359367</td>\n",
       "      <td>0.180594</td>\n",
       "      <td>0.238831</td>\n",
       "      <td>9.933684</td>\n",
       "    </tr>\n",
       "    <tr>\n",
       "      <th>std</th>\n",
       "      <td>0.120093</td>\n",
       "      <td>0.099240</td>\n",
       "      <td>0.041827</td>\n",
       "      <td>0.490389</td>\n",
       "      <td>0.221963</td>\n",
       "      <td>0.109614</td>\n",
       "      <td>0.139203</td>\n",
       "      <td>3.224169</td>\n",
       "    </tr>\n",
       "    <tr>\n",
       "      <th>min</th>\n",
       "      <td>0.075000</td>\n",
       "      <td>0.055000</td>\n",
       "      <td>0.000000</td>\n",
       "      <td>0.002000</td>\n",
       "      <td>0.001000</td>\n",
       "      <td>0.000500</td>\n",
       "      <td>0.001500</td>\n",
       "      <td>1.000000</td>\n",
       "    </tr>\n",
       "    <tr>\n",
       "      <th>25%</th>\n",
       "      <td>0.450000</td>\n",
       "      <td>0.350000</td>\n",
       "      <td>0.115000</td>\n",
       "      <td>0.441500</td>\n",
       "      <td>0.186000</td>\n",
       "      <td>0.093500</td>\n",
       "      <td>0.130000</td>\n",
       "      <td>8.000000</td>\n",
       "    </tr>\n",
       "    <tr>\n",
       "      <th>50%</th>\n",
       "      <td>0.545000</td>\n",
       "      <td>0.425000</td>\n",
       "      <td>0.140000</td>\n",
       "      <td>0.799500</td>\n",
       "      <td>0.336000</td>\n",
       "      <td>0.171000</td>\n",
       "      <td>0.234000</td>\n",
       "      <td>9.000000</td>\n",
       "    </tr>\n",
       "    <tr>\n",
       "      <th>75%</th>\n",
       "      <td>0.615000</td>\n",
       "      <td>0.480000</td>\n",
       "      <td>0.165000</td>\n",
       "      <td>1.153000</td>\n",
       "      <td>0.502000</td>\n",
       "      <td>0.253000</td>\n",
       "      <td>0.329000</td>\n",
       "      <td>11.000000</td>\n",
       "    </tr>\n",
       "    <tr>\n",
       "      <th>max</th>\n",
       "      <td>0.815000</td>\n",
       "      <td>0.650000</td>\n",
       "      <td>1.130000</td>\n",
       "      <td>2.825500</td>\n",
       "      <td>1.488000</td>\n",
       "      <td>0.760000</td>\n",
       "      <td>1.005000</td>\n",
       "      <td>29.000000</td>\n",
       "    </tr>\n",
       "  </tbody>\n",
       "</table>\n",
       "</div>"
      ],
      "text/plain": [
       "            Length     Diameter       Height  Whole weight  Shucked Weight  \\\n",
       "count  4177.000000  4177.000000  4177.000000   4177.000000     4177.000000   \n",
       "mean      0.523992     0.407881     0.139516      0.828742        0.359367   \n",
       "std       0.120093     0.099240     0.041827      0.490389        0.221963   \n",
       "min       0.075000     0.055000     0.000000      0.002000        0.001000   \n",
       "25%       0.450000     0.350000     0.115000      0.441500        0.186000   \n",
       "50%       0.545000     0.425000     0.140000      0.799500        0.336000   \n",
       "75%       0.615000     0.480000     0.165000      1.153000        0.502000   \n",
       "max       0.815000     0.650000     1.130000      2.825500        1.488000   \n",
       "\n",
       "       Viscera weight  shell weight        Rings  \n",
       "count     4177.000000   4177.000000  4177.000000  \n",
       "mean         0.180594      0.238831     9.933684  \n",
       "std          0.109614      0.139203     3.224169  \n",
       "min          0.000500      0.001500     1.000000  \n",
       "25%          0.093500      0.130000     8.000000  \n",
       "50%          0.171000      0.234000     9.000000  \n",
       "75%          0.253000      0.329000    11.000000  \n",
       "max          0.760000      1.005000    29.000000  "
      ]
     },
     "execution_count": 12,
     "metadata": {},
     "output_type": "execute_result"
    }
   ],
   "source": [
    "abalone_data.describe()"
   ]
  },
  {
   "cell_type": "markdown",
   "id": "c936688b",
   "metadata": {
    "papermill": {
     "duration": 0.021555,
     "end_time": "2022-07-23T12:15:37.345163",
     "exception": false,
     "start_time": "2022-07-23T12:15:37.323608",
     "status": "completed"
    },
    "tags": []
   },
   "source": [
    "The count row shows that there are no missing values.\n",
    "\n",
    "However, in the Height feature, the minimum value is zero. This possibility calls for a missing value in the data and we will process the missing value.\n",
    "\n",
    "Next, take a look at the target in this case in the Rings column."
   ]
  },
  {
   "cell_type": "code",
   "execution_count": 13,
   "id": "6a317989",
   "metadata": {
    "execution": {
     "iopub.execute_input": "2022-07-23T12:15:37.391344Z",
     "iopub.status.busy": "2022-07-23T12:15:37.390774Z",
     "iopub.status.idle": "2022-07-23T12:15:37.397308Z",
     "shell.execute_reply": "2022-07-23T12:15:37.396524Z"
    },
    "papermill": {
     "duration": 0.032046,
     "end_time": "2022-07-23T12:15:37.399140",
     "exception": false,
     "start_time": "2022-07-23T12:15:37.367094",
     "status": "completed"
    },
    "tags": []
   },
   "outputs": [
    {
     "data": {
      "text/plain": [
       "array([15,  7,  9, 10,  8, 20, 16, 19, 14, 11, 12, 18, 13,  5,  4,  6, 21,\n",
       "       17, 22,  1,  3, 26, 23, 29,  2, 27, 25, 24])"
      ]
     },
     "execution_count": 13,
     "metadata": {},
     "output_type": "execute_result"
    }
   ],
   "source": [
    "abalone_data['Rings'].unique()"
   ]
  },
  {
   "cell_type": "code",
   "execution_count": 14,
   "id": "70e34172",
   "metadata": {
    "execution": {
     "iopub.execute_input": "2022-07-23T12:15:37.446322Z",
     "iopub.status.busy": "2022-07-23T12:15:37.445679Z",
     "iopub.status.idle": "2022-07-23T12:15:37.455972Z",
     "shell.execute_reply": "2022-07-23T12:15:37.455127Z"
    },
    "papermill": {
     "duration": 0.03656,
     "end_time": "2022-07-23T12:15:37.457994",
     "exception": false,
     "start_time": "2022-07-23T12:15:37.421434",
     "status": "completed"
    },
    "tags": []
   },
   "outputs": [
    {
     "data": {
      "text/plain": [
       "1       1\n",
       "2       1\n",
       "3      15\n",
       "4      57\n",
       "5     115\n",
       "6     259\n",
       "7     391\n",
       "8     568\n",
       "9     689\n",
       "10    634\n",
       "11    487\n",
       "12    267\n",
       "13    203\n",
       "14    126\n",
       "15    103\n",
       "16     67\n",
       "17     58\n",
       "18     42\n",
       "19     32\n",
       "20     26\n",
       "21     14\n",
       "22      6\n",
       "23      9\n",
       "24      2\n",
       "25      1\n",
       "26      1\n",
       "27      2\n",
       "29      1\n",
       "Name: Rings, dtype: int64"
      ]
     },
     "execution_count": 14,
     "metadata": {},
     "output_type": "execute_result"
    }
   ],
   "source": [
    "abalone_data['Rings'].value_counts().sort_index()"
   ]
  },
  {
   "cell_type": "markdown",
   "id": "2452d9f8",
   "metadata": {
    "papermill": {
     "duration": 0.022086,
     "end_time": "2022-07-23T12:15:37.502431",
     "exception": false,
     "start_time": "2022-07-23T12:15:37.480345",
     "status": "completed"
    },
    "tags": []
   },
   "source": [
    "We can see that the target is 1 to 29(but there is no 28), so we are going to do is a multi-class classification."
   ]
  },
  {
   "cell_type": "markdown",
   "id": "9da9400c",
   "metadata": {
    "papermill": {
     "duration": 0.022002,
     "end_time": "2022-07-23T12:15:37.547632",
     "exception": false,
     "start_time": "2022-07-23T12:15:37.525630",
     "status": "completed"
    },
    "tags": []
   },
   "source": [
    "## Missing Values(or 0 values)"
   ]
  },
  {
   "cell_type": "markdown",
   "id": "105ab934",
   "metadata": {
    "papermill": {
     "duration": 0.022066,
     "end_time": "2022-07-23T12:15:37.592009",
     "exception": false,
     "start_time": "2022-07-23T12:15:37.569943",
     "status": "completed"
    },
    "tags": []
   },
   "source": [
    "We first check how many missing values are in the Height feature and which class is it in."
   ]
  },
  {
   "cell_type": "code",
   "execution_count": 15,
   "id": "9a9af2a9",
   "metadata": {
    "execution": {
     "iopub.execute_input": "2022-07-23T12:15:37.638195Z",
     "iopub.status.busy": "2022-07-23T12:15:37.637472Z",
     "iopub.status.idle": "2022-07-23T12:15:37.644395Z",
     "shell.execute_reply": "2022-07-23T12:15:37.643714Z"
    },
    "papermill": {
     "duration": 0.032289,
     "end_time": "2022-07-23T12:15:37.646355",
     "exception": false,
     "start_time": "2022-07-23T12:15:37.614066",
     "status": "completed"
    },
    "tags": []
   },
   "outputs": [
    {
     "data": {
      "text/plain": [
       "2"
      ]
     },
     "execution_count": 15,
     "metadata": {},
     "output_type": "execute_result"
    }
   ],
   "source": [
    "(abalone_data['Height'] == 0).sum()"
   ]
  },
  {
   "cell_type": "code",
   "execution_count": 16,
   "id": "e9a15137",
   "metadata": {
    "execution": {
     "iopub.execute_input": "2022-07-23T12:15:37.692887Z",
     "iopub.status.busy": "2022-07-23T12:15:37.692508Z",
     "iopub.status.idle": "2022-07-23T12:15:37.707026Z",
     "shell.execute_reply": "2022-07-23T12:15:37.705985Z"
    },
    "papermill": {
     "duration": 0.040335,
     "end_time": "2022-07-23T12:15:37.709059",
     "exception": false,
     "start_time": "2022-07-23T12:15:37.668724",
     "status": "completed"
    },
    "tags": []
   },
   "outputs": [
    {
     "data": {
      "text/html": [
       "<div>\n",
       "<style scoped>\n",
       "    .dataframe tbody tr th:only-of-type {\n",
       "        vertical-align: middle;\n",
       "    }\n",
       "\n",
       "    .dataframe tbody tr th {\n",
       "        vertical-align: top;\n",
       "    }\n",
       "\n",
       "    .dataframe thead th {\n",
       "        text-align: right;\n",
       "    }\n",
       "</style>\n",
       "<table border=\"1\" class=\"dataframe\">\n",
       "  <thead>\n",
       "    <tr style=\"text-align: right;\">\n",
       "      <th></th>\n",
       "      <th>Sex</th>\n",
       "      <th>Length</th>\n",
       "      <th>Diameter</th>\n",
       "      <th>Height</th>\n",
       "      <th>Whole weight</th>\n",
       "      <th>Shucked Weight</th>\n",
       "      <th>Viscera weight</th>\n",
       "      <th>shell weight</th>\n",
       "      <th>Rings</th>\n",
       "    </tr>\n",
       "  </thead>\n",
       "  <tbody>\n",
       "    <tr>\n",
       "      <th>1257</th>\n",
       "      <td>I</td>\n",
       "      <td>0.430</td>\n",
       "      <td>0.34</td>\n",
       "      <td>0.0</td>\n",
       "      <td>0.428</td>\n",
       "      <td>0.2065</td>\n",
       "      <td>0.0860</td>\n",
       "      <td>0.1150</td>\n",
       "      <td>8</td>\n",
       "    </tr>\n",
       "    <tr>\n",
       "      <th>3996</th>\n",
       "      <td>I</td>\n",
       "      <td>0.315</td>\n",
       "      <td>0.23</td>\n",
       "      <td>0.0</td>\n",
       "      <td>0.134</td>\n",
       "      <td>0.0575</td>\n",
       "      <td>0.0285</td>\n",
       "      <td>0.3505</td>\n",
       "      <td>6</td>\n",
       "    </tr>\n",
       "  </tbody>\n",
       "</table>\n",
       "</div>"
      ],
      "text/plain": [
       "     Sex  Length  Diameter  Height  Whole weight  Shucked Weight  \\\n",
       "1257   I   0.430      0.34     0.0         0.428          0.2065   \n",
       "3996   I   0.315      0.23     0.0         0.134          0.0575   \n",
       "\n",
       "      Viscera weight  shell weight  Rings  \n",
       "1257          0.0860        0.1150      8  \n",
       "3996          0.0285        0.3505      6  "
      ]
     },
     "execution_count": 16,
     "metadata": {},
     "output_type": "execute_result"
    }
   ],
   "source": [
    "abalone_data[abalone_data['Height'] == 0]"
   ]
  },
  {
   "cell_type": "markdown",
   "id": "50fe0b78",
   "metadata": {
    "papermill": {
     "duration": 0.022253,
     "end_time": "2022-07-23T12:15:37.753738",
     "exception": false,
     "start_time": "2022-07-23T12:15:37.731485",
     "status": "completed"
    },
    "tags": []
   },
   "source": [
    "The no. of missing values is 2 and is in the infant sex. Then we change the value 0 to null. We will fill in the missing value with the average Height feature for the infant gender."
   ]
  },
  {
   "cell_type": "code",
   "execution_count": 17,
   "id": "3684cac4",
   "metadata": {
    "execution": {
     "iopub.execute_input": "2022-07-23T12:15:37.801667Z",
     "iopub.status.busy": "2022-07-23T12:15:37.801287Z",
     "iopub.status.idle": "2022-07-23T12:15:37.818476Z",
     "shell.execute_reply": "2022-07-23T12:15:37.817659Z"
    },
    "papermill": {
     "duration": 0.043657,
     "end_time": "2022-07-23T12:15:37.820461",
     "exception": false,
     "start_time": "2022-07-23T12:15:37.776804",
     "status": "completed"
    },
    "tags": []
   },
   "outputs": [
    {
     "data": {
      "text/html": [
       "<div>\n",
       "<style scoped>\n",
       "    .dataframe tbody tr th:only-of-type {\n",
       "        vertical-align: middle;\n",
       "    }\n",
       "\n",
       "    .dataframe tbody tr th {\n",
       "        vertical-align: top;\n",
       "    }\n",
       "\n",
       "    .dataframe thead th {\n",
       "        text-align: right;\n",
       "    }\n",
       "</style>\n",
       "<table border=\"1\" class=\"dataframe\">\n",
       "  <thead>\n",
       "    <tr style=\"text-align: right;\">\n",
       "      <th></th>\n",
       "      <th>Height</th>\n",
       "    </tr>\n",
       "    <tr>\n",
       "      <th>Sex</th>\n",
       "      <th></th>\n",
       "    </tr>\n",
       "  </thead>\n",
       "  <tbody>\n",
       "    <tr>\n",
       "      <th>F</th>\n",
       "      <td>0.158011</td>\n",
       "    </tr>\n",
       "    <tr>\n",
       "      <th>I</th>\n",
       "      <td>0.107996</td>\n",
       "    </tr>\n",
       "    <tr>\n",
       "      <th>M</th>\n",
       "      <td>0.151381</td>\n",
       "    </tr>\n",
       "  </tbody>\n",
       "</table>\n",
       "</div>"
      ],
      "text/plain": [
       "       Height\n",
       "Sex          \n",
       "F    0.158011\n",
       "I    0.107996\n",
       "M    0.151381"
      ]
     },
     "execution_count": 17,
     "metadata": {},
     "output_type": "execute_result"
    }
   ],
   "source": [
    "means = pd.pivot_table(abalone_data, index=['Sex'], aggfunc={'Height':np.mean})\n",
    "means"
   ]
  },
  {
   "cell_type": "markdown",
   "id": "9ffa308c",
   "metadata": {
    "papermill": {
     "duration": 0.022534,
     "end_time": "2022-07-23T12:15:37.865753",
     "exception": false,
     "start_time": "2022-07-23T12:15:37.843219",
     "status": "completed"
    },
    "tags": []
   },
   "source": [
    "So we will fill in the missing value with 0.107996. (will do this in a little while during preprocessing)"
   ]
  },
  {
   "cell_type": "markdown",
   "id": "a56fdf1f",
   "metadata": {
    "papermill": {
     "duration": 0.022811,
     "end_time": "2022-07-23T12:15:37.911297",
     "exception": false,
     "start_time": "2022-07-23T12:15:37.888486",
     "status": "completed"
    },
    "tags": []
   },
   "source": [
    "## Storing data in the form of X and y"
   ]
  },
  {
   "cell_type": "code",
   "execution_count": 18,
   "id": "4a42e1a2",
   "metadata": {
    "execution": {
     "iopub.execute_input": "2022-07-23T12:15:37.959403Z",
     "iopub.status.busy": "2022-07-23T12:15:37.958600Z",
     "iopub.status.idle": "2022-07-23T12:15:37.964485Z",
     "shell.execute_reply": "2022-07-23T12:15:37.963773Z"
    },
    "papermill": {
     "duration": 0.032337,
     "end_time": "2022-07-23T12:15:37.966483",
     "exception": false,
     "start_time": "2022-07-23T12:15:37.934146",
     "status": "completed"
    },
    "tags": []
   },
   "outputs": [],
   "source": [
    "X = abalone_data.iloc[:,:-1]\n",
    "y = abalone_data.iloc[:, -1]"
   ]
  },
  {
   "cell_type": "code",
   "execution_count": 19,
   "id": "3b3ee29c",
   "metadata": {
    "execution": {
     "iopub.execute_input": "2022-07-23T12:15:38.015286Z",
     "iopub.status.busy": "2022-07-23T12:15:38.014568Z",
     "iopub.status.idle": "2022-07-23T12:15:38.028738Z",
     "shell.execute_reply": "2022-07-23T12:15:38.027872Z"
    },
    "papermill": {
     "duration": 0.040841,
     "end_time": "2022-07-23T12:15:38.030599",
     "exception": false,
     "start_time": "2022-07-23T12:15:37.989758",
     "status": "completed"
    },
    "tags": []
   },
   "outputs": [
    {
     "data": {
      "text/html": [
       "<div>\n",
       "<style scoped>\n",
       "    .dataframe tbody tr th:only-of-type {\n",
       "        vertical-align: middle;\n",
       "    }\n",
       "\n",
       "    .dataframe tbody tr th {\n",
       "        vertical-align: top;\n",
       "    }\n",
       "\n",
       "    .dataframe thead th {\n",
       "        text-align: right;\n",
       "    }\n",
       "</style>\n",
       "<table border=\"1\" class=\"dataframe\">\n",
       "  <thead>\n",
       "    <tr style=\"text-align: right;\">\n",
       "      <th></th>\n",
       "      <th>Sex</th>\n",
       "      <th>Length</th>\n",
       "      <th>Diameter</th>\n",
       "      <th>Height</th>\n",
       "      <th>Whole weight</th>\n",
       "      <th>Shucked Weight</th>\n",
       "      <th>Viscera weight</th>\n",
       "      <th>shell weight</th>\n",
       "    </tr>\n",
       "  </thead>\n",
       "  <tbody>\n",
       "    <tr>\n",
       "      <th>0</th>\n",
       "      <td>M</td>\n",
       "      <td>0.455</td>\n",
       "      <td>0.365</td>\n",
       "      <td>0.095</td>\n",
       "      <td>0.5140</td>\n",
       "      <td>0.2245</td>\n",
       "      <td>0.1010</td>\n",
       "      <td>0.150</td>\n",
       "    </tr>\n",
       "    <tr>\n",
       "      <th>1</th>\n",
       "      <td>M</td>\n",
       "      <td>0.350</td>\n",
       "      <td>0.265</td>\n",
       "      <td>0.090</td>\n",
       "      <td>0.2255</td>\n",
       "      <td>0.0995</td>\n",
       "      <td>0.0485</td>\n",
       "      <td>0.070</td>\n",
       "    </tr>\n",
       "    <tr>\n",
       "      <th>2</th>\n",
       "      <td>F</td>\n",
       "      <td>0.530</td>\n",
       "      <td>0.420</td>\n",
       "      <td>0.135</td>\n",
       "      <td>0.6770</td>\n",
       "      <td>0.2565</td>\n",
       "      <td>0.1415</td>\n",
       "      <td>0.210</td>\n",
       "    </tr>\n",
       "    <tr>\n",
       "      <th>3</th>\n",
       "      <td>M</td>\n",
       "      <td>0.440</td>\n",
       "      <td>0.365</td>\n",
       "      <td>0.125</td>\n",
       "      <td>0.5160</td>\n",
       "      <td>0.2155</td>\n",
       "      <td>0.1140</td>\n",
       "      <td>0.155</td>\n",
       "    </tr>\n",
       "    <tr>\n",
       "      <th>4</th>\n",
       "      <td>I</td>\n",
       "      <td>0.330</td>\n",
       "      <td>0.255</td>\n",
       "      <td>0.080</td>\n",
       "      <td>0.2050</td>\n",
       "      <td>0.0895</td>\n",
       "      <td>0.0395</td>\n",
       "      <td>0.055</td>\n",
       "    </tr>\n",
       "  </tbody>\n",
       "</table>\n",
       "</div>"
      ],
      "text/plain": [
       "  Sex  Length  Diameter  Height  Whole weight  Shucked Weight  Viscera weight  \\\n",
       "0   M   0.455     0.365   0.095        0.5140          0.2245          0.1010   \n",
       "1   M   0.350     0.265   0.090        0.2255          0.0995          0.0485   \n",
       "2   F   0.530     0.420   0.135        0.6770          0.2565          0.1415   \n",
       "3   M   0.440     0.365   0.125        0.5160          0.2155          0.1140   \n",
       "4   I   0.330     0.255   0.080        0.2050          0.0895          0.0395   \n",
       "\n",
       "   shell weight  \n",
       "0         0.150  \n",
       "1         0.070  \n",
       "2         0.210  \n",
       "3         0.155  \n",
       "4         0.055  "
      ]
     },
     "execution_count": 19,
     "metadata": {},
     "output_type": "execute_result"
    }
   ],
   "source": [
    "X[:5]"
   ]
  },
  {
   "cell_type": "markdown",
   "id": "1a6e0e0a",
   "metadata": {
    "papermill": {
     "duration": 0.022842,
     "end_time": "2022-07-23T12:15:38.076408",
     "exception": false,
     "start_time": "2022-07-23T12:15:38.053566",
     "status": "completed"
    },
    "tags": []
   },
   "source": [
    "## Splitting data into trains and test sets"
   ]
  },
  {
   "cell_type": "code",
   "execution_count": 20,
   "id": "31c02060",
   "metadata": {
    "execution": {
     "iopub.execute_input": "2022-07-23T12:15:38.124262Z",
     "iopub.status.busy": "2022-07-23T12:15:38.123643Z",
     "iopub.status.idle": "2022-07-23T12:15:38.130348Z",
     "shell.execute_reply": "2022-07-23T12:15:38.129724Z"
    },
    "papermill": {
     "duration": 0.03274,
     "end_time": "2022-07-23T12:15:38.132174",
     "exception": false,
     "start_time": "2022-07-23T12:15:38.099434",
     "status": "completed"
    },
    "tags": []
   },
   "outputs": [],
   "source": [
    "X_train, X_test, y_train, y_test = train_test_split(X, y,\n",
    "                                                   test_size=0.2,\n",
    "                                                   random_state=0)"
   ]
  },
  {
   "cell_type": "markdown",
   "id": "7e70085c",
   "metadata": {
    "papermill": {
     "duration": 0.022657,
     "end_time": "2022-07-23T12:15:38.177640",
     "exception": false,
     "start_time": "2022-07-23T12:15:38.154983",
     "status": "completed"
    },
    "tags": []
   },
   "source": [
    "## Pipelining\n",
    "\n",
    "We will use pipelines to perform preprocessing of the data, which will include: handling missing (or 0) values, scaling the features and handling the categorical feature(viz., sex in this case)"
   ]
  },
  {
   "cell_type": "code",
   "execution_count": 21,
   "id": "a4509765",
   "metadata": {
    "execution": {
     "iopub.execute_input": "2022-07-23T12:15:38.225586Z",
     "iopub.status.busy": "2022-07-23T12:15:38.224855Z",
     "iopub.status.idle": "2022-07-23T12:15:38.393812Z",
     "shell.execute_reply": "2022-07-23T12:15:38.392924Z"
    },
    "papermill": {
     "duration": 0.195608,
     "end_time": "2022-07-23T12:15:38.396147",
     "exception": false,
     "start_time": "2022-07-23T12:15:38.200539",
     "status": "completed"
    },
    "tags": []
   },
   "outputs": [],
   "source": [
    "from sklearn.pipeline import Pipeline\n",
    "from sklearn.compose import ColumnTransformer\n",
    "from sklearn.impute import SimpleImputer\n",
    "from sklearn.preprocessing import StandardScaler, OneHotEncoder\n",
    "from sklearn.tree import DecisionTreeClassifier"
   ]
  },
  {
   "cell_type": "markdown",
   "id": "9e32cfe4",
   "metadata": {
    "papermill": {
     "duration": 0.0232,
     "end_time": "2022-07-23T12:15:38.443223",
     "exception": false,
     "start_time": "2022-07-23T12:15:38.420023",
     "status": "completed"
    },
    "tags": []
   },
   "source": [
    "### Identifying numeric and Categorical features (to be able to preprocess them differently)\n"
   ]
  },
  {
   "cell_type": "code",
   "execution_count": 22,
   "id": "442442ce",
   "metadata": {
    "execution": {
     "iopub.execute_input": "2022-07-23T12:15:38.492664Z",
     "iopub.status.busy": "2022-07-23T12:15:38.492279Z",
     "iopub.status.idle": "2022-07-23T12:15:38.496886Z",
     "shell.execute_reply": "2022-07-23T12:15:38.496020Z"
    },
    "papermill": {
     "duration": 0.031812,
     "end_time": "2022-07-23T12:15:38.499006",
     "exception": false,
     "start_time": "2022-07-23T12:15:38.467194",
     "status": "completed"
    },
    "tags": []
   },
   "outputs": [],
   "source": [
    "numeric_features = ['Length', 'Diameter', 'Height', 'Whole weight', 'Shucked Weight', 'Viscera weight', 'shell weight']\n",
    "categorical_features = [\"Sex\"]"
   ]
  },
  {
   "cell_type": "code",
   "execution_count": 23,
   "id": "1f0dae60",
   "metadata": {
    "execution": {
     "iopub.execute_input": "2022-07-23T12:15:38.547445Z",
     "iopub.status.busy": "2022-07-23T12:15:38.546827Z",
     "iopub.status.idle": "2022-07-23T12:15:38.551371Z",
     "shell.execute_reply": "2022-07-23T12:15:38.550374Z"
    },
    "papermill": {
     "duration": 0.031091,
     "end_time": "2022-07-23T12:15:38.553409",
     "exception": false,
     "start_time": "2022-07-23T12:15:38.522318",
     "status": "completed"
    },
    "tags": []
   },
   "outputs": [],
   "source": [
    "numeric_transformer = Pipeline(\n",
    "    steps=[(\"imputer\", SimpleImputer(missing_values=0, strategy=\"constant\", fill_value=0.107996)),\n",
    "          (\"scaler\", StandardScaler())])"
   ]
  },
  {
   "cell_type": "code",
   "execution_count": 24,
   "id": "2714ff0b",
   "metadata": {
    "execution": {
     "iopub.execute_input": "2022-07-23T12:15:38.600850Z",
     "iopub.status.busy": "2022-07-23T12:15:38.600432Z",
     "iopub.status.idle": "2022-07-23T12:15:38.605249Z",
     "shell.execute_reply": "2022-07-23T12:15:38.604226Z"
    },
    "papermill": {
     "duration": 0.031109,
     "end_time": "2022-07-23T12:15:38.607315",
     "exception": false,
     "start_time": "2022-07-23T12:15:38.576206",
     "status": "completed"
    },
    "tags": []
   },
   "outputs": [],
   "source": [
    "categorical_transformer = OneHotEncoder(handle_unknown=\"ignore\")"
   ]
  },
  {
   "cell_type": "code",
   "execution_count": 25,
   "id": "64f76879",
   "metadata": {
    "execution": {
     "iopub.execute_input": "2022-07-23T12:15:38.654988Z",
     "iopub.status.busy": "2022-07-23T12:15:38.654595Z",
     "iopub.status.idle": "2022-07-23T12:15:38.659666Z",
     "shell.execute_reply": "2022-07-23T12:15:38.658596Z"
    },
    "papermill": {
     "duration": 0.031659,
     "end_time": "2022-07-23T12:15:38.661652",
     "exception": false,
     "start_time": "2022-07-23T12:15:38.629993",
     "status": "completed"
    },
    "tags": []
   },
   "outputs": [],
   "source": [
    "preprocessor = ColumnTransformer(\n",
    "    transformers=[\n",
    "        (\"num\", numeric_transformer, numeric_features),\n",
    "        (\"cat\", categorical_transformer, categorical_features),\n",
    "    ])"
   ]
  },
  {
   "cell_type": "code",
   "execution_count": 26,
   "id": "bb430799",
   "metadata": {
    "execution": {
     "iopub.execute_input": "2022-07-23T12:15:38.709860Z",
     "iopub.status.busy": "2022-07-23T12:15:38.709453Z",
     "iopub.status.idle": "2022-07-23T12:15:38.714426Z",
     "shell.execute_reply": "2022-07-23T12:15:38.713468Z"
    },
    "papermill": {
     "duration": 0.031535,
     "end_time": "2022-07-23T12:15:38.716372",
     "exception": false,
     "start_time": "2022-07-23T12:15:38.684837",
     "status": "completed"
    },
    "tags": []
   },
   "outputs": [],
   "source": [
    "# Append classifier to preprocessing pipeline.\n",
    "# Now we have a full predicton pipeline.\n",
    "clf = Pipeline(\n",
    "steps=[(\"preprocessor\", preprocessor),\n",
    "       (\"classifier\", DecisionTreeClassifier(max_depth=3, random_state=42))])"
   ]
  },
  {
   "cell_type": "code",
   "execution_count": 27,
   "id": "74bda620",
   "metadata": {
    "execution": {
     "iopub.execute_input": "2022-07-23T12:15:38.764139Z",
     "iopub.status.busy": "2022-07-23T12:15:38.763772Z",
     "iopub.status.idle": "2022-07-23T12:15:38.791684Z",
     "shell.execute_reply": "2022-07-23T12:15:38.790353Z"
    },
    "papermill": {
     "duration": 0.054492,
     "end_time": "2022-07-23T12:15:38.793884",
     "exception": false,
     "start_time": "2022-07-23T12:15:38.739392",
     "status": "completed"
    },
    "tags": []
   },
   "outputs": [
    {
     "name": "stdout",
     "output_type": "stream",
     "text": [
      "Model score: 0.245\n"
     ]
    }
   ],
   "source": [
    "clf.fit(X_train, y_train)\n",
    "print(\"Model score: %.3f\" % clf.score(X_test, y_test))"
   ]
  },
  {
   "cell_type": "code",
   "execution_count": 28,
   "id": "a426aaed",
   "metadata": {
    "execution": {
     "iopub.execute_input": "2022-07-23T12:15:38.841963Z",
     "iopub.status.busy": "2022-07-23T12:15:38.841565Z",
     "iopub.status.idle": "2022-07-23T12:15:38.851712Z",
     "shell.execute_reply": "2022-07-23T12:15:38.850617Z"
    },
    "papermill": {
     "duration": 0.036598,
     "end_time": "2022-07-23T12:15:38.853658",
     "exception": false,
     "start_time": "2022-07-23T12:15:38.817060",
     "status": "completed"
    },
    "tags": []
   },
   "outputs": [],
   "source": [
    "y_pred = clf.predict(X_test)"
   ]
  },
  {
   "cell_type": "markdown",
   "id": "960cacd3",
   "metadata": {
    "papermill": {
     "duration": 0.022736,
     "end_time": "2022-07-23T12:15:38.899325",
     "exception": false,
     "start_time": "2022-07-23T12:15:38.876589",
     "status": "completed"
    },
    "tags": []
   },
   "source": [
    "Let us compare the actual and predicted values of y."
   ]
  },
  {
   "cell_type": "code",
   "execution_count": 29,
   "id": "b9ab8d63",
   "metadata": {
    "collapsed": true,
    "execution": {
     "iopub.execute_input": "2022-07-23T12:15:38.948378Z",
     "iopub.status.busy": "2022-07-23T12:15:38.947982Z",
     "iopub.status.idle": "2022-07-23T12:15:38.989666Z",
     "shell.execute_reply": "2022-07-23T12:15:38.988562Z"
    },
    "jupyter": {
     "outputs_hidden": true
    },
    "papermill": {
     "duration": 0.071793,
     "end_time": "2022-07-23T12:15:38.994914",
     "exception": false,
     "start_time": "2022-07-23T12:15:38.923121",
     "status": "completed"
    },
    "tags": []
   },
   "outputs": [
    {
     "name": "stdout",
     "output_type": "stream",
     "text": [
      "[10 13]\n",
      "[8 8]\n",
      "[10 11]\n",
      "[4 5]\n",
      "[10 12]\n",
      "[10 11]\n",
      "[9 7]\n",
      "[8 8]\n",
      "[7 7]\n",
      "[10  9]\n",
      "[7 8]\n",
      "[5 8]\n",
      "[ 9 11]\n",
      "[8 9]\n",
      "[5 4]\n",
      "[10  7]\n",
      "[9 7]\n",
      "[10 17]\n",
      "[10  7]\n",
      "[7 7]\n",
      "[7 7]\n",
      "[7 5]\n",
      "[8 8]\n",
      "[9 9]\n",
      "[10 10]\n",
      "[10 10]\n",
      "[4 5]\n",
      "[11 15]\n",
      "[ 8 10]\n",
      "[10 14]\n",
      "[9 8]\n",
      "[4 4]\n",
      "[10  9]\n",
      "[11 13]\n",
      "[7 7]\n",
      "[8 7]\n",
      "[7 8]\n",
      "[10  9]\n",
      "[7 8]\n",
      "[10 11]\n",
      "[ 8 15]\n",
      "[ 8 12]\n",
      "[ 8 17]\n",
      "[10 16]\n",
      "[10 11]\n",
      "[ 8 11]\n",
      "[9 8]\n",
      "[10 10]\n",
      "[10 11]\n",
      "[7 6]\n",
      "[10 13]\n",
      "[7 7]\n",
      "[ 9 13]\n",
      "[11 20]\n",
      "[ 8 12]\n",
      "[9 7]\n",
      "[5 8]\n",
      "[ 9 10]\n",
      "[7 7]\n",
      "[7 7]\n",
      "[10  9]\n",
      "[9 9]\n",
      "[ 9 11]\n",
      "[7 8]\n",
      "[7 7]\n",
      "[11 12]\n",
      "[11 13]\n",
      "[10 17]\n",
      "[8 8]\n",
      "[11 12]\n",
      "[8 9]\n",
      "[11 17]\n",
      "[10 10]\n",
      "[8 6]\n",
      "[ 8 11]\n",
      "[8 8]\n",
      "[10  8]\n",
      "[8 9]\n",
      "[10  8]\n",
      "[8 8]\n",
      "[10  8]\n",
      "[5 6]\n",
      "[7 7]\n",
      "[10 13]\n",
      "[ 8 11]\n",
      "[7 6]\n",
      "[10  9]\n",
      "[11 12]\n",
      "[4 5]\n",
      "[7 6]\n",
      "[ 9 11]\n",
      "[ 8 11]\n",
      "[9 8]\n",
      "[7 7]\n",
      "[10 16]\n",
      "[5 8]\n",
      "[ 8 11]\n",
      "[9 8]\n",
      "[10 18]\n",
      "[10 11]\n",
      "[10 12]\n",
      "[ 8 14]\n",
      "[10 12]\n",
      "[10 11]\n",
      "[5 6]\n",
      "[10  9]\n",
      "[7 7]\n",
      "[7 6]\n",
      "[ 7 11]\n",
      "[10 11]\n",
      "[11 11]\n",
      "[11 12]\n",
      "[ 8 20]\n",
      "[ 9 10]\n",
      "[10 14]\n",
      "[11 10]\n",
      "[10 10]\n",
      "[10 12]\n",
      "[5 4]\n",
      "[ 8 12]\n",
      "[7 7]\n",
      "[10 13]\n",
      "[7 6]\n",
      "[8 8]\n",
      "[10 17]\n",
      "[10 15]\n",
      "[10  9]\n",
      "[10 11]\n",
      "[7 7]\n",
      "[10 11]\n",
      "[10  8]\n",
      "[9 7]\n",
      "[8 7]\n",
      "[10 10]\n",
      "[11 11]\n",
      "[10  9]\n",
      "[ 8 10]\n",
      "[8 9]\n",
      "[7 8]\n",
      "[11 16]\n",
      "[ 8 16]\n",
      "[ 8 13]\n",
      "[7 6]\n",
      "[9 9]\n",
      "[10 10]\n",
      "[9 9]\n",
      "[8 8]\n",
      "[7 8]\n",
      "[7 8]\n",
      "[7 5]\n",
      "[8 8]\n",
      "[11 11]\n",
      "[7 5]\n",
      "[10  9]\n",
      "[9 9]\n",
      "[7 6]\n",
      "[10  8]\n",
      "[7 7]\n",
      "[10 10]\n",
      "[ 9 11]\n",
      "[ 8 12]\n",
      "[9 8]\n",
      "[8 9]\n",
      "[10 10]\n",
      "[5 5]\n",
      "[10 16]\n",
      "[7 7]\n",
      "[7 6]\n",
      "[ 8 15]\n",
      "[8 9]\n",
      "[ 9 10]\n",
      "[4 3]\n",
      "[9 6]\n",
      "[10 10]\n",
      "[10 11]\n",
      "[10 12]\n",
      "[5 5]\n",
      "[7 8]\n",
      "[9 5]\n",
      "[10 13]\n",
      "[8 9]\n",
      "[10 11]\n",
      "[9 7]\n",
      "[8 9]\n",
      "[10 15]\n",
      "[8 8]\n",
      "[10 10]\n",
      "[8 8]\n",
      "[7 5]\n",
      "[8 9]\n",
      "[10 19]\n",
      "[8 9]\n",
      "[8 8]\n",
      "[10  9]\n",
      "[10 11]\n",
      "[8 9]\n",
      "[7 9]\n",
      "[8 9]\n",
      "[4 5]\n",
      "[11 15]\n",
      "[ 8 10]\n",
      "[ 8 14]\n",
      "[11 12]\n",
      "[9 8]\n",
      "[10 12]\n",
      "[10 11]\n",
      "[5 5]\n",
      "[11 10]\n",
      "[ 8 11]\n",
      "[10 23]\n",
      "[5 4]\n",
      "[ 8 11]\n",
      "[ 8 11]\n",
      "[10 10]\n",
      "[10  9]\n",
      "[8 9]\n",
      "[8 9]\n",
      "[10  8]\n",
      "[5 5]\n",
      "[11 13]\n",
      "[ 8 12]\n",
      "[10 14]\n",
      "[8 8]\n",
      "[10 11]\n",
      "[10 10]\n",
      "[10 14]\n",
      "[10 13]\n",
      "[ 8 12]\n",
      "[11 12]\n",
      "[10 12]\n",
      "[8 7]\n",
      "[8 7]\n",
      "[7 7]\n",
      "[11 19]\n",
      "[8 9]\n",
      "[10 15]\n",
      "[8 8]\n",
      "[4 4]\n",
      "[8 8]\n",
      "[9 9]\n",
      "[ 8 10]\n",
      "[10 12]\n",
      "[10  9]\n",
      "[10  9]\n",
      "[8 9]\n",
      "[8 8]\n",
      "[10 12]\n",
      "[7 7]\n",
      "[ 9 11]\n",
      "[11 20]\n",
      "[10  8]\n",
      "[9 7]\n",
      "[11 12]\n",
      "[11 13]\n",
      "[10 11]\n",
      "[ 8 14]\n",
      "[7 6]\n",
      "[8 8]\n",
      "[10  9]\n",
      "[11 11]\n",
      "[10  9]\n",
      "[8 8]\n",
      "[10  9]\n",
      "[ 9 11]\n",
      "[ 8 20]\n",
      "[7 9]\n",
      "[ 8 12]\n",
      "[7 7]\n",
      "[7 6]\n",
      "[9 7]\n",
      "[ 8 11]\n",
      "[9 7]\n",
      "[9 9]\n",
      "[9 9]\n",
      "[7 5]\n",
      "[10  9]\n",
      "[10  9]\n",
      "[9 9]\n",
      "[10 10]\n",
      "[ 8 11]\n",
      "[7 7]\n",
      "[11 12]\n",
      "[7 8]\n",
      "[10 10]\n",
      "[10 12]\n",
      "[10 13]\n",
      "[7 9]\n",
      "[10 10]\n",
      "[ 9 11]\n",
      "[10 10]\n",
      "[8 8]\n",
      "[8 9]\n",
      "[5 4]\n",
      "[8 9]\n",
      "[7 7]\n",
      "[9 8]\n",
      "[7 6]\n",
      "[5 6]\n",
      "[8 9]\n",
      "[11 12]\n",
      "[ 9 10]\n",
      "[9 8]\n",
      "[11 15]\n",
      "[ 8 10]\n",
      "[ 9 13]\n",
      "[ 7 10]\n",
      "[8 8]\n",
      "[ 9 10]\n",
      "[ 8 14]\n",
      "[9 8]\n",
      "[10  9]\n",
      "[10 12]\n",
      "[7 8]\n",
      "[8 8]\n",
      "[11 12]\n",
      "[10  9]\n",
      "[ 8 10]\n",
      "[7 7]\n",
      "[7 8]\n",
      "[ 8 10]\n",
      "[10 11]\n",
      "[10 14]\n",
      "[ 8 10]\n",
      "[11 10]\n",
      "[10 15]\n",
      "[8 8]\n",
      "[8 9]\n",
      "[8 9]\n",
      "[10 23]\n",
      "[10 10]\n",
      "[8 8]\n",
      "[11  8]\n",
      "[4 5]\n",
      "[10  9]\n",
      "[10 10]\n",
      "[11 13]\n",
      "[9 7]\n",
      "[8 8]\n",
      "[10 11]\n",
      "[ 8 13]\n",
      "[8 9]\n",
      "[ 8 12]\n",
      "[10 11]\n",
      "[10 10]\n",
      "[10 10]\n",
      "[7 6]\n",
      "[5 5]\n",
      "[10 12]\n",
      "[10 15]\n",
      "[7 7]\n",
      "[5 5]\n",
      "[ 9 10]\n",
      "[11 10]\n",
      "[10 13]\n",
      "[10 10]\n",
      "[ 8 11]\n",
      "[10 10]\n",
      "[10  9]\n",
      "[7 7]\n",
      "[ 8 13]\n",
      "[ 9 10]\n",
      "[ 9 10]\n",
      "[8 7]\n",
      "[10  9]\n",
      "[10 13]\n",
      "[5 5]\n",
      "[5 6]\n",
      "[8 9]\n",
      "[9 7]\n",
      "[ 8 11]\n",
      "[10 11]\n",
      "[7 7]\n",
      "[10 14]\n",
      "[7 7]\n",
      "[10 17]\n",
      "[10 12]\n",
      "[10 12]\n",
      "[7 8]\n",
      "[ 8 12]\n",
      "[4 6]\n",
      "[8 8]\n",
      "[ 8 14]\n",
      "[10 11]\n",
      "[10 15]\n",
      "[5 5]\n",
      "[10 11]\n",
      "[11 11]\n",
      "[8 8]\n",
      "[7 7]\n",
      "[7 7]\n",
      "[11 14]\n",
      "[10  8]\n",
      "[ 8 14]\n",
      "[ 8 14]\n",
      "[11 21]\n",
      "[7 8]\n",
      "[10 11]\n",
      "[8 8]\n",
      "[10 11]\n",
      "[ 8 19]\n",
      "[7 8]\n",
      "[9 9]\n",
      "[7 7]\n",
      "[11 10]\n",
      "[9 9]\n",
      "[11 10]\n",
      "[5 5]\n",
      "[11 19]\n",
      "[11 16]\n",
      "[8 9]\n",
      "[ 8 10]\n",
      "[7 7]\n",
      "[10 11]\n",
      "[10 12]\n",
      "[11 15]\n",
      "[10 11]\n",
      "[10 20]\n",
      "[10 12]\n",
      "[11 13]\n",
      "[10 10]\n",
      "[8 8]\n",
      "[ 8 10]\n",
      "[ 9 11]\n",
      "[10  9]\n",
      "[5 5]\n",
      "[ 8 10]\n",
      "[ 8 11]\n",
      "[10 11]\n",
      "[10 12]\n",
      "[10 16]\n",
      "[8 9]\n",
      "[10 11]\n",
      "[8 9]\n",
      "[10 14]\n",
      "[ 8 14]\n",
      "[ 8 11]\n",
      "[11 11]\n",
      "[8 9]\n",
      "[ 9 12]\n",
      "[10 11]\n",
      "[7 7]\n",
      "[7 6]\n",
      "[10 12]\n",
      "[7 9]\n",
      "[7 7]\n",
      "[7 6]\n",
      "[10 10]\n",
      "[5 4]\n",
      "[ 8 15]\n",
      "[10 10]\n",
      "[4 3]\n",
      "[7 5]\n",
      "[10  9]\n",
      "[7 6]\n",
      "[5 5]\n",
      "[ 9 11]\n",
      "[10 11]\n",
      "[9 9]\n",
      "[9 8]\n",
      "[10 13]\n",
      "[7 7]\n",
      "[11 14]\n",
      "[8 7]\n",
      "[10  8]\n",
      "[ 8 12]\n",
      "[11 10]\n",
      "[ 9 11]\n",
      "[11 14]\n",
      "[ 8 16]\n",
      "[8 6]\n",
      "[ 9 10]\n",
      "[ 8 10]\n",
      "[7 8]\n",
      "[11 10]\n",
      "[8 8]\n",
      "[ 8 11]\n",
      "[7 7]\n",
      "[7 5]\n",
      "[9 9]\n",
      "[10 10]\n",
      "[ 8 12]\n",
      "[11  9]\n",
      "[9 8]\n",
      "[10 12]\n",
      "[11 16]\n",
      "[10 11]\n",
      "[10  9]\n",
      "[ 8 13]\n",
      "[7 8]\n",
      "[11 10]\n",
      "[4 3]\n",
      "[9 7]\n",
      "[10 10]\n",
      "[10 10]\n",
      "[7 6]\n",
      "[7 6]\n",
      "[9 9]\n",
      "[5 6]\n",
      "[10 13]\n",
      "[10  9]\n",
      "[8 7]\n",
      "[10 18]\n",
      "[7 5]\n",
      "[10 10]\n",
      "[10  9]\n",
      "[10  9]\n",
      "[8 9]\n",
      "[11 18]\n",
      "[7 9]\n",
      "[5 7]\n",
      "[8 9]\n",
      "[9 8]\n",
      "[11 18]\n",
      "[10 15]\n",
      "[ 8 10]\n",
      "[7 8]\n",
      "[10 12]\n",
      "[11 12]\n",
      "[11 15]\n",
      "[10  8]\n",
      "[8 8]\n",
      "[8 9]\n",
      "[10  9]\n",
      "[10 10]\n",
      "[7 6]\n",
      "[11 16]\n",
      "[ 8 10]\n",
      "[ 8 10]\n",
      "[8 7]\n",
      "[8 7]\n",
      "[9 8]\n",
      "[7 8]\n",
      "[9 9]\n",
      "[8 9]\n",
      "[5 5]\n",
      "[9 9]\n",
      "[11 10]\n",
      "[11 12]\n",
      "[10 10]\n",
      "[11 13]\n",
      "[ 7 10]\n",
      "[10 12]\n",
      "[9 8]\n",
      "[10 12]\n",
      "[9 5]\n",
      "[10  9]\n",
      "[8 8]\n",
      "[9 8]\n",
      "[10 10]\n",
      "[10 11]\n",
      "[10 10]\n",
      "[11 17]\n",
      "[ 7 12]\n",
      "[11 11]\n",
      "[10  8]\n",
      "[7 8]\n",
      "[8 8]\n",
      "[8 9]\n",
      "[10  9]\n",
      "[ 8 12]\n",
      "[10 13]\n",
      "[10 12]\n",
      "[10 10]\n",
      "[9 9]\n",
      "[11 13]\n",
      "[5 6]\n",
      "[ 9 11]\n",
      "[9 9]\n",
      "[ 9 15]\n",
      "[7 8]\n",
      "[10 13]\n",
      "[9 8]\n",
      "[8 8]\n",
      "[9 8]\n",
      "[8 9]\n",
      "[7 8]\n",
      "[ 8 10]\n",
      "[8 9]\n",
      "[11 11]\n",
      "[4 3]\n",
      "[10  8]\n",
      "[5 6]\n",
      "[5 6]\n",
      "[5 6]\n",
      "[8 9]\n",
      "[9 9]\n",
      "[11 17]\n",
      "[10 10]\n",
      "[8 8]\n",
      "[10 13]\n",
      "[5 7]\n",
      "[8 9]\n",
      "[10 14]\n",
      "[7 7]\n",
      "[10 13]\n",
      "[11 10]\n",
      "[4 4]\n",
      "[ 7 11]\n",
      "[7 7]\n",
      "[10 10]\n",
      "[8 8]\n",
      "[11 11]\n",
      "[ 8 10]\n",
      "[10 12]\n",
      "[10 10]\n",
      "[8 9]\n",
      "[10  7]\n",
      "[ 9 10]\n",
      "[ 9 10]\n",
      "[10 11]\n",
      "[7 6]\n",
      "[11 11]\n",
      "[10 12]\n",
      "[8 9]\n",
      "[ 8 13]\n",
      "[11 12]\n",
      "[ 8 12]\n",
      "[7 7]\n",
      "[11 13]\n",
      "[ 8 16]\n",
      "[ 8 11]\n",
      "[11 11]\n",
      "[7 6]\n",
      "[8 8]\n",
      "[10 12]\n",
      "[10  9]\n",
      "[7 7]\n",
      "[10 12]\n",
      "[ 9 10]\n",
      "[ 8 12]\n",
      "[ 8 13]\n",
      "[7 7]\n",
      "[ 9 12]\n",
      "[7 7]\n",
      "[ 9 11]\n",
      "[10 11]\n",
      "[4 5]\n",
      "[11 10]\n",
      "[9 8]\n",
      "[8 9]\n",
      "[ 8 14]\n",
      "[10 10]\n",
      "[10 12]\n",
      "[10  9]\n",
      "[9 9]\n",
      "[ 8 11]\n",
      "[7 6]\n",
      "[ 8 14]\n",
      "[10 13]\n",
      "[ 8 18]\n",
      "[9 7]\n",
      "[8 7]\n",
      "[ 9 10]\n",
      "[9 8]\n",
      "[7 7]\n",
      "[10  9]\n",
      "[7 9]\n",
      "[7 9]\n",
      "[10 10]\n",
      "[10 16]\n",
      "[ 8 14]\n",
      "[8 8]\n",
      "[11 20]\n",
      "[ 8 15]\n",
      "[ 8 13]\n",
      "[7 8]\n",
      "[ 8 10]\n",
      "[7 7]\n",
      "[7 6]\n",
      "[10  9]\n",
      "[ 9 10]\n",
      "[11 10]\n",
      "[11 12]\n",
      "[10 11]\n",
      "[4 5]\n",
      "[7 8]\n",
      "[9 8]\n",
      "[7 7]\n",
      "[9 7]\n",
      "[11 10]\n",
      "[10 15]\n",
      "[9 8]\n",
      "[10 10]\n",
      "[ 8 10]\n",
      "[8 9]\n",
      "[7 7]\n",
      "[10  9]\n",
      "[10 11]\n",
      "[8 9]\n",
      "[11 19]\n",
      "[10 10]\n",
      "[10 10]\n",
      "[10  9]\n",
      "[11 13]\n",
      "[9 7]\n",
      "[10  9]\n",
      "[11 29]\n",
      "[10 10]\n",
      "[9 8]\n",
      "[9 9]\n",
      "[7 6]\n",
      "[10 10]\n",
      "[ 9 10]\n",
      "[10 20]\n",
      "[8 9]\n",
      "[10  8]\n",
      "[ 8 11]\n",
      "[7 6]\n",
      "[11 11]\n",
      "[10 13]\n",
      "[7 6]\n",
      "[5 5]\n",
      "[5 7]\n",
      "[10  9]\n",
      "[7 8]\n",
      "[8 7]\n",
      "[10 14]\n",
      "[8 8]\n",
      "[7 7]\n",
      "[7 7]\n",
      "[10 20]\n",
      "[4 4]\n",
      "[ 8 10]\n",
      "[7 6]\n",
      "[10 13]\n",
      "[4 7]\n",
      "[10 11]\n",
      "[8 9]\n",
      "[10 19]\n",
      "[10  9]\n",
      "[9 7]\n",
      "[10 11]\n",
      "[10 10]\n",
      "[11 19]\n",
      "[8 8]\n",
      "[ 8 16]\n",
      "[9 7]\n",
      "[10 11]\n",
      "[9 7]\n",
      "[5 6]\n",
      "[10 12]\n",
      "[8 9]\n",
      "[ 7 10]\n",
      "[7 6]\n",
      "[ 8 12]\n",
      "[7 7]\n",
      "[10  9]\n",
      "[9 8]\n",
      "[8 7]\n",
      "[ 9 11]\n",
      "[9 8]\n",
      "[8 8]\n",
      "[9 8]\n",
      "[11 11]\n",
      "[ 9 10]\n",
      "[10 12]\n",
      "[9 7]\n",
      "[7 7]\n",
      "[9 8]\n",
      "[11 21]\n",
      "[7 7]\n",
      "[7 4]\n",
      "[7 7]\n",
      "[5 6]\n",
      "[ 8 12]\n",
      "[ 8 10]\n",
      "[11  9]\n",
      "[9 7]\n",
      "[10  9]\n",
      "[9 6]\n",
      "[7 7]\n",
      "[ 9 11]\n",
      "[10 11]\n",
      "[10 11]\n",
      "[9 8]\n",
      "[ 8 11]\n",
      "[7 6]\n",
      "[ 8 22]\n",
      "[ 7 10]\n",
      "[8 9]\n",
      "[11 17]\n",
      "[10 14]\n",
      "[7 7]\n",
      "[9 7]\n",
      "[ 7 16]\n",
      "[9 9]\n",
      "[8 8]\n",
      "[ 7 13]\n",
      "[10 10]\n",
      "[ 8 12]\n",
      "[8 8]\n",
      "[11 11]\n",
      "[11 12]\n",
      "[10  9]\n",
      "[10 14]\n",
      "[9 9]\n",
      "[10 11]\n",
      "[10  9]\n",
      "[4 3]\n",
      "[ 8 14]\n",
      "[ 8 10]\n",
      "[7 7]\n",
      "[8 7]\n",
      "[5 6]\n",
      "[7 7]\n",
      "[9 7]\n",
      "[8 9]\n",
      "[10  9]\n",
      "[7 7]\n",
      "[8 6]\n",
      "[8 9]\n",
      "[9 7]\n",
      "[10 10]\n",
      "[10 10]\n",
      "[11 10]\n",
      "[ 8 11]\n",
      "[ 9 10]\n",
      "[10 11]\n",
      "[10 19]\n",
      "[8 8]\n",
      "[5 5]\n",
      "[8 6]\n",
      "[10 11]\n",
      "[7 5]\n",
      "[7 8]\n",
      "[9 8]\n",
      "[10  9]\n",
      "[ 8 13]\n",
      "[7 5]\n",
      "[7 7]\n",
      "[9 9]\n",
      "[10 11]\n",
      "[ 9 12]\n",
      "[7 7]\n",
      "[10 17]\n",
      "[4 4]\n"
     ]
    }
   ],
   "source": [
    "comparison = np.concatenate((y_pred.reshape(len(y_pred),1), y_test.values.reshape(len(y_test),1)), 1)\n",
    "\n",
    "for each in comparison:\n",
    "    print(each)"
   ]
  },
  {
   "cell_type": "code",
   "execution_count": 30,
   "id": "84421df4",
   "metadata": {
    "execution": {
     "iopub.execute_input": "2022-07-23T12:15:39.045359Z",
     "iopub.status.busy": "2022-07-23T12:15:39.044785Z",
     "iopub.status.idle": "2022-07-23T12:15:39.054335Z",
     "shell.execute_reply": "2022-07-23T12:15:39.053248Z"
    },
    "papermill": {
     "duration": 0.037687,
     "end_time": "2022-07-23T12:15:39.056729",
     "exception": false,
     "start_time": "2022-07-23T12:15:39.019042",
     "status": "completed"
    },
    "tags": []
   },
   "outputs": [
    {
     "name": "stdout",
     "output_type": "stream",
     "text": [
      "Confusion matrix \n",
      " [[ 0  5  0  0  0  0  0  0  0  0  0  0  0  0  0  0  0  0  0  0  0  0]\n",
      " [ 0  5  5  0  1  0  0  0  0  0  0  0  0  0  0  0  0  0  0  0  0  0]\n",
      " [ 0  7 14  0 10  0  2  0  0  0  0  0  0  0  0  0  0  0  0  0  0  0]\n",
      " [ 0  1 12  0 28  4  2  0  0  0  0  0  0  0  0  0  0  0  0  0  0  0]\n",
      " [ 0  1  3  0 56 13 22  3  0  0  0  0  0  0  0  0  0  0  0  0  0  0]\n",
      " [ 0  0  3  0 25 43 28 13  1  0  0  0  0  0  0  0  0  0  0  0  0  0]\n",
      " [ 0  0  0  0  7 47 24 47  2  0  0  0  0  0  0  0  0  0  0  0  0  0]\n",
      " [ 0  0  0  0  4 22 17 49 15  0  0  0  0  0  0  0  0  0  0  0  0  0]\n",
      " [ 0  0  0  0  2 20 14 45 14  0  0  0  0  0  0  0  0  0  0  0  0  0]\n",
      " [ 0  0  0  0  1 17  3 30 15  0  0  0  0  0  0  0  0  0  0  0  0  0]\n",
      " [ 0  0  0  0  1  8  2 18 10  0  0  0  0  0  0  0  0  0  0  0  0  0]\n",
      " [ 0  0  0  0  0 12  0 11  3  0  0  0  0  0  0  0  0  0  0  0  0  0]\n",
      " [ 0  0  0  0  0  4  1  8  5  0  0  0  0  0  0  0  0  0  0  0  0  0]\n",
      " [ 0  0  0  0  1  4  0  5  4  0  0  0  0  0  0  0  0  0  0  0  0  0]\n",
      " [ 0  0  0  0  0  1  0  5  4  0  0  0  0  0  0  0  0  0  0  0  0  0]\n",
      " [ 0  0  0  0  0  1  0  2  2  0  0  0  0  0  0  0  0  0  0  0  0  0]\n",
      " [ 0  0  0  0  0  1  0  3  4  0  0  0  0  0  0  0  0  0  0  0  0  0]\n",
      " [ 0  0  0  0  0  2  0  3  3  0  0  0  0  0  0  0  0  0  0  0  0  0]\n",
      " [ 0  0  0  0  0  0  0  0  2  0  0  0  0  0  0  0  0  0  0  0  0  0]\n",
      " [ 0  0  0  0  0  1  0  0  0  0  0  0  0  0  0  0  0  0  0  0  0  0]\n",
      " [ 0  0  0  0  0  0  0  2  0  0  0  0  0  0  0  0  0  0  0  0  0  0]\n",
      " [ 0  0  0  0  0  0  0  0  1  0  0  0  0  0  0  0  0  0  0  0  0  0]]\n"
     ]
    }
   ],
   "source": [
    "from sklearn.metrics import confusion_matrix\n",
    "cm = confusion_matrix(y_test, y_pred)\n",
    "print('Confusion matrix \\n', cm)"
   ]
  },
  {
   "cell_type": "code",
   "execution_count": 31,
   "id": "45f15b2d",
   "metadata": {
    "execution": {
     "iopub.execute_input": "2022-07-23T12:15:39.107195Z",
     "iopub.status.busy": "2022-07-23T12:15:39.106826Z",
     "iopub.status.idle": "2022-07-23T12:15:40.590667Z",
     "shell.execute_reply": "2022-07-23T12:15:40.589909Z"
    },
    "papermill": {
     "duration": 1.511132,
     "end_time": "2022-07-23T12:15:40.592492",
     "exception": false,
     "start_time": "2022-07-23T12:15:39.081360",
     "status": "completed"
    },
    "tags": []
   },
   "outputs": [
    {
     "name": "stderr",
     "output_type": "stream",
     "text": [
      "/opt/conda/lib/python3.7/site-packages/sklearn/utils/deprecation.py:87: FutureWarning: Function plot_confusion_matrix is deprecated; Function `plot_confusion_matrix` is deprecated in 1.0 and will be removed in 1.2. Use one of the class methods: ConfusionMatrixDisplay.from_predictions or ConfusionMatrixDisplay.from_estimator.\n",
      "  warnings.warn(msg, category=FutureWarning)\n"
     ]
    },
    {
     "data": {
      "image/png": "[encoded data removed]",
      "text/plain": [
       "<Figure size 432x288 with 2 Axes>"
      ]
     },
     "metadata": {
      "needs_background": "light"
     },
     "output_type": "display_data"
    }
   ],
   "source": [
    "# Visualizing the confusion matrix\n",
    "\n",
    "from sklearn.metrics import plot_confusion_matrix\n",
    "\n",
    "plot_confusion_matrix(clf, X_test, y_test, cmap=plt.cm.Blues)\n",
    "plt.title('Confusion matrix');"
   ]
  },
  {
   "cell_type": "code",
   "execution_count": 32,
   "id": "92298912",
   "metadata": {
    "execution": {
     "iopub.execute_input": "2022-07-23T12:15:40.642995Z",
     "iopub.status.busy": "2022-07-23T12:15:40.642329Z",
     "iopub.status.idle": "2022-07-23T12:15:40.740021Z",
     "shell.execute_reply": "2022-07-23T12:15:40.738767Z"
    },
    "papermill": {
     "duration": 0.124834,
     "end_time": "2022-07-23T12:15:40.741713",
     "exception": true,
     "start_time": "2022-07-23T12:15:40.616879",
     "status": "failed"
    },
    "tags": []
   },
   "outputs": [
    {
     "ename": "ImportError",
     "evalue": "cannot import name 'ConfusinMatrixDisplay' from 'sklearn.metrics' (/opt/conda/lib/python3.7/site-packages/sklearn/metrics/__init__.py)",
     "output_type": "error",
     "traceback": [
      "\u001b[0;31m---------------------------------------------------------------------------\u001b[0m",
      "\u001b[0;31mImportError\u001b[0m                               Traceback (most recent call last)",
      "\u001b[0;32m/tmp/ipykernel_19/524411355.py\u001b[0m in \u001b[0;36m<module>\u001b[0;34m\u001b[0m\n\u001b[1;32m      1\u001b[0m \u001b[0;31m# visualizing the confusion matrix\u001b[0m\u001b[0;34m\u001b[0m\u001b[0;34m\u001b[0m\u001b[0;34m\u001b[0m\u001b[0m\n\u001b[0;32m----> 2\u001b[0;31m \u001b[0;32mfrom\u001b[0m \u001b[0msklearn\u001b[0m\u001b[0;34m.\u001b[0m\u001b[0mmetrics\u001b[0m \u001b[0;32mimport\u001b[0m \u001b[0mconfusion_matrix\u001b[0m\u001b[0;34m,\u001b[0m \u001b[0mConfusinMatrixDisplay\u001b[0m\u001b[0;34m\u001b[0m\u001b[0;34m\u001b[0m\u001b[0m\n\u001b[0m\u001b[1;32m      3\u001b[0m \u001b[0;34m\u001b[0m\u001b[0m\n\u001b[1;32m      4\u001b[0m \u001b[0my_test_predicted\u001b[0m \u001b[0;34m=\u001b[0m \u001b[0mclf\u001b[0m\u001b[0;34m.\u001b[0m\u001b[0mpredict\u001b[0m\u001b[0;34m(\u001b[0m\u001b[0mX_test\u001b[0m\u001b[0;34m)\u001b[0m\u001b[0;34m\u001b[0m\u001b[0;34m\u001b[0m\u001b[0m\n\u001b[1;32m      5\u001b[0m \u001b[0mcm\u001b[0m \u001b[0;34m=\u001b[0m \u001b[0mconfusion_matrix\u001b[0m\u001b[0;34m(\u001b[0m\u001b[0my_test\u001b[0m\u001b[0;34m,\u001b[0m \u001b[0my_test_predicted\u001b[0m\u001b[0;34m)\u001b[0m\u001b[0;34m\u001b[0m\u001b[0;34m\u001b[0m\u001b[0m\n",
      "\u001b[0;31mImportError\u001b[0m: cannot import name 'ConfusinMatrixDisplay' from 'sklearn.metrics' (/opt/conda/lib/python3.7/site-packages/sklearn/metrics/__init__.py)"
     ]
    }
   ],
   "source": [
    "# visualizing the confusion matrix\n",
    "from sklearn.metrics import confusion_matrix, ConfusinMatrixDisplay\n",
    "\n",
    "y_test_predicted = clf.predict(X_test)\n",
    "cm = confusion_matrix(y_test, y_test_predicted)\n",
    "disp = ConfusionMatrixDisplay(cm)\n",
    "disp.plot()\n",
    "plt.plot('Confusion matrix');"
   ]
  },
  {
   "cell_type": "code",
   "execution_count": null,
   "id": "1c7a4a12",
   "metadata": {
    "execution": {
     "iopub.execute_input": "2022-07-23T12:02:31.482314Z",
     "iopub.status.busy": "2022-07-23T12:02:31.481913Z",
     "iopub.status.idle": "2022-07-23T12:02:31.500229Z",
     "shell.execute_reply": "2022-07-23T12:02:31.499207Z",
     "shell.execute_reply.started": "2022-07-23T12:02:31.482282Z"
    },
    "papermill": {
     "duration": null,
     "end_time": null,
     "exception": null,
     "start_time": null,
     "status": "pending"
    },
    "tags": []
   },
   "outputs": [],
   "source": [
    "from sklearn.metrics import classification_report\n",
    "\n",
    "CR = classification_report(y_test, y_pred)\n",
    "print(CR)"
   ]
  },
  {
   "cell_type": "markdown",
   "id": "aa0d1879",
   "metadata": {
    "papermill": {
     "duration": null,
     "end_time": null,
     "exception": null,
     "start_time": null,
     "status": "pending"
    },
    "tags": []
   },
   "source": [
    "## Cross-Validation"
   ]
  },
  {
   "cell_type": "code",
   "execution_count": null,
   "id": "0588284d",
   "metadata": {
    "execution": {
     "iopub.execute_input": "2022-07-23T12:02:50.093144Z",
     "iopub.status.busy": "2022-07-23T12:02:50.091847Z",
     "iopub.status.idle": "2022-07-23T12:02:50.338152Z",
     "shell.execute_reply": "2022-07-23T12:02:50.336911Z",
     "shell.execute_reply.started": "2022-07-23T12:02:50.093044Z"
    },
    "papermill": {
     "duration": null,
     "end_time": null,
     "exception": null,
     "start_time": null,
     "status": "pending"
    },
    "tags": []
   },
   "outputs": [],
   "source": [
    "from sklearn.model_selection import cross_val_score\n",
    "acc = cross_val_score(estimator=clf, X=X_train, y=y_train, cv=10)\n",
    "print(type(acc))\n",
    "print('Accuracy of each fold ', list(acc*100))\n",
    "print('Accuracy: {:.2f} %'.format(acc.mean()*100))"
   ]
  },
  {
   "cell_type": "markdown",
   "id": "78ebd17f",
   "metadata": {
    "papermill": {
     "duration": null,
     "end_time": null,
     "exception": null,
     "start_time": null,
     "status": "pending"
    },
    "tags": []
   },
   "source": [
    "## Visualizing the decision tree"
   ]
  },
  {
   "cell_type": "code",
   "execution_count": null,
   "id": "a54d10aa",
   "metadata": {
    "execution": {
     "iopub.execute_input": "2022-07-23T12:02:54.793044Z",
     "iopub.status.busy": "2022-07-23T12:02:54.792625Z",
     "iopub.status.idle": "2022-07-23T12:02:55.732673Z",
     "shell.execute_reply": "2022-07-23T12:02:55.731788Z",
     "shell.execute_reply.started": "2022-07-23T12:02:54.793011Z"
    },
    "papermill": {
     "duration": null,
     "end_time": null,
     "exception": null,
     "start_time": null,
     "status": "pending"
    },
    "tags": []
   },
   "outputs": [],
   "source": [
    "from sklearn import tree\n",
    "\n",
    "# plt the figure, setting a black background\n",
    "plt.figure(figsize=(48, 8), facecolor='w')\n",
    "\n",
    "# create the tree plot\n",
    "a = tree.plot_tree(clf['classifier'],\n",
    "                  # use the feature names stored\n",
    "                   feature_names=column_names,\n",
    "                   rounded = True,\n",
    "                   filled=True,\n",
    "                   fontsize=12\n",
    "                  )\n",
    "# show the plot\n",
    "plt.show()"
   ]
  },
  {
   "cell_type": "markdown",
   "id": "046de302",
   "metadata": {
    "papermill": {
     "duration": null,
     "end_time": null,
     "exception": null,
     "start_time": null,
     "status": "pending"
    },
    "tags": []
   },
   "source": [
    "## Finding the best parameters using GridSearchCV"
   ]
  },
  {
   "cell_type": "code",
   "execution_count": null,
   "id": "82ac244f",
   "metadata": {
    "execution": {
     "iopub.execute_input": "2022-07-23T12:03:33.973640Z",
     "iopub.status.busy": "2022-07-23T12:03:33.973030Z",
     "iopub.status.idle": "2022-07-23T12:03:33.989471Z",
     "shell.execute_reply": "2022-07-23T12:03:33.988280Z",
     "shell.execute_reply.started": "2022-07-23T12:03:33.973606Z"
    },
    "papermill": {
     "duration": null,
     "end_time": null,
     "exception": null,
     "start_time": null,
     "status": "pending"
    },
    "tags": []
   },
   "outputs": [],
   "source": [
    "X_train_new = preprocessor.fit_transform(X_train)"
   ]
  },
  {
   "cell_type": "code",
   "execution_count": null,
   "id": "7c524de3",
   "metadata": {
    "execution": {
     "iopub.execute_input": "2022-07-23T12:10:48.438201Z",
     "iopub.status.busy": "2022-07-23T12:10:48.437092Z",
     "iopub.status.idle": "2022-07-23T12:10:51.116570Z",
     "shell.execute_reply": "2022-07-23T12:10:51.115357Z",
     "shell.execute_reply.started": "2022-07-23T12:10:48.438153Z"
    },
    "papermill": {
     "duration": null,
     "end_time": null,
     "exception": null,
     "start_time": null,
     "status": "pending"
    },
    "tags": []
   },
   "outputs": [],
   "source": [
    "from sklearn.model_selection import GridSearchCV\n",
    "tuned_parameters = [{'max_depth': [1,2,3,4,5,6,7,8,9],\n",
    "                     'min_samples_split': [2,4,6,8,10]}]\n",
    "scores=['recall']\n",
    "for score in scores:\n",
    "    print()\n",
    "    print(f\"Tuning hyperparameters for {score}\")\n",
    "    print()\n",
    "    \n",
    "    clf_CV = GridSearchCV(DecisionTreeClassifier(),\n",
    "                         tuned_parameters,\n",
    "                         scoring=f'{score}_macro')\n",
    "    \n",
    "    clf_CV.fit(X_train_new, y_train)\n",
    "    \n",
    "    print(\"Best parameters:\")\n",
    "    print()\n",
    "    print(clf_CV.best_params_)\n",
    "    print()\n",
    "    print(\"Grid scores:\")\n",
    "    means = clf_CV.cv_results_[\"mean_test_score\"]\n",
    "    stds = clf_CV.cv_results_[\"std_test_score\"]\n",
    "    for mean, std, params in zip(means, stds, clf_CV.cv_results_['params']):\n",
    "        print(f\"{mean:0.3f} (+/-{std*2:0.03f}) for {params}\")"
   ]
  },
  {
   "cell_type": "markdown",
   "id": "bf4d433f",
   "metadata": {
    "papermill": {
     "duration": null,
     "end_time": null,
     "exception": null,
     "start_time": null,
     "status": "pending"
    },
    "tags": []
   },
   "source": [
    "## Let us now create a new pipeline using the best features identified above."
   ]
  },
  {
   "cell_type": "code",
   "execution_count": null,
   "id": "3c239a93",
   "metadata": {
    "execution": {
     "iopub.execute_input": "2022-07-23T12:13:23.263195Z",
     "iopub.status.busy": "2022-07-23T12:13:23.262769Z",
     "iopub.status.idle": "2022-07-23T12:13:23.269257Z",
     "shell.execute_reply": "2022-07-23T12:13:23.268224Z",
     "shell.execute_reply.started": "2022-07-23T12:13:23.263162Z"
    },
    "papermill": {
     "duration": null,
     "end_time": null,
     "exception": null,
     "start_time": null,
     "status": "pending"
    },
    "tags": []
   },
   "outputs": [],
   "source": [
    "# Append classifier to preprocessing pipeline.\n",
    "# Now we have a full prediction pipeline.\n",
    "clf2 = Pipeline(\n",
    "steps=[(\"preprocessor\", preprocessor),\n",
    "       (\"classifier\", DecisionTreeClassifier(\n",
    "       max_depth=5, min_samples_split=4, random_state=42))])"
   ]
  },
  {
   "cell_type": "code",
   "execution_count": null,
   "id": "2bff75ec",
   "metadata": {
    "execution": {
     "iopub.execute_input": "2022-07-23T12:13:58.633607Z",
     "iopub.status.busy": "2022-07-23T12:13:58.632596Z",
     "iopub.status.idle": "2022-07-23T12:13:58.667843Z",
     "shell.execute_reply": "2022-07-23T12:13:58.666584Z",
     "shell.execute_reply.started": "2022-07-23T12:13:58.633566Z"
    },
    "papermill": {
     "duration": null,
     "end_time": null,
     "exception": null,
     "start_time": null,
     "status": "pending"
    },
    "tags": []
   },
   "outputs": [],
   "source": [
    "clf2.fit(X_train, y_train)\n",
    "print(\"model score: %.3f\" % clf2.score(X_test, y_test\n",
    "                                      ))"
   ]
  },
  {
   "cell_type": "markdown",
   "id": "c722993e",
   "metadata": {
    "papermill": {
     "duration": null,
     "end_time": null,
     "exception": null,
     "start_time": null,
     "status": "pending"
    },
    "tags": []
   },
   "source": [
    "We observe an improvenent in the model score!"
   ]
  },
  {
   "cell_type": "code",
   "execution_count": null,
   "id": "2cb17fe0",
   "metadata": {
    "papermill": {
     "duration": null,
     "end_time": null,
     "exception": null,
     "start_time": null,
     "status": "pending"
    },
    "tags": []
   },
   "outputs": [],
   "source": []
  }
 ],
 "metadata": {
  "kernelspec": {
   "display_name": "Python 3 (ipykernel)",
   "language": "python",
   "name": "python3"
  },
  "language_info": {
   "codemirror_mode": {
    "name": "ipython",
    "version": 3
   },
   "file_extension": ".py",
   "mimetype": "text/x-python",
   "name": "python",
   "nbconvert_exporter": "python",
   "pygments_lexer": "ipython3",
   "version": "3.11.5"
  },
  "papermill": {
   "default_parameters": {},
   "duration": 27.561999,
   "end_time": "2022-07-23T12:15:41.586553",
   "environment_variables": {},
   "exception": true,
   "input_path": "__notebook__.ipynb",
   "output_path": "__notebook__.ipynb",
   "parameters": {},
   "start_time": "2022-07-23T12:15:14.024554",
   "version": "2.3.4"
  }
 },
 "nbformat": 4,
 "nbformat_minor": 5
}
