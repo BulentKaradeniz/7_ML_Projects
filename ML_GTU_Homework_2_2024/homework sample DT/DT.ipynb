{
 "cells": [
  {
   "cell_type": "markdown",
   "metadata": {},
   "source": [
    "# <center> BIT522 – Machine Learning (Spring 2018)</center>\n",
    "# <center>Homework #2<center>\n",
    "\n",
    "# <center> Harlinton Palacios Mosquera</center>\n",
    "# <center>161041033</center>"
   ]
  },
  {
   "cell_type": "code",
   "execution_count": 1,
   "metadata": {},
   "outputs": [
    {
     "name": "stderr",
     "output_type": "stream",
     "text": [
      "C:\\Users\\Harlinton\\Anaconda3\\lib\\site-packages\\sklearn\\cross_validation.py:41: DeprecationWarning: This module was deprecated in version 0.18 in favor of the model_selection module into which all the refactored classes and functions are moved. Also note that the interface of the new CV iterators are different from that of this module. This module will be removed in 0.20.\n",
      "  \"This module will be removed in 0.20.\", DeprecationWarning)\n"
     ]
    }
   ],
   "source": [
    "import pandas as pd\n",
    "import numpy as np\n",
    "from sklearn.model_selection import KFold\n",
    "from sklearn import cross_validation\n",
    "from random import randrange\n",
    "from sklearn.tree import DecisionTreeClassifier\n",
    "from sklearn.metrics import confusion_matrix\n",
    "from sklearn.metrics import accuracy_score\n",
    "from sklearn.metrics import classification_report"
   ]
  },
  {
   "cell_type": "code",
   "execution_count": 2,
   "metadata": {
    "scrolled": true
   },
   "outputs": [
    {
     "name": "stdout",
     "output_type": "stream",
     "text": [
      "Number of samples: 4177\n"
     ]
    },
    {
     "data": {
      "text/html": [
       "<div>\n",
       "<style>\n",
       "    .dataframe thead tr:only-child th {\n",
       "        text-align: right;\n",
       "    }\n",
       "\n",
       "    .dataframe thead th {\n",
       "        text-align: left;\n",
       "    }\n",
       "\n",
       "    .dataframe tbody tr th {\n",
       "        vertical-align: top;\n",
       "    }\n",
       "</style>\n",
       "<table border=\"1\" class=\"dataframe\">\n",
       "  <thead>\n",
       "    <tr style=\"text-align: right;\">\n",
       "      <th></th>\n",
       "      <th>sex</th>\n",
       "      <th>length</th>\n",
       "      <th>diameter</th>\n",
       "      <th>height</th>\n",
       "      <th>whole weight</th>\n",
       "      <th>shucked weight</th>\n",
       "      <th>viscera weight</th>\n",
       "      <th>shell weight</th>\n",
       "      <th>rings</th>\n",
       "    </tr>\n",
       "  </thead>\n",
       "  <tbody>\n",
       "    <tr>\n",
       "      <th>0</th>\n",
       "      <td>M</td>\n",
       "      <td>0.455</td>\n",
       "      <td>0.365</td>\n",
       "      <td>0.095</td>\n",
       "      <td>0.5140</td>\n",
       "      <td>0.2245</td>\n",
       "      <td>0.1010</td>\n",
       "      <td>0.150</td>\n",
       "      <td>15</td>\n",
       "    </tr>\n",
       "    <tr>\n",
       "      <th>1</th>\n",
       "      <td>M</td>\n",
       "      <td>0.350</td>\n",
       "      <td>0.265</td>\n",
       "      <td>0.090</td>\n",
       "      <td>0.2255</td>\n",
       "      <td>0.0995</td>\n",
       "      <td>0.0485</td>\n",
       "      <td>0.070</td>\n",
       "      <td>7</td>\n",
       "    </tr>\n",
       "    <tr>\n",
       "      <th>2</th>\n",
       "      <td>F</td>\n",
       "      <td>0.530</td>\n",
       "      <td>0.420</td>\n",
       "      <td>0.135</td>\n",
       "      <td>0.6770</td>\n",
       "      <td>0.2565</td>\n",
       "      <td>0.1415</td>\n",
       "      <td>0.210</td>\n",
       "      <td>9</td>\n",
       "    </tr>\n",
       "    <tr>\n",
       "      <th>3</th>\n",
       "      <td>M</td>\n",
       "      <td>0.440</td>\n",
       "      <td>0.365</td>\n",
       "      <td>0.125</td>\n",
       "      <td>0.5160</td>\n",
       "      <td>0.2155</td>\n",
       "      <td>0.1140</td>\n",
       "      <td>0.155</td>\n",
       "      <td>10</td>\n",
       "    </tr>\n",
       "    <tr>\n",
       "      <th>4</th>\n",
       "      <td>I</td>\n",
       "      <td>0.330</td>\n",
       "      <td>0.255</td>\n",
       "      <td>0.080</td>\n",
       "      <td>0.2050</td>\n",
       "      <td>0.0895</td>\n",
       "      <td>0.0395</td>\n",
       "      <td>0.055</td>\n",
       "      <td>7</td>\n",
       "    </tr>\n",
       "  </tbody>\n",
       "</table>\n",
       "</div>"
      ],
      "text/plain": [
       "  sex  length  diameter  height  whole weight  shucked weight  viscera weight  \\\n",
       "0   M   0.455     0.365   0.095        0.5140          0.2245          0.1010   \n",
       "1   M   0.350     0.265   0.090        0.2255          0.0995          0.0485   \n",
       "2   F   0.530     0.420   0.135        0.6770          0.2565          0.1415   \n",
       "3   M   0.440     0.365   0.125        0.5160          0.2155          0.1140   \n",
       "4   I   0.330     0.255   0.080        0.2050          0.0895          0.0395   \n",
       "\n",
       "   shell weight  rings  \n",
       "0         0.150     15  \n",
       "1         0.070      7  \n",
       "2         0.210      9  \n",
       "3         0.155     10  \n",
       "4         0.055      7  "
      ]
     },
     "execution_count": 2,
     "metadata": {},
     "output_type": "execute_result"
    }
   ],
   "source": [
    "v_names = [\"sex\", \"length\", \n",
    "           \"diameter\", \"height\",\n",
    "           \"whole weight\", \n",
    "           \"shucked weight\",\n",
    "           \"viscera weight\",\n",
    "           \"shell weight\", \"rings\"]\n",
    "\n",
    "#data = pd.read_csv(\"abalone.csv\", names=v_names)\n",
    "data1 = pd.read_csv(\"abalone.csv\", names=v_names)\n",
    "print(\"Number of samples: %d\" % len(data1))\n",
    "data1.head()"
   ]
  },
  {
   "cell_type": "markdown",
   "metadata": {},
   "source": [
    "In this section I created a vector with names of the columns because the data does not have columns that specify what type of data there is. Also in this section I have read data using the panda library and show the data with new names of the columns"
   ]
  },
  {
   "cell_type": "code",
   "execution_count": 3,
   "metadata": {},
   "outputs": [
    {
     "data": {
      "text/html": [
       "<div>\n",
       "<style>\n",
       "    .dataframe thead tr:only-child th {\n",
       "        text-align: right;\n",
       "    }\n",
       "\n",
       "    .dataframe thead th {\n",
       "        text-align: left;\n",
       "    }\n",
       "\n",
       "    .dataframe tbody tr th {\n",
       "        vertical-align: top;\n",
       "    }\n",
       "</style>\n",
       "<table border=\"1\" class=\"dataframe\">\n",
       "  <thead>\n",
       "    <tr style=\"text-align: right;\">\n",
       "      <th></th>\n",
       "      <th>length</th>\n",
       "      <th>diameter</th>\n",
       "      <th>height</th>\n",
       "      <th>whole weight</th>\n",
       "      <th>shucked weight</th>\n",
       "      <th>viscera weight</th>\n",
       "      <th>shell weight</th>\n",
       "      <th>rings</th>\n",
       "      <th>M</th>\n",
       "      <th>F</th>\n",
       "      <th>I</th>\n",
       "    </tr>\n",
       "  </thead>\n",
       "  <tbody>\n",
       "    <tr>\n",
       "      <th>0</th>\n",
       "      <td>0.455</td>\n",
       "      <td>0.365</td>\n",
       "      <td>0.095</td>\n",
       "      <td>0.5140</td>\n",
       "      <td>0.2245</td>\n",
       "      <td>0.1010</td>\n",
       "      <td>0.150</td>\n",
       "      <td>15</td>\n",
       "      <td>1</td>\n",
       "      <td>0</td>\n",
       "      <td>0</td>\n",
       "    </tr>\n",
       "    <tr>\n",
       "      <th>1</th>\n",
       "      <td>0.350</td>\n",
       "      <td>0.265</td>\n",
       "      <td>0.090</td>\n",
       "      <td>0.2255</td>\n",
       "      <td>0.0995</td>\n",
       "      <td>0.0485</td>\n",
       "      <td>0.070</td>\n",
       "      <td>7</td>\n",
       "      <td>1</td>\n",
       "      <td>0</td>\n",
       "      <td>0</td>\n",
       "    </tr>\n",
       "    <tr>\n",
       "      <th>2</th>\n",
       "      <td>0.530</td>\n",
       "      <td>0.420</td>\n",
       "      <td>0.135</td>\n",
       "      <td>0.6770</td>\n",
       "      <td>0.2565</td>\n",
       "      <td>0.1415</td>\n",
       "      <td>0.210</td>\n",
       "      <td>9</td>\n",
       "      <td>0</td>\n",
       "      <td>1</td>\n",
       "      <td>0</td>\n",
       "    </tr>\n",
       "    <tr>\n",
       "      <th>3</th>\n",
       "      <td>0.440</td>\n",
       "      <td>0.365</td>\n",
       "      <td>0.125</td>\n",
       "      <td>0.5160</td>\n",
       "      <td>0.2155</td>\n",
       "      <td>0.1140</td>\n",
       "      <td>0.155</td>\n",
       "      <td>10</td>\n",
       "      <td>1</td>\n",
       "      <td>0</td>\n",
       "      <td>0</td>\n",
       "    </tr>\n",
       "    <tr>\n",
       "      <th>4</th>\n",
       "      <td>0.330</td>\n",
       "      <td>0.255</td>\n",
       "      <td>0.080</td>\n",
       "      <td>0.2050</td>\n",
       "      <td>0.0895</td>\n",
       "      <td>0.0395</td>\n",
       "      <td>0.055</td>\n",
       "      <td>7</td>\n",
       "      <td>0</td>\n",
       "      <td>0</td>\n",
       "      <td>1</td>\n",
       "    </tr>\n",
       "  </tbody>\n",
       "</table>\n",
       "</div>"
      ],
      "text/plain": [
       "   length  diameter  height  whole weight  shucked weight  viscera weight  \\\n",
       "0   0.455     0.365   0.095        0.5140          0.2245          0.1010   \n",
       "1   0.350     0.265   0.090        0.2255          0.0995          0.0485   \n",
       "2   0.530     0.420   0.135        0.6770          0.2565          0.1415   \n",
       "3   0.440     0.365   0.125        0.5160          0.2155          0.1140   \n",
       "4   0.330     0.255   0.080        0.2050          0.0895          0.0395   \n",
       "\n",
       "   shell weight  rings  M  F  I  \n",
       "0         0.150     15  1  0  0  \n",
       "1         0.070      7  1  0  0  \n",
       "2         0.210      9  0  1  0  \n",
       "3         0.155     10  1  0  0  \n",
       "4         0.055      7  0  0  1  "
      ]
     },
     "execution_count": 3,
     "metadata": {},
     "output_type": "execute_result"
    }
   ],
   "source": [
    "for label in \"MFI\":\n",
    "    data1[label] = (data1[\"sex\"] == label).astype(int)\n",
    "del data1[\"sex\"]\n",
    "data1.head()"
   ]
  },
  {
   "cell_type": "markdown",
   "metadata": {},
   "source": [
    "Here I converted the type data of the column to binary. Sex is either Male (\"M\"), Female (\"F\") or Infant (\"I\"), this is not suitable for this algorithm, so we create a binary/boolean feature for each of the 3 options:"
   ]
  },
  {
   "cell_type": "code",
   "execution_count": 4,
   "metadata": {
    "collapsed": true
   },
   "outputs": [],
   "source": [
    "y = data1.rings.values\n",
    "del data1[\"rings\"] # remove rings from data, so we can convert all the dataframe to a numpy 2D array.\n",
    "X = data1.values.astype(np.float)"
   ]
  },
  {
   "cell_type": "markdown",
   "metadata": {},
   "source": [
    "I this part I assingned to (X) the general data and to (y) all values of the Rings row "
   ]
  },
  {
   "cell_type": "code",
   "execution_count": 5,
   "metadata": {},
   "outputs": [],
   "source": [
    "def create_tree(X, y, types,option):\n",
    "     # Creating the classifier object\n",
    "    tree = option(criterion = \"entropy\", splitter=\"best\",\n",
    "                  max_depth=None, min_samples_split=2, min_samples_leaf=1, \n",
    "                  min_weight_fraction_leaf=0.0, max_features=None, random_state=None, \n",
    "                  max_leaf_nodes=None, min_impurity_decrease=0.0, \n",
    "                  min_impurity_split=None, class_weight=None, presort=False) \n",
    "    # Performing training\n",
    "    tree.fit(X_train, y_train)\n",
    "    return tree     \n",
    "\n",
    "\n",
    "\n",
    "def create_tree_pruning(X, y, types,option):\n",
    "     # Creating the classifier object\n",
    "    tree_pruning = option(criterion = \"gini\", splitter = 'random', max_leaf_nodes = 10, min_samples_leaf = 5, max_depth= 5) \n",
    "    # Performing training\n",
    "    tree_pruning.fit(X_train, y_train)\n",
    "    return tree_pruning  "
   ]
  },
  {
   "cell_type": "markdown",
   "metadata": {},
   "source": [
    "Here I Implemented the function “build_dt(X, y, attribute_types, options)”.\n",
    "and I implemented the  tree_pruning : where I define how my tree will grow big\n",
    "\n",
    "<b>Pruning</b>:  Growing the tree beyond a certain level of complexity leads to overfitting.\n",
    "    In our data, age doesn’t have any impact on the target variable.\n",
    "    Growing the tree beyond Gender is not going to add any value. Need to cut it at Gender.\n",
    "    This process of trimming trees is called Pruning.\n",
    "\n"
   ]
  },
  {
   "cell_type": "code",
   "execution_count": 6,
   "metadata": {
    "collapsed": true
   },
   "outputs": [],
   "source": [
    "def prediction_tree(X_test, treeModel,option):\n",
    "     # Predicton on test with giniIndex\n",
    "    y_pred = treeModel.predict(X_test)\n",
    "    print(\"Predicted values:\")\n",
    "    print(y_pred)\n",
    "    return y_pred"
   ]
  },
  {
   "cell_type": "markdown",
   "metadata": {},
   "source": [
    "Here I Implemented the function “predict_dt(dt, X, options)”"
   ]
  },
  {
   "cell_type": "code",
   "execution_count": 7,
   "metadata": {
    "collapsed": true
   },
   "outputs": [],
   "source": [
    "# Function to calculate accuracy\n",
    "def cal_accuracy(y_test, y_pred):\n",
    "     \n",
    "    print(\"Confusion Matrix: \",\n",
    "        confusion_matrix(y_test, y_pred))\n",
    "     \n",
    "    print (\"Accuracy : \",\n",
    "    accuracy_score(y_test,y_pred)*100)\n",
    "     \n",
    "    print(\"Report : \",\n",
    "    classification_report(y_test, y_pred))"
   ]
  },
  {
   "cell_type": "markdown",
   "metadata": {},
   "source": [
    "# Function to calculate accuracy"
   ]
  },
  {
   "cell_type": "code",
   "execution_count": 8,
   "metadata": {},
   "outputs": [
    {
     "name": "stdout",
     "output_type": "stream",
     "text": [
      "Results Using entropy Index:\n",
      "Predicted values:\n",
      "[11 13 10 ...,  8  9 12]\n",
      "Confusion Matrix:  [[ 0  1  1  1  0  0  0  0  0  0  0  0  0  0  0  0  0  0  0  0  0  0]\n",
      " [ 0  5  7  0  1  1  0  0  0  0  0  0  0  0  0  0  0  0  0  0  0  0]\n",
      " [ 0  2  8  7  6  0  0  0  0  0  1  0  0  0  0  0  0  0  0  0  0  0]\n",
      " [ 0  0  8 19 16 12  8  4  1  0  0  0  1  0  0  0  0  0  0  0  0  0]\n",
      " [ 0  1  4 17 20 18 13  4  1  0  0  0  2  0  0  1  0  0  0  0  0  0]\n",
      " [ 0  1  2  3 25 42 34 13  8  4  4  2  0  0  1  0  1  0  0  0  0  0]\n",
      " [ 0  0  0  6 15 33 37 34 22 10  3  4  1  0  1  0  1  0  0  0  0  0]\n",
      " [ 0  0  0  4 10 18 34 31 25 10  7  5  6  2  1  1  4  0  0  0  0  1]\n",
      " [ 0  0  1  2  2 12 29 23 23 18  7  5  9  2  1  1  3  1  1  0  0  0]\n",
      " [ 0  0  0  2  1  5 12 16 10  7  2  5  3  0  2  0  1  1  0  0  0  0]\n",
      " [ 0  0  0  0  0  4  6  7  9 11  5  6  5  0  2  1  3  0  0  0  0  0]\n",
      " [ 0  0  0  1  1  4  6  3  6  2  3  3  0  1  1  1  1  0  0  0  0  0]\n",
      " [ 0  0  0  1  2  2  4  4  2  4  3  1  1  1  1  0  0  0  0  0  0  0]\n",
      " [ 0  0  0  0  1  0  2  2  3  2  2  3  0  2  0  1  0  2  1  1  0  0]\n",
      " [ 0  0  0  0  1  0  0  0  2  1  3  1  1  0  1  1  0  0  0  0  0  0]\n",
      " [ 0  0  0  0  1  0  2  0  1  1  3  1  2  1  0  0  0  0  0  0  0  0]\n",
      " [ 0  0  0  0  0  0  0  2  0  0  1  0  1  2  1  0  0  0  1  0  0  0]\n",
      " [ 0  0  0  0  0  0  0  0  0  0  0  0  1  0  1  0  2  0  1  0  0  0]\n",
      " [ 0  0  0  0  0  0  0  1  0  0  0  0  0  0  0  0  0  1  0  0  0  0]\n",
      " [ 0  0  0  0  0  0  0  0  0  0  0  0  0  0  0  0  0  0  0  0  0  0]\n",
      " [ 0  0  0  0  0  0  0  0  0  0  0  2  0  0  0  0  0  0  0  0  0  0]\n",
      " [ 0  0  0  0  0  0  0  0  0  0  0  0  0  0  0  0  0  0  0  0  0  0]]\n",
      "Accuracy :  19.5402298851\n",
      "Report :               precision    recall  f1-score   support\n",
      "\n",
      "          3       0.00      0.00      0.00         3\n",
      "          4       0.50      0.36      0.42        14\n",
      "          5       0.26      0.33      0.29        24\n",
      "          6       0.30      0.28      0.29        69\n",
      "          7       0.20      0.25      0.22        81\n",
      "          8       0.28      0.30      0.29       140\n",
      "          9       0.20      0.22      0.21       167\n",
      "         10       0.22      0.19      0.20       159\n",
      "         11       0.20      0.16      0.18       140\n",
      "         12       0.10      0.10      0.10        67\n",
      "         13       0.11      0.08      0.10        59\n",
      "         14       0.08      0.09      0.08        33\n",
      "         15       0.03      0.04      0.03        26\n",
      "         16       0.18      0.09      0.12        22\n",
      "         17       0.08      0.09      0.08        11\n",
      "         18       0.00      0.00      0.00        12\n",
      "         19       0.00      0.00      0.00         8\n",
      "         20       0.00      0.00      0.00         5\n",
      "         21       0.00      0.00      0.00         2\n",
      "         22       0.00      0.00      0.00         0\n",
      "         24       0.00      0.00      0.00         2\n",
      "         27       0.00      0.00      0.00         0\n",
      "\n",
      "avg / total       0.20      0.20      0.19      1044\n",
      "\n"
     ]
    },
    {
     "name": "stderr",
     "output_type": "stream",
     "text": [
      "C:\\Users\\Harlinton\\Anaconda3\\lib\\site-packages\\sklearn\\metrics\\classification.py:1135: UndefinedMetricWarning: Precision and F-score are ill-defined and being set to 0.0 in labels with no predicted samples.\n",
      "  'precision', 'predicted', average, warn_for)\n",
      "C:\\Users\\Harlinton\\Anaconda3\\lib\\site-packages\\sklearn\\metrics\\classification.py:1137: UndefinedMetricWarning: Recall and F-score are ill-defined and being set to 0.0 in labels with no true samples.\n",
      "  'recall', 'true', average, warn_for)\n"
     ]
    }
   ],
   "source": [
    "#Function principal\n",
    "k_fold= 4\n",
    "kf = KFold(n_splits = k_fold) # Define the split - into 4 folds \n",
    "kf.get_n_splits(X) # returns the number of splitting iterations in the cross-validator\n",
    "\n",
    "for train_index, test_index in kf.split(X):\n",
    "    #print(\"TRAIN:\", train_index, \"TEST:\", test_index)\n",
    "    X_train, X_test = X[train_index], X[test_index]\n",
    "    y_train, y_test = y[train_index], y[test_index]    \n",
    "    \n",
    "option_create_tree= DecisionTreeClassifier\n",
    "option_prediction= 0\n",
    "print(\"Results Using entropy Index:\")\n",
    "tree = create_tree(X_train, y_train,v_names, option_create_tree)\n",
    "# Prediction using gini\n",
    "y_pred = prediction_tree(X_test,tree,option_prediction)\n",
    "cal_accuracy(y_test, y_pred)\n"
   ]
  },
  {
   "cell_type": "markdown",
   "metadata": {},
   "source": [
    "This is one of the most important funsion because it generates the results of ACC, PRECISION, RECALL AND EXECUTION TIME also this section I declare some vital variables for the execution of algorithm such as:\n",
    "k_fold\n",
    "option_create_tree\n",
    "\n",
    "Also in this section is the division of data, for this I used k-fold cross validation.\n",
    "In KFolds, each test set should not overlap, even with shuffle. With KFolds and shuffle, the data is shuffled once at the start, and then divided into the number of desired splits. The test data is always one of the splits, the train data is the rest. In ShuffleSplit, the data is shuffled every time, and then split.\n",
    "\n",
    "Finaly Report the performance of my implementation using an appropriate k-fold cross validation using confusion matrices "
   ]
  },
  {
   "cell_type": "markdown",
   "metadata": {},
   "source": [
    "# <center> [Optional] Implement the pruning<center>"
   ]
  },
  {
   "cell_type": "code",
   "execution_count": 9,
   "metadata": {},
   "outputs": [
    {
     "name": "stdout",
     "output_type": "stream",
     "text": [
      "Results Using pruning:\n",
      "Predicted values:\n",
      "[ 9  9  9 ...,  9  9 11]\n",
      "Confusion Matrix:  [[ 0  3  0  0  0  0  0  0  0  0  0  0  0  0  0  0  0  0  0  0]\n",
      " [ 0  9  4  1  0  0  0  0  0  0  0  0  0  0  0  0  0  0  0  0]\n",
      " [ 0  3  7 10  3  0  1  0  0  0  0  0  0  0  0  0  0  0  0  0]\n",
      " [ 0  0  6 17 32  2 11  1  0  0  0  0  0  0  0  0  0  0  0  0]\n",
      " [ 0  1  0 14 38  0 28  0  0  0  0  0  0  0  0  0  0  0  0  0]\n",
      " [ 0  0  1  5 44 24 59  7  0  0  0  0  0  0  0  0  0  0  0  0]\n",
      " [ 0  0  0  2 15 23 92 31  4  0  0  0  0  0  0  0  0  0  0  0]\n",
      " [ 0  0  0  1  3 18 72 45 20  0  0  0  0  0  0  0  0  0  0  0]\n",
      " [ 0  0  0  1  2 11 48 45 33  0  0  0  0  0  0  0  0  0  0  0]\n",
      " [ 0  0  0  0  2  2 34 18 11  0  0  0  0  0  0  0  0  0  0  0]\n",
      " [ 0  0  0  0  0  5 27 18  9  0  0  0  0  0  0  0  0  0  0  0]\n",
      " [ 0  0  0  0  1  2 10 14  6  0  0  0  0  0  0  0  0  0  0  0]\n",
      " [ 0  0  0  0  0  2 14  6  4  0  0  0  0  0  0  0  0  0  0  0]\n",
      " [ 0  0  0  0  0  1  6  7  8  0  0  0  0  0  0  0  0  0  0  0]\n",
      " [ 0  0  0  0  0  2  3  5  1  0  0  0  0  0  0  0  0  0  0  0]\n",
      " [ 0  0  0  0  0  0  3  6  3  0  0  0  0  0  0  0  0  0  0  0]\n",
      " [ 0  0  0  0  0  1  2  3  2  0  0  0  0  0  0  0  0  0  0  0]\n",
      " [ 0  0  0  0  0  0  2  2  1  0  0  0  0  0  0  0  0  0  0  0]\n",
      " [ 0  0  0  0  0  0  0  0  2  0  0  0  0  0  0  0  0  0  0  0]\n",
      " [ 0  0  0  0  0  0  0  0  2  0  0  0  0  0  0  0  0  0  0  0]]\n",
      "Accuracy :  25.3831417625\n",
      "Report :               precision    recall  f1-score   support\n",
      "\n",
      "          3       0.00      0.00      0.00         3\n",
      "          4       0.56      0.64      0.60        14\n",
      "          5       0.39      0.29      0.33        24\n",
      "          6       0.33      0.25      0.28        69\n",
      "          7       0.27      0.47      0.34        81\n",
      "          8       0.26      0.17      0.21       140\n",
      "          9       0.22      0.55      0.32       167\n",
      "         10       0.22      0.28      0.25       159\n",
      "         11       0.31      0.24      0.27       140\n",
      "         12       0.00      0.00      0.00        67\n",
      "         13       0.00      0.00      0.00        59\n",
      "         14       0.00      0.00      0.00        33\n",
      "         15       0.00      0.00      0.00        26\n",
      "         16       0.00      0.00      0.00        22\n",
      "         17       0.00      0.00      0.00        11\n",
      "         18       0.00      0.00      0.00        12\n",
      "         19       0.00      0.00      0.00         8\n",
      "         20       0.00      0.00      0.00         5\n",
      "         21       0.00      0.00      0.00         2\n",
      "         24       0.00      0.00      0.00         2\n",
      "\n",
      "avg / total       0.20      0.25      0.21      1044\n",
      "\n"
     ]
    },
    {
     "name": "stderr",
     "output_type": "stream",
     "text": [
      "C:\\Users\\Harlinton\\Anaconda3\\lib\\site-packages\\sklearn\\metrics\\classification.py:1135: UndefinedMetricWarning: Precision and F-score are ill-defined and being set to 0.0 in labels with no predicted samples.\n",
      "  'precision', 'predicted', average, warn_for)\n"
     ]
    }
   ],
   "source": [
    "print(\"Results Using pruning:\")\n",
    "tree_pruning = create_tree_pruning(X_train, y_train,v_names, option_create_tree)\n",
    "# Prediction using gini\n",
    "y_pred = prediction_tree(X_test,tree_pruning,option_prediction)\n",
    "cal_accuracy(y_test, y_pred)"
   ]
  }
 ],
 "metadata": {
  "kernelspec": {
   "display_name": "Python 3",
   "language": "python",
   "name": "python3"
  },
  "language_info": {
   "codemirror_mode": {
    "name": "ipython",
    "version": 3
   },
   "file_extension": ".py",
   "mimetype": "text/x-python",
   "name": "python",
   "nbconvert_exporter": "python",
   "pygments_lexer": "ipython3",
   "version": "3.7.1"
  }
 },
 "nbformat": 4,
 "nbformat_minor": 2
}
