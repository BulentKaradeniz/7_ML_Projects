{
 "cells": [
  {
   "cell_type": "code",
   "execution_count": null,
   "id": "91d5c7f5-3906-4a16-b9be-c5f1102691d1",
   "metadata": {},
   "outputs": [],
   "source": []
  },
  {
   "cell_type": "markdown",
   "id": "acf99609-d669-4788-a77f-086fb21cf892",
   "metadata": {},
   "source": [
    "## CSE455/CSE552 – Machine Learning (Spring 2024) Homework #2"
   ]
  },
  {
   "cell_type": "markdown",
   "id": "1ac9f28d-61ec-49c5-8f56-8576a0d884c8",
   "metadata": {},
   "source": [
    "''' \n",
    "Description: The aim of this homework is to get you acquainted with implementing a decision tree as discussed in class. Your implementation should be able to run on a data with two types of features (numeric and categorical).\n",
    "Use the following data for testing your implementation: (ABALONE - https://archive.ics.uci.edu/ml/machine-learning-databases/abalone/. You can use Python libraries to read this data file.\n",
    "This project is expecting you to write two functions. The first will take the training data including the type of features and returns a decision tree best modeling the classification problem. This should not do any pruning of the tree. An optional part of the homework will require the pruning step. The second function will just apply the decision tree to a given set of test data points.\n",
    "\n",
    "You should follow the following for this homework:\n",
    "\n",
    "1.Load the data and perform a quick analysis of what it is and what features it has. You will need to construct a vector indicating the type (values) of each of the features. In this case, you can assume that you have numeric (real or integer) and categorical values.\n",
    "\n",
    "2.Implement the function “build_dt(X, y, attribute_types, options)”.\n",
    "a.X: is the matrix of features/attributes for the training data. Each row includes a data sample.\n",
    "b.y: The vector containing the class labels for each sample in the rows of X.\n",
    "c.attribute_types: The vector containing (1: integer/real) or (2: categorical) indicating the type of each attributes (the columns of X).\n",
    "d.options: Any options you might want to pass to your decision tree builder.\n",
    "e.Returns a decision tree of the structure of your choice.\n",
    "\n",
    "3.Implement the function “predict_dt(dt, X, options)”.\n",
    "a.dt: The decision tree modeled by “build_dt” function.\n",
    "b.X: is the matrix of features/attributes for the test data.\n",
    "c.Returns a vector for the predicted class labels.\n",
    "\n",
    "4.Report the performance of your implementation using an appropriate k-fold cross validation using confusion matrices on the given dataset.\n",
    "\n",
    "5.Implement the pruning strategy discussed in the class. Repeat the steps 4 above. Indicate any assumptions you might have made. Repeat step 4.\n",
    "\n",
    "6.Implement the function “build_rdf(X, y, attribute_types, N, options)”.\n",
    "a.X: is the matrix of features/attributes for the training data. Each row includes a data sample.\n",
    "b.y: The vector containing the class labels for each sample in the rows of X.\n",
    "c.attribute_types: The vector containing (1: integer/real) or (2: categorical) indicating the type of each attributes (the columns of X).\n",
    "d.N: The number of trees.\n",
    "e.options: Any options you might want to pass to your decision tree builder.\n",
    "f.Returns a decision tree of the structure of your choice.\n",
    "\n",
    "7.Implement the function “predict_rdf(rdf, X, options)”.\n",
    "a.rdf: The decision tree modeled by “build_rdf” function.\n",
    "b.X: is the matrix of features/attributes for the test data.\n",
    "c.Returns a vector for the predicted class labels.\n",
    "\n",
    "8.Report the performance of your implementation using an appropriate k-fold cross validation using confusion matrices on the given dataset.'''"
   ]
  },
  {
   "cell_type": "code",
   "execution_count": null,
   "id": "560c64cf-a836-4642-954f-d823862db565",
   "metadata": {},
   "outputs": [],
   "source": []
  },
  {
   "cell_type": "code",
   "execution_count": null,
   "id": "7b5fe20e-4a4a-45ad-8bc3-0ff6978bb90b",
   "metadata": {},
   "outputs": [],
   "source": []
  },
  {
   "cell_type": "code",
   "execution_count": null,
   "id": "6d1b1b43-d882-4f17-9e20-b31acbee0a81",
   "metadata": {},
   "outputs": [],
   "source": []
  },
  {
   "cell_type": "code",
   "execution_count": null,
   "id": "9c65cb13-6f1c-4ae6-8f2c-654a50e23868",
   "metadata": {},
   "outputs": [],
   "source": []
  }
 ],
 "metadata": {
  "kernelspec": {
   "display_name": "Python 3 (ipykernel)",
   "language": "python",
   "name": "python3"
  },
  "language_info": {
   "codemirror_mode": {
    "name": "ipython",
    "version": 3
   },
   "file_extension": ".py",
   "mimetype": "text/x-python",
   "name": "python",
   "nbconvert_exporter": "python",
   "pygments_lexer": "ipython3",
   "version": "3.11.5"
  }
 },
 "nbformat": 4,
 "nbformat_minor": 5
}
